{
 "cells": [
  {
   "cell_type": "code",
   "execution_count": 1,
   "id": "9c22ab70",
   "metadata": {
    "_cell_guid": "b1076dfc-b9ad-4769-8c92-a6c4dae69d19",
    "_uuid": "8f2839f25d086af736a60e9eeb907d3b93b6e0e5",
    "execution": {
     "iopub.execute_input": "2025-09-08T05:15:00.663181Z",
     "iopub.status.busy": "2025-09-08T05:15:00.662055Z",
     "iopub.status.idle": "2025-09-08T05:15:02.581825Z",
     "shell.execute_reply": "2025-09-08T05:15:02.580489Z"
    },
    "papermill": {
     "duration": 1.933805,
     "end_time": "2025-09-08T05:15:02.583934",
     "exception": false,
     "start_time": "2025-09-08T05:15:00.650129",
     "status": "completed"
    },
    "tags": []
   },
   "outputs": [],
   "source": [
    "# This Python 3 environment comes with many helpful analytics libraries installed\n",
    "# It is defined by the kaggle/python Docker image: https://github.com/kaggle/docker-python\n",
    "# For example, here's several helpful packages to load\n",
    "\n",
    "import numpy as np # linear algebra\n",
    "import pandas as pd # data processing, CSV file I/O (e.g. pd.read_csv)\n",
    "\n",
    "# Input data files are available in the read-only \"../input/\" directory\n",
    "# For example, running this (by clicking run or pressing Shift+Enter) will list all files under the input directory\n",
    "\n",
    "import os\n",
    "for dirname, _, filenames in os.walk('/kaggle/input'):\n",
    "    for filename in filenames:\n",
    "        print(os.path.join(dirname, filename))\n",
    "\n",
    "# You can write up to 20GB to the current directory (/kaggle/working/) that gets preserved as output when you create a version using \"Save & Run All\" \n",
    "# You can also write temporary files to /kaggle/temp/, but they won't be saved outside of the current session"
   ]
  },
  {
   "cell_type": "markdown",
   "id": "6413f845",
   "metadata": {
    "papermill": {
     "duration": 0.004902,
     "end_time": "2025-09-08T05:15:02.594964",
     "exception": false,
     "start_time": "2025-09-08T05:15:02.590062",
     "status": "completed"
    },
    "tags": []
   },
   "source": [
    "# How Convolutional Neural Networks (CNNs) Work – End-to-End\n",
    "\n",
    "Convolutional Neural Networks (CNNs) are specialized deep learning models designed for **processing grid-like data**, such as images. They are highly effective in tasks like **image classification, object detection, and segmentation**. Here's a complete breakdown:\n",
    "\n",
    "---\n",
    "\n",
    "## 1. Input Layer\n",
    "- CNNs take images as input (e.g., 28x28 grayscale or 224x224 RGB).  \n",
    "- Represented as a 3D tensor: `(height, width, channels)`.  \n",
    "- Example: A 28x28 grayscale image has shape `(28,28,1)`.\n",
    "\n",
    "---\n",
    "\n",
    "## 2. Convolutional Layer\n",
    "- Applies **filters/kernels** to scan the input image.  \n",
    "- Each filter produces a **feature map**, highlighting patterns like edges, corners, or textures.  \n",
    "- Multiple filters extract multiple features simultaneously.  \n",
    "- Filters **share weights**, meaning the same filter is applied across the entire image, reducing parameters.  \n",
    "\n",
    "---\n",
    "\n",
    "## 3. Activation Function\n",
    "- Usually **ReLU (Rectified Linear Unit)** is applied after convolution.  \n",
    "- Adds non-linearity so the network can learn complex patterns.  \n",
    "- Helps the model approximate non-linear functions.\n",
    "\n",
    "---\n",
    "\n",
    "## 4. Pooling Layer\n",
    "- Reduces spatial dimensions (height & width) of feature maps.  \n",
    "- Common types: **Max Pooling** (takes the maximum value) or **Average Pooling**.  \n",
    "- Benefits:\n",
    "  1. Reduces computation.\n",
    "  2. Provides spatial invariance (detects features regardless of position).\n",
    "  3. Helps prevent overfitting.\n",
    "\n",
    "---\n",
    "\n",
    "## 5. Stacking Multiple Convolution + Pooling Layers\n",
    "- Deep CNNs stack multiple convolutional and pooling layers.  \n",
    "- Early layers detect **low-level features** (edges, textures).  \n",
    "- Deeper layers detect **high-level features** (shapes, objects).  \n",
    "- This hierarchical feature extraction makes CNNs very powerful for vision tasks.\n",
    "\n",
    "---\n",
    "\n",
    "## 6. Flattening Layer\n",
    "- Converts 2D feature maps into a **1D vector**.  \n",
    "- Prepares the data for **fully connected (dense) layers**.\n",
    "\n",
    "---\n",
    "\n",
    "## 7. Fully Connected (Dense) Layers\n",
    "- Acts like a traditional neural network.  \n",
    "- Combines features from convolution layers to make predictions.  \n",
    "- Example:\n",
    "  - `softmax` activation for multi-class classification.  \n",
    "  - `sigmoid` activation for binary classification.\n",
    "\n",
    "---\n",
    "\n",
    "## 8. Output Layer\n",
    "- Produces final predictions.  \n",
    "- Model is trained using **backpropagation** with a suitable **loss function**, e.g., `categorical_crossentropy` for multi-class tasks.  \n",
    "\n",
    "---\n",
    "\n",
    "## 9. Key Concepts\n",
    "1. **Local Receptive Fields** – Each neuron looks at a small region of the input.  \n",
    "2. **Shared Weights / Filters** – Reduces parameters and captures patterns across the entire image.  \n",
    "3. **Spatial Hierarchy** – Early layers capture basic patterns, deeper layers capture complex structures.  \n",
    "4. **Translation Invariance** – CNN can recognize objects regardless of their position in the image.\n",
    "\n",
    "---\n",
    "\n",
    "## 10. Summary\n",
    "- CNNs are ideal for **image and spatial data**.  \n",
    "- Core building blocks: **Convolution → ReLU → Pooling → Flatten → Dense → Output**.  \n",
    "- By learning hierarchical features automatically, CNNs outperform traditional methods in vision tasks.\n"
   ]
  },
  {
   "cell_type": "markdown",
   "id": "9b880a7f",
   "metadata": {
    "papermill": {
     "duration": 0.004689,
     "end_time": "2025-09-08T05:15:02.605237",
     "exception": false,
     "start_time": "2025-09-08T05:15:02.600548",
     "status": "completed"
    },
    "tags": []
   },
   "source": [
    "# 🧠 How CNN Works\n",
    "\n",
    "CNN (**Convolutional Neural Network**) is designed for **images** and other grid-like data.  \n",
    "The goal is:\n",
    "\n",
    "1. **Extract features** automatically from the image (edges → shapes → objects).  \n",
    "2. Use these features for **classification, detection, or recognition**.  \n",
    "\n",
    "---\n",
    "\n",
    "## 🔹 Step 1: Input Image\n",
    "- An image is basically a **matrix of pixel values**.  \n",
    "- Example:  \n",
    "  - Grayscale → 28×28 (1 channel).  \n",
    "  - RGB → 28×28×3 (3 channels: Red, Green, Blue).  \n",
    "\n",
    "---\n",
    "\n",
    "## 🔹 Step 2: Convolution Layer (Filters/Kernels)\n",
    "This is the **heart of CNN**.  \n",
    "\n",
    "- A **filter (kernel)** is a small matrix (like 3×3 or 5×5).  \n",
    "- It **slides (convolves)** over the image, performing element-wise multiplication + sum.  \n",
    "- Result → **Feature Map** (new image that highlights certain features).  \n",
    "\n",
    "👉 Example: Suppose we have a 3×3 edge-detection filter:  \n",
    "\n",
    "\\[\n",
    "\\begin{bmatrix}\n",
    "-1 & -1 & -1 \\\\\n",
    "0 & 0 & 0 \\\\\n",
    "1 & 1 & 1\n",
    "\\end{bmatrix}\n",
    "\\]\n",
    "\n",
    "When this slides over the image:\n",
    "- It gives **high values at horizontal edges**.  \n",
    "- Similar filters exist for vertical edges, diagonal lines, curves, etc.  \n",
    "\n",
    "➡️ **Filters act like feature detectors**: first detecting edges, then shapes, then complex objects as you go deeper.  \n",
    "\n",
    "---\n",
    "\n",
    "## 🔹 Step 3: Activation Function (ReLU)\n",
    "- After convolution, values can be negative.  \n",
    "- Apply **ReLU (Rectified Linear Unit):**  \n",
    "\n",
    "\\[\n",
    "f(x) = \\max(0, x)\n",
    "\\]\n",
    "\n",
    "- Keeps only **positive features** (important signals).  \n",
    "- Ignores **negative values** (noise).  \n",
    "\n",
    "---\n",
    "\n",
    "## 🔹 Step 4: Pooling Layer (Downsampling)\n",
    "- **Purpose:** Reduce size of feature maps (makes computation faster, prevents overfitting).  \n",
    "- Example: **Max Pooling (2×2)** → Take the max value in each 2×2 region.  \n",
    "- A 28×28 feature map becomes 14×14.  \n",
    "\n",
    "👉 Think of it as:  \n",
    "- **Convolution = \"What features exist?\"**  \n",
    "- **Pooling = \"Where roughly do they exist?\"**  \n",
    "\n",
    "---\n",
    "\n",
    "## 🔹 Step 5: Stacking Layers\n",
    "- CNNs use **multiple convolution + pooling layers**.  \n",
    "- Early layers → detect **edges/lines**.  \n",
    "- Middle layers → detect **shapes/textures**.  \n",
    "- Deeper layers → detect **complex objects (face, digit, cat, etc.)**.  \n",
    "\n",
    "---\n",
    "\n",
    "## 🔹 Step 6: Fully Connected (Dense) Layer\n",
    "- Flatten feature maps into a **vector**.  \n",
    "- Connect to neurons like in a normal NN.  \n",
    "- Apply **Softmax** (or Sigmoid) for final prediction.  \n",
    "\n",
    "👉 Example:  \n",
    "- For MNIST → 10 output neurons (digits 0–9).  \n",
    "- Softmax gives **probability distribution across classes**.  \n",
    "\n",
    "---\n",
    "\n",
    "## 🔎 Intuition Behind Filters\n",
    "- Imagine looking at an image:  \n",
    "  1. First, you notice **edges**.  \n",
    "  2. Then you combine them into **shapes**.  \n",
    "  3. Finally, you recognize the **object**.  \n",
    "\n",
    "- CNN filters **learn these detectors automatically** during training.  \n",
    "- They start as random numbers → training updates them via **backpropagation + gradient descent**.  \n",
    "\n",
    "---\n",
    "\n",
    "## 🚀 CNN Flow Summary\n",
    "**Image → Convolution (filters) → ReLU → Pooling → (Repeat layers) → Flatten → Fully Connected → Softmax → Output Prediction**\n"
   ]
  },
  {
   "cell_type": "markdown",
   "id": "4d96908b",
   "metadata": {
    "papermill": {
     "duration": 0.004586,
     "end_time": "2025-09-08T05:15:02.614668",
     "exception": false,
     "start_time": "2025-09-08T05:15:02.610082",
     "status": "completed"
    },
    "tags": []
   },
   "source": [
    "# ⚙️ Convolution Layer: Filters, Stride, and Padding  \n",
    "\n",
    "---\n",
    "\n",
    "## 🔹 1. Filters (Kernels)\n",
    "- Small matrices (e.g., 3×3, 5×5).  \n",
    "- Slide across the image, performing **dot product** with the local region.  \n",
    "- Detect features (edges, curves, textures).  \n",
    "- Each filter learns **different features** during training.  \n",
    "- Multiple filters → multiple feature maps.  \n",
    "\n",
    "---\n",
    "\n",
    "## 🔹 2. Stride\n",
    "- **Stride = how many steps the filter moves** across the image.  \n",
    "\n",
    "👉 Example:  \n",
    "- **Stride = 1** → filter moves **1 pixel at a time** → more overlap, larger feature map.  \n",
    "- **Stride = 2** → filter moves **2 pixels at a time** → less overlap, smaller feature map.  \n",
    "\n",
    "📌 Effect: Higher stride → smaller output feature map, faster but less detail.  \n",
    "\n",
    "---\n",
    "\n",
    "## 🔹 3. Padding\n",
    "When filters slide over the image, edges might get ignored. Padding solves this:  \n",
    "\n",
    "- **No Padding (Valid Convolution)**  \n",
    "  - Filter only slides where it fully fits.  \n",
    "  - Output size becomes **smaller** than input.  \n",
    "\n",
    "- **Zero Padding (Same Convolution)**  \n",
    "  - Add zeros around image borders.  \n",
    "  - Preserves **input size** after convolution.  \n",
    "\n",
    "---\n",
    "\n",
    "## 🔹 4. Formula for Output Size\n",
    "\\[\n",
    "O = \\frac{(W - F + 2P)}{S} + 1\n",
    "\\]\n",
    "\n",
    "Where:  \n",
    "- \\( W \\) = Input size  \n",
    "- \\( F \\) = Filter size  \n",
    "- \\( P \\) = Padding  \n",
    "- \\( S \\) = Stride  \n",
    "\n",
    "---\n",
    "\n",
    "## 🔹 5. Example\n",
    "\n",
    "- **Case 1:** Input = 5×5, Filter = 3×3, Stride = 1, Padding = 0  \n",
    "  \\[\n",
    "  O = \\frac{(5 - 3 + 0)}{1} + 1 = 3\n",
    "  \\]  \n",
    "  ➝ Output = 3×3 feature map  \n",
    "\n",
    "- **Case 2:** Input = 5×5, Filter = 3×3, Stride = 1, Padding = 1  \n",
    "  \\[\n",
    "  O = \\frac{(5 - 3 + 2)}{1} + 1 = 5\n",
    "  \\]  \n",
    "  ➝ Output = 5×5 feature map (same as input)  \n",
    "\n",
    "- **Case 3:** Input = 5×5, Filter = 3×3, Stride = 2, Padding = 0  \n",
    "  \\[\n",
    "  O = \\frac{(5 - 3 + 0)}{2} + 1 = 2\n",
    "  \\]  \n",
    "  ➝ Output = 2×2 feature map  \n",
    "\n",
    "---\n",
    "\n",
    "## 🔹 Intuition\n",
    "- **Stride** → how fast you \"walk\" the filter across the image.  \n",
    "- **Padding** → whether you \"frame\" the image with extra borders to avoid losing edge information.  \n",
    "\n",
    "---\n",
    "\n",
    "✅ In practice:  \n",
    "- Use **Stride = 1** and **Padding = Same** → keeps feature maps large and detailed.  \n",
    "- Use **Stride > 1** → downsamples and reduces computation.  \n"
   ]
  },
  {
   "cell_type": "markdown",
   "id": "f2b81758",
   "metadata": {
    "papermill": {
     "duration": 0.004884,
     "end_time": "2025-09-08T05:15:02.625295",
     "exception": false,
     "start_time": "2025-09-08T05:15:02.620411",
     "status": "completed"
    },
    "tags": []
   },
   "source": [
    "# Convolutional Neural Networks (CNN) Architecture\n",
    "\n",
    "CNNs are a class of deep neural networks designed to process **grid-like data** such as images.  \n",
    "They automatically learn **spatial hierarchies of features** (edges → textures → shapes → objects) using layers specialized for image processing.  \n",
    "\n",
    "---\n",
    "\n",
    "## 🔹 Key Components of CNN\n",
    "\n",
    "1. **Input Layer**\n",
    "   - Takes image data (e.g., 28x28 grayscale or 224x224 RGB).\n",
    "   - For RGB images: shape is `Height × Width × Channels`.\n",
    "\n",
    "2. **Convolutional Layer**\n",
    "   - Applies **filters/kernels** (small learnable matrices, e.g., 3×3, 5×5) that slide over the image.\n",
    "   - Produces a **feature map** by detecting local patterns (edges, textures, etc.).\n",
    "   - Formula for output size:\n",
    "     $\\[\n",
    "     O = \\frac{(W - F + 2P)}{S} + 1\n",
    "     \\]$\n",
    "     where `W=Input size`, `F=Filter size`, `P=Padding`, `S=Stride`.\n",
    "\n",
    "3. **Activation Function (ReLU)**\n",
    "   - Adds **non-linearity**.\n",
    "   - ReLU: $\\( f(x) = \\max(0, x) \\)$.\n",
    "\n",
    "4. **Pooling Layer (Downsampling)**\n",
    "   - Reduces spatial dimensions, keeping important info.\n",
    "   - Common: **Max Pooling** (takes max value in a region).\n",
    "   - Example: 2×2 pooling reduces a 28×28 feature map to 14×14.\n",
    "\n",
    "5. **Fully Connected Layer (Dense)**\n",
    "   - Flattens the feature maps into a vector.\n",
    "   - Connects to neurons like in standard neural networks.\n",
    "   - Performs classification using **Softmax** or **Sigmoid**.\n",
    "\n",
    "6. **Output Layer**\n",
    "   - Produces final prediction probabilities for classes.\n",
    "\n",
    "---\n",
    "\n",
    "## 🔹 CNN Flow\n",
    "\n",
    "**Input Image → Convolution → ReLU → Pooling → (Repeat) → Flatten → Fully Connected → Output**\n",
    "\n",
    "---\n",
    "\n",
    "## 🔹 LeNet-5 Architecture (1998, by Yann LeCun)\n",
    "\n",
    "LeNet was one of the first successful CNNs, used for digit recognition (MNIST dataset).  \n",
    "\n",
    "**Architecture:**\n",
    "1. **Input** → 32×32 grayscale image  \n",
    "2. **C1 (Convolution)** → 6 filters (5×5) → output: 28×28×6  \n",
    "3. **S2 (Subsampling/Pooling)** → Avg Pooling 2×2 → output: 14×14×6  \n",
    "4. **C3 (Convolution)** → 16 filters (5×5) → output: 10×10×16  \n",
    "5. **S4 (Subsampling/Pooling)** → Avg Pooling 2×2 → output: 5×5×16  \n",
    "6. **C5 (Convolution)** → 120 filters (5×5) → output: 1×1×120  \n",
    "7. **F6 (Fully Connected)** → 84 neurons  \n",
    "8. **Output Layer** → 10 neurons (for digits 0–9) with **Softmax**\n",
    "\n",
    "---\n",
    "\n",
    "## 🔹 LeNet Architecture Diagram (Flow)\n",
    "\n",
    "# Input (32×32)\n",
    "# ↓\n",
    "# C1: Conv (6@28×28)\n",
    "# ↓\n",
    "# S2: AvgPool (6@14×14)\n",
    "# ↓\n",
    "# C3: Conv (16@10×10)\n",
    "# ↓\n",
    "# S4: AvgPool (16@5×5)\n",
    "# ↓\n",
    "# C5: Conv (120@1×1)\n",
    "# ↓\n",
    "# F6: Fully Connected (84)\n",
    "\n",
    "\n",
    "\n",
    "---\n",
    "\n",
    "## 🔹 Summary\n",
    "\n",
    "- CNNs extract features hierarchically (edges → shapes → objects).  \n",
    "- Convolution + Pooling layers **reduce dimensions** and preserve patterns.  \n",
    "- LeNet was the **first breakthrough CNN**, inspiring modern architectures like AlexNet, VGG, ResNet, etc.  \n"
   ]
  },
  {
   "cell_type": "markdown",
   "id": "515b3e14",
   "metadata": {
    "execution": {
     "iopub.execute_input": "2025-09-07T03:14:50.257217Z",
     "iopub.status.busy": "2025-09-07T03:14:50.256843Z",
     "iopub.status.idle": "2025-09-07T03:14:50.263816Z",
     "shell.execute_reply": "2025-09-07T03:14:50.262182Z",
     "shell.execute_reply.started": "2025-09-07T03:14:50.257170Z"
    },
    "papermill": {
     "duration": 0.004744,
     "end_time": "2025-09-08T05:15:02.634897",
     "exception": false,
     "start_time": "2025-09-08T05:15:02.630153",
     "status": "completed"
    },
    "tags": []
   },
   "source": [
    "# Convolution Stride & Padding Demo\n",
    "\n",
    "This GIF shows how **stride** and **padding** affect convolution output:\n",
    "\n",
    "- **Stride:** Controls how far the filter moves each step. Larger stride → faster but coarser output.  \n",
    "- **Padding:** Adds pixels around the image borders to preserve size and edge information.\n",
    "\n",
    "![Conv Padding Demo](https://raw.githubusercontent.com/vdumoulin/conv_arithmetic/master/gif/arbitrary_padding_no_strides.gif)\n"
   ]
  },
  {
   "cell_type": "markdown",
   "id": "73a4ed8a",
   "metadata": {
    "papermill": {
     "duration": 0.005026,
     "end_time": "2025-09-08T05:15:02.644776",
     "exception": false,
     "start_time": "2025-09-08T05:15:02.639750",
     "status": "completed"
    },
    "tags": []
   },
   "source": [
    "# Pooling in CNNs\n",
    "\n",
    "**Pooling** is a **downsampling operation** applied to feature maps (outputs of convolutional layers) to reduce their **spatial dimensions** while retaining important information. Pooling **does not learn weights** — it’s a fixed function applied to small windows of the feature map.\n",
    "\n",
    "---\n",
    "\n",
    "## Why Pooling is Used\n",
    "1. **Reduce computational cost:** Smaller feature maps → fewer calculations in later layers.  \n",
    "2. **Reduce overfitting:** Less spatial data reduces memorizing noise.  \n",
    "3. **Make features more robust:** Provides **translation invariance** to small shifts or distortions.  \n",
    "4. **Downsampling:** Helps the network focus on **important high-level features**.\n",
    "\n",
    "---\n",
    "\n",
    "## Types of Pooling\n",
    "\n",
    "### 1️⃣ Max Pooling\n",
    "- Takes the **maximum value** in the window.  \n",
    "- Captures the **strongest feature** in that region.  \n",
    "- **Example (2×2 window):**\n",
    "- Input: [[1,3],\n",
    "       [2,4]]\n",
    "    Max pooling → 4\n",
    "\n",
    "  \n",
    "### 2️⃣ Average Pooling\n",
    "- Takes the **average value** in the window.  \n",
    "- Smooths the features instead of picking the strongest.  \n",
    "- **Example (2×2 window):**\n",
    "    Input: [[1,3],\n",
    "            [2,4]]\n",
    "Average pooling → 2.5\n",
    "\n",
    "\n",
    "### 3️⃣ Global Pooling\n",
    "- Pooling over the **entire feature map**.  \n",
    "- Outputs **one value per channel**.  \n",
    "- Often used before fully connected layers to reduce parameters.\n",
    "\n",
    "---\n",
    "\n",
    "## Key Hyperparameters\n",
    "- **Pool size:** The window size (commonly 2×2).  \n",
    "- **Stride:** How far the window moves (commonly equal to pool size).  \n",
    "- **Padding:** Usually `valid` (no padding).  \n",
    "\n",
    "---\n",
    "\n",
    "## Effect on Feature Maps\n",
    "- Reduces **height × width**.  \n",
    "- Keeps **depth/channels** the same.  \n",
    "- Helps the network **focus on important patterns** while discarding less relevant details.\n",
    "\n",
    "---\n",
    "\n",
    "## Example in Keras\n",
    "```python\n",
    "from tensorflow.keras.models import Sequential\n",
    "from tensorflow.keras.layers import Conv2D, MaxPooling2D\n",
    "\n",
    "model = Sequential()\n",
    "model.add(Conv2D(32, (3,3), activation='relu', input_shape=(28,28,1)))\n",
    "model.add(MaxPooling2D(pool_size=(2,2)))  # Reduces H×W by 2\n",
    "\n",
    "```\n",
    "💡 Analogy:\n",
    "Think of a photo as a big map of numbers. Pooling is like looking at small tiles and only keeping the brightest spot (max) or average color (average pooling). You shrink the map, but still keep the important info."
   ]
  },
  {
   "cell_type": "markdown",
   "id": "86eb8ae2",
   "metadata": {
    "papermill": {
     "duration": 0.005542,
     "end_time": "2025-09-08T05:15:02.655152",
     "exception": false,
     "start_time": "2025-09-08T05:15:02.649610",
     "status": "completed"
    },
    "tags": []
   },
   "source": [
    "# Pooling in CNNs (Compact)\n",
    "\n",
    "**Pooling** downsamples feature maps to reduce spatial dimensions while keeping important info. It **does not learn weights**.\n",
    "\n",
    "---\n",
    "\n",
    "### Types\n",
    "- **Max Pooling:** Keeps the strongest value in a window (e.g., 2×2 → max).  \n",
    "- **Average Pooling:** Averages values in the window.  \n",
    "- **Global Pooling:** Pools over the entire feature map → 1 value per channel.\n",
    "\n",
    "---\n",
    "\n",
    "### Key Points\n",
    "| Concept         | Purpose/Effect                           |\n",
    "|-----------------|-----------------------------------------|\n",
    "| Pooling         | Downsampling, reduce spatial size       |\n",
    "| Max Pooling     | Keep strongest feature                   |\n",
    "| Average Pooling | Keep average info / smooth features     |\n",
    "| Global Pooling  | Reduce each channel to 1 value          |\n",
    "| Stride          | Moves pooling window; larger stride → smaller output |\n",
    "| Padding         | Usually `valid`; rarely used            |\n",
    "\n",
    "---\n",
    "\n",
    "**Example in Keras:**\n",
    "```python\n",
    "from tensorflow.keras.models import Sequential\n",
    "from tensorflow.keras.layers import Conv2D, MaxPooling2D\n",
    "\n",
    "model = Sequential()\n",
    "model.add(Conv2D(32, (3,3), activation='relu', input_shape=(28,28,1)))\n",
    "model.add(MaxPooling2D(pool_size=(2,2)))  # Reduces H×W by 2\n"
   ]
  },
  {
   "cell_type": "code",
   "execution_count": 2,
   "id": "ec13f1c3",
   "metadata": {
    "execution": {
     "iopub.execute_input": "2025-09-08T05:15:02.666783Z",
     "iopub.status.busy": "2025-09-08T05:15:02.666307Z",
     "iopub.status.idle": "2025-09-08T05:15:19.884803Z",
     "shell.execute_reply": "2025-09-08T05:15:19.883723Z"
    },
    "papermill": {
     "duration": 17.226051,
     "end_time": "2025-09-08T05:15:19.886382",
     "exception": false,
     "start_time": "2025-09-08T05:15:02.660331",
     "status": "completed"
    },
    "tags": []
   },
   "outputs": [
    {
     "name": "stderr",
     "output_type": "stream",
     "text": [
      "2025-09-08 05:15:04.273224: E external/local_xla/xla/stream_executor/cuda/cuda_fft.cc:477] Unable to register cuFFT factory: Attempting to register factory for plugin cuFFT when one has already been registered\n",
      "WARNING: All log messages before absl::InitializeLog() is called are written to STDERR\n",
      "E0000 00:00:1757308504.479094      13 cuda_dnn.cc:8310] Unable to register cuDNN factory: Attempting to register factory for plugin cuDNN when one has already been registered\n",
      "E0000 00:00:1757308504.543427      13 cuda_blas.cc:1418] Unable to register cuBLAS factory: Attempting to register factory for plugin cuBLAS when one has already been registered\n"
     ]
    }
   ],
   "source": [
    "import tensorflow \n",
    "from tensorflow import keras \n",
    "from keras.layers import Conv2D,Dense,Flatten,MaxPooling2D\n",
    "from keras import Sequential\n",
    "from keras.datasets import mnist"
   ]
  },
  {
   "cell_type": "code",
   "execution_count": 3,
   "id": "fce591ba",
   "metadata": {
    "execution": {
     "iopub.execute_input": "2025-09-08T05:15:19.898460Z",
     "iopub.status.busy": "2025-09-08T05:15:19.897897Z",
     "iopub.status.idle": "2025-09-08T05:15:20.357450Z",
     "shell.execute_reply": "2025-09-08T05:15:20.356425Z"
    },
    "papermill": {
     "duration": 0.467485,
     "end_time": "2025-09-08T05:15:20.359326",
     "exception": false,
     "start_time": "2025-09-08T05:15:19.891841",
     "status": "completed"
    },
    "tags": []
   },
   "outputs": [
    {
     "name": "stdout",
     "output_type": "stream",
     "text": [
      "Downloading data from https://storage.googleapis.com/tensorflow/tf-keras-datasets/mnist.npz\n",
      "\u001b[1m11490434/11490434\u001b[0m \u001b[32m━━━━━━━━━━━━━━━━━━━━\u001b[0m\u001b[37m\u001b[0m \u001b[1m0s\u001b[0m 0us/step\n"
     ]
    }
   ],
   "source": [
    "(X_train,Y_train),(X_test,Y_test)=mnist.load_data()"
   ]
  },
  {
   "cell_type": "code",
   "execution_count": 4,
   "id": "63e96df7",
   "metadata": {
    "execution": {
     "iopub.execute_input": "2025-09-08T05:15:20.382689Z",
     "iopub.status.busy": "2025-09-08T05:15:20.382313Z",
     "iopub.status.idle": "2025-09-08T05:15:20.389191Z",
     "shell.execute_reply": "2025-09-08T05:15:20.388170Z"
    },
    "papermill": {
     "duration": 0.025452,
     "end_time": "2025-09-08T05:15:20.390987",
     "exception": false,
     "start_time": "2025-09-08T05:15:20.365535",
     "status": "completed"
    },
    "tags": []
   },
   "outputs": [],
   "source": [
    "model=Sequential()"
   ]
  },
  {
   "cell_type": "code",
   "execution_count": 5,
   "id": "56c498e3",
   "metadata": {
    "execution": {
     "iopub.execute_input": "2025-09-08T05:15:20.404046Z",
     "iopub.status.busy": "2025-09-08T05:15:20.403695Z",
     "iopub.status.idle": "2025-09-08T05:15:20.410647Z",
     "shell.execute_reply": "2025-09-08T05:15:20.409805Z"
    },
    "papermill": {
     "duration": 0.015524,
     "end_time": "2025-09-08T05:15:20.412132",
     "exception": false,
     "start_time": "2025-09-08T05:15:20.396608",
     "status": "completed"
    },
    "tags": []
   },
   "outputs": [
    {
     "data": {
      "text/plain": [
       "(60000, 28, 28)"
      ]
     },
     "execution_count": 5,
     "metadata": {},
     "output_type": "execute_result"
    }
   ],
   "source": [
    "X_train.shape"
   ]
  },
  {
   "cell_type": "code",
   "execution_count": 6,
   "id": "a9e4e558",
   "metadata": {
    "execution": {
     "iopub.execute_input": "2025-09-08T05:15:20.430519Z",
     "iopub.status.busy": "2025-09-08T05:15:20.429424Z",
     "iopub.status.idle": "2025-09-08T05:15:20.585051Z",
     "shell.execute_reply": "2025-09-08T05:15:20.583998Z"
    },
    "papermill": {
     "duration": 0.168405,
     "end_time": "2025-09-08T05:15:20.586686",
     "exception": false,
     "start_time": "2025-09-08T05:15:20.418281",
     "status": "completed"
    },
    "tags": []
   },
   "outputs": [
    {
     "name": "stderr",
     "output_type": "stream",
     "text": [
      "/usr/local/lib/python3.11/dist-packages/keras/src/layers/convolutional/base_conv.py:107: UserWarning: Do not pass an `input_shape`/`input_dim` argument to a layer. When using Sequential models, prefer using an `Input(shape)` object as the first layer in the model instead.\n",
      "  super().__init__(activity_regularizer=activity_regularizer, **kwargs)\n",
      "2025-09-08 05:15:20.444091: E external/local_xla/xla/stream_executor/cuda/cuda_driver.cc:152] failed call to cuInit: INTERNAL: CUDA error: Failed call to cuInit: UNKNOWN ERROR (303)\n"
     ]
    }
   ],
   "source": [
    "model.add(Conv2D(32,kernel_size=(3,3),padding='valid',activation='relu',input_shape=(28,28,1)))\n",
    "model.add(Conv2D(32,kernel_size=(3,3),padding='valid',activation='relu'))\n",
    "model.add(Conv2D(32,kernel_size=(3,3),padding='valid',activation='relu'))\n",
    "\n",
    "model.add(Flatten())\n",
    "model.add(Dense(128,activation=\"relu\"))\n",
    "model.add(Dense(10,activation='softmax'))"
   ]
  },
  {
   "cell_type": "code",
   "execution_count": 7,
   "id": "87480ae2",
   "metadata": {
    "execution": {
     "iopub.execute_input": "2025-09-08T05:15:20.603578Z",
     "iopub.status.busy": "2025-09-08T05:15:20.602511Z",
     "iopub.status.idle": "2025-09-08T05:15:20.626715Z",
     "shell.execute_reply": "2025-09-08T05:15:20.625915Z"
    },
    "papermill": {
     "duration": 0.035704,
     "end_time": "2025-09-08T05:15:20.628177",
     "exception": false,
     "start_time": "2025-09-08T05:15:20.592473",
     "status": "completed"
    },
    "tags": []
   },
   "outputs": [
    {
     "data": {
      "text/html": [
       "<pre style=\"white-space:pre;overflow-x:auto;line-height:normal;font-family:Menlo,'DejaVu Sans Mono',consolas,'Courier New',monospace\"><span style=\"font-weight: bold\">Model: \"sequential\"</span>\n",
       "</pre>\n"
      ],
      "text/plain": [
       "\u001b[1mModel: \"sequential\"\u001b[0m\n"
      ]
     },
     "metadata": {},
     "output_type": "display_data"
    },
    {
     "data": {
      "text/html": [
       "<pre style=\"white-space:pre;overflow-x:auto;line-height:normal;font-family:Menlo,'DejaVu Sans Mono',consolas,'Courier New',monospace\">┏━━━━━━━━━━━━━━━━━━━━━━━━━━━━━━━━━┳━━━━━━━━━━━━━━━━━━━━━━━━┳━━━━━━━━━━━━━━━┓\n",
       "┃<span style=\"font-weight: bold\"> Layer (type)                    </span>┃<span style=\"font-weight: bold\"> Output Shape           </span>┃<span style=\"font-weight: bold\">       Param # </span>┃\n",
       "┡━━━━━━━━━━━━━━━━━━━━━━━━━━━━━━━━━╇━━━━━━━━━━━━━━━━━━━━━━━━╇━━━━━━━━━━━━━━━┩\n",
       "│ conv2d (<span style=\"color: #0087ff; text-decoration-color: #0087ff\">Conv2D</span>)                 │ (<span style=\"color: #00d7ff; text-decoration-color: #00d7ff\">None</span>, <span style=\"color: #00af00; text-decoration-color: #00af00\">26</span>, <span style=\"color: #00af00; text-decoration-color: #00af00\">26</span>, <span style=\"color: #00af00; text-decoration-color: #00af00\">32</span>)     │           <span style=\"color: #00af00; text-decoration-color: #00af00\">320</span> │\n",
       "├─────────────────────────────────┼────────────────────────┼───────────────┤\n",
       "│ conv2d_1 (<span style=\"color: #0087ff; text-decoration-color: #0087ff\">Conv2D</span>)               │ (<span style=\"color: #00d7ff; text-decoration-color: #00d7ff\">None</span>, <span style=\"color: #00af00; text-decoration-color: #00af00\">24</span>, <span style=\"color: #00af00; text-decoration-color: #00af00\">24</span>, <span style=\"color: #00af00; text-decoration-color: #00af00\">32</span>)     │         <span style=\"color: #00af00; text-decoration-color: #00af00\">9,248</span> │\n",
       "├─────────────────────────────────┼────────────────────────┼───────────────┤\n",
       "│ conv2d_2 (<span style=\"color: #0087ff; text-decoration-color: #0087ff\">Conv2D</span>)               │ (<span style=\"color: #00d7ff; text-decoration-color: #00d7ff\">None</span>, <span style=\"color: #00af00; text-decoration-color: #00af00\">22</span>, <span style=\"color: #00af00; text-decoration-color: #00af00\">22</span>, <span style=\"color: #00af00; text-decoration-color: #00af00\">32</span>)     │         <span style=\"color: #00af00; text-decoration-color: #00af00\">9,248</span> │\n",
       "├─────────────────────────────────┼────────────────────────┼───────────────┤\n",
       "│ flatten (<span style=\"color: #0087ff; text-decoration-color: #0087ff\">Flatten</span>)               │ (<span style=\"color: #00d7ff; text-decoration-color: #00d7ff\">None</span>, <span style=\"color: #00af00; text-decoration-color: #00af00\">15488</span>)          │             <span style=\"color: #00af00; text-decoration-color: #00af00\">0</span> │\n",
       "├─────────────────────────────────┼────────────────────────┼───────────────┤\n",
       "│ dense (<span style=\"color: #0087ff; text-decoration-color: #0087ff\">Dense</span>)                   │ (<span style=\"color: #00d7ff; text-decoration-color: #00d7ff\">None</span>, <span style=\"color: #00af00; text-decoration-color: #00af00\">128</span>)            │     <span style=\"color: #00af00; text-decoration-color: #00af00\">1,982,592</span> │\n",
       "├─────────────────────────────────┼────────────────────────┼───────────────┤\n",
       "│ dense_1 (<span style=\"color: #0087ff; text-decoration-color: #0087ff\">Dense</span>)                 │ (<span style=\"color: #00d7ff; text-decoration-color: #00d7ff\">None</span>, <span style=\"color: #00af00; text-decoration-color: #00af00\">10</span>)             │         <span style=\"color: #00af00; text-decoration-color: #00af00\">1,290</span> │\n",
       "└─────────────────────────────────┴────────────────────────┴───────────────┘\n",
       "</pre>\n"
      ],
      "text/plain": [
       "┏━━━━━━━━━━━━━━━━━━━━━━━━━━━━━━━━━┳━━━━━━━━━━━━━━━━━━━━━━━━┳━━━━━━━━━━━━━━━┓\n",
       "┃\u001b[1m \u001b[0m\u001b[1mLayer (type)                   \u001b[0m\u001b[1m \u001b[0m┃\u001b[1m \u001b[0m\u001b[1mOutput Shape          \u001b[0m\u001b[1m \u001b[0m┃\u001b[1m \u001b[0m\u001b[1m      Param #\u001b[0m\u001b[1m \u001b[0m┃\n",
       "┡━━━━━━━━━━━━━━━━━━━━━━━━━━━━━━━━━╇━━━━━━━━━━━━━━━━━━━━━━━━╇━━━━━━━━━━━━━━━┩\n",
       "│ conv2d (\u001b[38;5;33mConv2D\u001b[0m)                 │ (\u001b[38;5;45mNone\u001b[0m, \u001b[38;5;34m26\u001b[0m, \u001b[38;5;34m26\u001b[0m, \u001b[38;5;34m32\u001b[0m)     │           \u001b[38;5;34m320\u001b[0m │\n",
       "├─────────────────────────────────┼────────────────────────┼───────────────┤\n",
       "│ conv2d_1 (\u001b[38;5;33mConv2D\u001b[0m)               │ (\u001b[38;5;45mNone\u001b[0m, \u001b[38;5;34m24\u001b[0m, \u001b[38;5;34m24\u001b[0m, \u001b[38;5;34m32\u001b[0m)     │         \u001b[38;5;34m9,248\u001b[0m │\n",
       "├─────────────────────────────────┼────────────────────────┼───────────────┤\n",
       "│ conv2d_2 (\u001b[38;5;33mConv2D\u001b[0m)               │ (\u001b[38;5;45mNone\u001b[0m, \u001b[38;5;34m22\u001b[0m, \u001b[38;5;34m22\u001b[0m, \u001b[38;5;34m32\u001b[0m)     │         \u001b[38;5;34m9,248\u001b[0m │\n",
       "├─────────────────────────────────┼────────────────────────┼───────────────┤\n",
       "│ flatten (\u001b[38;5;33mFlatten\u001b[0m)               │ (\u001b[38;5;45mNone\u001b[0m, \u001b[38;5;34m15488\u001b[0m)          │             \u001b[38;5;34m0\u001b[0m │\n",
       "├─────────────────────────────────┼────────────────────────┼───────────────┤\n",
       "│ dense (\u001b[38;5;33mDense\u001b[0m)                   │ (\u001b[38;5;45mNone\u001b[0m, \u001b[38;5;34m128\u001b[0m)            │     \u001b[38;5;34m1,982,592\u001b[0m │\n",
       "├─────────────────────────────────┼────────────────────────┼───────────────┤\n",
       "│ dense_1 (\u001b[38;5;33mDense\u001b[0m)                 │ (\u001b[38;5;45mNone\u001b[0m, \u001b[38;5;34m10\u001b[0m)             │         \u001b[38;5;34m1,290\u001b[0m │\n",
       "└─────────────────────────────────┴────────────────────────┴───────────────┘\n"
      ]
     },
     "metadata": {},
     "output_type": "display_data"
    },
    {
     "data": {
      "text/html": [
       "<pre style=\"white-space:pre;overflow-x:auto;line-height:normal;font-family:Menlo,'DejaVu Sans Mono',consolas,'Courier New',monospace\"><span style=\"font-weight: bold\"> Total params: </span><span style=\"color: #00af00; text-decoration-color: #00af00\">2,002,698</span> (7.64 MB)\n",
       "</pre>\n"
      ],
      "text/plain": [
       "\u001b[1m Total params: \u001b[0m\u001b[38;5;34m2,002,698\u001b[0m (7.64 MB)\n"
      ]
     },
     "metadata": {},
     "output_type": "display_data"
    },
    {
     "data": {
      "text/html": [
       "<pre style=\"white-space:pre;overflow-x:auto;line-height:normal;font-family:Menlo,'DejaVu Sans Mono',consolas,'Courier New',monospace\"><span style=\"font-weight: bold\"> Trainable params: </span><span style=\"color: #00af00; text-decoration-color: #00af00\">2,002,698</span> (7.64 MB)\n",
       "</pre>\n"
      ],
      "text/plain": [
       "\u001b[1m Trainable params: \u001b[0m\u001b[38;5;34m2,002,698\u001b[0m (7.64 MB)\n"
      ]
     },
     "metadata": {},
     "output_type": "display_data"
    },
    {
     "data": {
      "text/html": [
       "<pre style=\"white-space:pre;overflow-x:auto;line-height:normal;font-family:Menlo,'DejaVu Sans Mono',consolas,'Courier New',monospace\"><span style=\"font-weight: bold\"> Non-trainable params: </span><span style=\"color: #00af00; text-decoration-color: #00af00\">0</span> (0.00 B)\n",
       "</pre>\n"
      ],
      "text/plain": [
       "\u001b[1m Non-trainable params: \u001b[0m\u001b[38;5;34m0\u001b[0m (0.00 B)\n"
      ]
     },
     "metadata": {},
     "output_type": "display_data"
    }
   ],
   "source": [
    "model.summary()"
   ]
  },
  {
   "cell_type": "code",
   "execution_count": 8,
   "id": "6a57d982",
   "metadata": {
    "execution": {
     "iopub.execute_input": "2025-09-08T05:15:20.652400Z",
     "iopub.status.busy": "2025-09-08T05:15:20.651950Z",
     "iopub.status.idle": "2025-09-08T05:15:20.751719Z",
     "shell.execute_reply": "2025-09-08T05:15:20.750837Z"
    },
    "papermill": {
     "duration": 0.114087,
     "end_time": "2025-09-08T05:15:20.753304",
     "exception": false,
     "start_time": "2025-09-08T05:15:20.639217",
     "status": "completed"
    },
    "tags": []
   },
   "outputs": [],
   "source": [
    "model2=Sequential()\n",
    "model2.add(Conv2D(32,kernel_size=(3,3),padding='same',activation='relu',input_shape=(28,28,1)))\n",
    "model2.add(Conv2D(32,kernel_size=(3,3),padding='same',activation='relu'))\n",
    "model2.add(Conv2D(32,kernel_size=(3,3),padding='same',activation='relu'))\n",
    "\n",
    "model2.add(Flatten())\n",
    "model2.add(Dense(128,activation=\"relu\"))\n",
    "model2.add(Dense(10,activation='softmax'))"
   ]
  },
  {
   "cell_type": "code",
   "execution_count": 9,
   "id": "b175050a",
   "metadata": {
    "execution": {
     "iopub.execute_input": "2025-09-08T05:15:20.766717Z",
     "iopub.status.busy": "2025-09-08T05:15:20.766361Z",
     "iopub.status.idle": "2025-09-08T05:15:20.784895Z",
     "shell.execute_reply": "2025-09-08T05:15:20.783707Z"
    },
    "papermill": {
     "duration": 0.028376,
     "end_time": "2025-09-08T05:15:20.787866",
     "exception": false,
     "start_time": "2025-09-08T05:15:20.759490",
     "status": "completed"
    },
    "tags": []
   },
   "outputs": [
    {
     "data": {
      "text/html": [
       "<pre style=\"white-space:pre;overflow-x:auto;line-height:normal;font-family:Menlo,'DejaVu Sans Mono',consolas,'Courier New',monospace\"><span style=\"font-weight: bold\">Model: \"sequential_1\"</span>\n",
       "</pre>\n"
      ],
      "text/plain": [
       "\u001b[1mModel: \"sequential_1\"\u001b[0m\n"
      ]
     },
     "metadata": {},
     "output_type": "display_data"
    },
    {
     "data": {
      "text/html": [
       "<pre style=\"white-space:pre;overflow-x:auto;line-height:normal;font-family:Menlo,'DejaVu Sans Mono',consolas,'Courier New',monospace\">┏━━━━━━━━━━━━━━━━━━━━━━━━━━━━━━━━━┳━━━━━━━━━━━━━━━━━━━━━━━━┳━━━━━━━━━━━━━━━┓\n",
       "┃<span style=\"font-weight: bold\"> Layer (type)                    </span>┃<span style=\"font-weight: bold\"> Output Shape           </span>┃<span style=\"font-weight: bold\">       Param # </span>┃\n",
       "┡━━━━━━━━━━━━━━━━━━━━━━━━━━━━━━━━━╇━━━━━━━━━━━━━━━━━━━━━━━━╇━━━━━━━━━━━━━━━┩\n",
       "│ conv2d_3 (<span style=\"color: #0087ff; text-decoration-color: #0087ff\">Conv2D</span>)               │ (<span style=\"color: #00d7ff; text-decoration-color: #00d7ff\">None</span>, <span style=\"color: #00af00; text-decoration-color: #00af00\">28</span>, <span style=\"color: #00af00; text-decoration-color: #00af00\">28</span>, <span style=\"color: #00af00; text-decoration-color: #00af00\">32</span>)     │           <span style=\"color: #00af00; text-decoration-color: #00af00\">320</span> │\n",
       "├─────────────────────────────────┼────────────────────────┼───────────────┤\n",
       "│ conv2d_4 (<span style=\"color: #0087ff; text-decoration-color: #0087ff\">Conv2D</span>)               │ (<span style=\"color: #00d7ff; text-decoration-color: #00d7ff\">None</span>, <span style=\"color: #00af00; text-decoration-color: #00af00\">28</span>, <span style=\"color: #00af00; text-decoration-color: #00af00\">28</span>, <span style=\"color: #00af00; text-decoration-color: #00af00\">32</span>)     │         <span style=\"color: #00af00; text-decoration-color: #00af00\">9,248</span> │\n",
       "├─────────────────────────────────┼────────────────────────┼───────────────┤\n",
       "│ conv2d_5 (<span style=\"color: #0087ff; text-decoration-color: #0087ff\">Conv2D</span>)               │ (<span style=\"color: #00d7ff; text-decoration-color: #00d7ff\">None</span>, <span style=\"color: #00af00; text-decoration-color: #00af00\">28</span>, <span style=\"color: #00af00; text-decoration-color: #00af00\">28</span>, <span style=\"color: #00af00; text-decoration-color: #00af00\">32</span>)     │         <span style=\"color: #00af00; text-decoration-color: #00af00\">9,248</span> │\n",
       "├─────────────────────────────────┼────────────────────────┼───────────────┤\n",
       "│ flatten_1 (<span style=\"color: #0087ff; text-decoration-color: #0087ff\">Flatten</span>)             │ (<span style=\"color: #00d7ff; text-decoration-color: #00d7ff\">None</span>, <span style=\"color: #00af00; text-decoration-color: #00af00\">25088</span>)          │             <span style=\"color: #00af00; text-decoration-color: #00af00\">0</span> │\n",
       "├─────────────────────────────────┼────────────────────────┼───────────────┤\n",
       "│ dense_2 (<span style=\"color: #0087ff; text-decoration-color: #0087ff\">Dense</span>)                 │ (<span style=\"color: #00d7ff; text-decoration-color: #00d7ff\">None</span>, <span style=\"color: #00af00; text-decoration-color: #00af00\">128</span>)            │     <span style=\"color: #00af00; text-decoration-color: #00af00\">3,211,392</span> │\n",
       "├─────────────────────────────────┼────────────────────────┼───────────────┤\n",
       "│ dense_3 (<span style=\"color: #0087ff; text-decoration-color: #0087ff\">Dense</span>)                 │ (<span style=\"color: #00d7ff; text-decoration-color: #00d7ff\">None</span>, <span style=\"color: #00af00; text-decoration-color: #00af00\">10</span>)             │         <span style=\"color: #00af00; text-decoration-color: #00af00\">1,290</span> │\n",
       "└─────────────────────────────────┴────────────────────────┴───────────────┘\n",
       "</pre>\n"
      ],
      "text/plain": [
       "┏━━━━━━━━━━━━━━━━━━━━━━━━━━━━━━━━━┳━━━━━━━━━━━━━━━━━━━━━━━━┳━━━━━━━━━━━━━━━┓\n",
       "┃\u001b[1m \u001b[0m\u001b[1mLayer (type)                   \u001b[0m\u001b[1m \u001b[0m┃\u001b[1m \u001b[0m\u001b[1mOutput Shape          \u001b[0m\u001b[1m \u001b[0m┃\u001b[1m \u001b[0m\u001b[1m      Param #\u001b[0m\u001b[1m \u001b[0m┃\n",
       "┡━━━━━━━━━━━━━━━━━━━━━━━━━━━━━━━━━╇━━━━━━━━━━━━━━━━━━━━━━━━╇━━━━━━━━━━━━━━━┩\n",
       "│ conv2d_3 (\u001b[38;5;33mConv2D\u001b[0m)               │ (\u001b[38;5;45mNone\u001b[0m, \u001b[38;5;34m28\u001b[0m, \u001b[38;5;34m28\u001b[0m, \u001b[38;5;34m32\u001b[0m)     │           \u001b[38;5;34m320\u001b[0m │\n",
       "├─────────────────────────────────┼────────────────────────┼───────────────┤\n",
       "│ conv2d_4 (\u001b[38;5;33mConv2D\u001b[0m)               │ (\u001b[38;5;45mNone\u001b[0m, \u001b[38;5;34m28\u001b[0m, \u001b[38;5;34m28\u001b[0m, \u001b[38;5;34m32\u001b[0m)     │         \u001b[38;5;34m9,248\u001b[0m │\n",
       "├─────────────────────────────────┼────────────────────────┼───────────────┤\n",
       "│ conv2d_5 (\u001b[38;5;33mConv2D\u001b[0m)               │ (\u001b[38;5;45mNone\u001b[0m, \u001b[38;5;34m28\u001b[0m, \u001b[38;5;34m28\u001b[0m, \u001b[38;5;34m32\u001b[0m)     │         \u001b[38;5;34m9,248\u001b[0m │\n",
       "├─────────────────────────────────┼────────────────────────┼───────────────┤\n",
       "│ flatten_1 (\u001b[38;5;33mFlatten\u001b[0m)             │ (\u001b[38;5;45mNone\u001b[0m, \u001b[38;5;34m25088\u001b[0m)          │             \u001b[38;5;34m0\u001b[0m │\n",
       "├─────────────────────────────────┼────────────────────────┼───────────────┤\n",
       "│ dense_2 (\u001b[38;5;33mDense\u001b[0m)                 │ (\u001b[38;5;45mNone\u001b[0m, \u001b[38;5;34m128\u001b[0m)            │     \u001b[38;5;34m3,211,392\u001b[0m │\n",
       "├─────────────────────────────────┼────────────────────────┼───────────────┤\n",
       "│ dense_3 (\u001b[38;5;33mDense\u001b[0m)                 │ (\u001b[38;5;45mNone\u001b[0m, \u001b[38;5;34m10\u001b[0m)             │         \u001b[38;5;34m1,290\u001b[0m │\n",
       "└─────────────────────────────────┴────────────────────────┴───────────────┘\n"
      ]
     },
     "metadata": {},
     "output_type": "display_data"
    },
    {
     "data": {
      "text/html": [
       "<pre style=\"white-space:pre;overflow-x:auto;line-height:normal;font-family:Menlo,'DejaVu Sans Mono',consolas,'Courier New',monospace\"><span style=\"font-weight: bold\"> Total params: </span><span style=\"color: #00af00; text-decoration-color: #00af00\">3,231,498</span> (12.33 MB)\n",
       "</pre>\n"
      ],
      "text/plain": [
       "\u001b[1m Total params: \u001b[0m\u001b[38;5;34m3,231,498\u001b[0m (12.33 MB)\n"
      ]
     },
     "metadata": {},
     "output_type": "display_data"
    },
    {
     "data": {
      "text/html": [
       "<pre style=\"white-space:pre;overflow-x:auto;line-height:normal;font-family:Menlo,'DejaVu Sans Mono',consolas,'Courier New',monospace\"><span style=\"font-weight: bold\"> Trainable params: </span><span style=\"color: #00af00; text-decoration-color: #00af00\">3,231,498</span> (12.33 MB)\n",
       "</pre>\n"
      ],
      "text/plain": [
       "\u001b[1m Trainable params: \u001b[0m\u001b[38;5;34m3,231,498\u001b[0m (12.33 MB)\n"
      ]
     },
     "metadata": {},
     "output_type": "display_data"
    },
    {
     "data": {
      "text/html": [
       "<pre style=\"white-space:pre;overflow-x:auto;line-height:normal;font-family:Menlo,'DejaVu Sans Mono',consolas,'Courier New',monospace\"><span style=\"font-weight: bold\"> Non-trainable params: </span><span style=\"color: #00af00; text-decoration-color: #00af00\">0</span> (0.00 B)\n",
       "</pre>\n"
      ],
      "text/plain": [
       "\u001b[1m Non-trainable params: \u001b[0m\u001b[38;5;34m0\u001b[0m (0.00 B)\n"
      ]
     },
     "metadata": {},
     "output_type": "display_data"
    }
   ],
   "source": [
    "model2.summary()"
   ]
  },
  {
   "cell_type": "code",
   "execution_count": 10,
   "id": "22c5700a",
   "metadata": {
    "execution": {
     "iopub.execute_input": "2025-09-08T05:15:20.813233Z",
     "iopub.status.busy": "2025-09-08T05:15:20.812937Z",
     "iopub.status.idle": "2025-09-08T05:15:21.342446Z",
     "shell.execute_reply": "2025-09-08T05:15:21.341596Z"
    },
    "papermill": {
     "duration": 0.543396,
     "end_time": "2025-09-08T05:15:21.344113",
     "exception": false,
     "start_time": "2025-09-08T05:15:20.800717",
     "status": "completed"
    },
    "tags": []
   },
   "outputs": [
    {
     "name": "stdout",
     "output_type": "stream",
     "text": [
      "Stride at (0,0) → region:\n",
      "[[ 1  2  3]\n",
      " [ 6  7  8]\n",
      " [11 12 13]]\n",
      "\n",
      "Stride at (0,1) → region:\n",
      "[[ 2  3  4]\n",
      " [ 7  8  9]\n",
      " [12 13 14]]\n",
      "\n",
      "Stride at (0,2) → region:\n",
      "[[ 3  4  5]\n",
      " [ 8  9 10]\n",
      " [13 14 15]]\n",
      "\n",
      "Stride at (1,0) → region:\n",
      "[[ 6  7  8]\n",
      " [11 12 13]\n",
      " [16 17 18]]\n",
      "\n",
      "Stride at (1,1) → region:\n",
      "[[ 7  8  9]\n",
      " [12 13 14]\n",
      " [17 18 19]]\n",
      "\n",
      "Stride at (1,2) → region:\n",
      "[[ 8  9 10]\n",
      " [13 14 15]\n",
      " [18 19 20]]\n",
      "\n",
      "Stride at (2,0) → region:\n",
      "[[11 12 13]\n",
      " [16 17 18]\n",
      " [21 22 23]]\n",
      "\n",
      "Stride at (2,1) → region:\n",
      "[[12 13 14]\n",
      " [17 18 19]\n",
      " [22 23 24]]\n",
      "\n",
      "Stride at (2,2) → region:\n",
      "[[13 14 15]\n",
      " [18 19 20]\n",
      " [23 24 25]]\n",
      "\n",
      "Stride at (0,0) → region:\n",
      "[[ 1  2  3]\n",
      " [ 6  7  8]\n",
      " [11 12 13]]\n",
      "\n",
      "Stride at (0,2) → region:\n",
      "[[ 3  4  5]\n",
      " [ 8  9 10]\n",
      " [13 14 15]]\n",
      "\n",
      "Stride at (2,0) → region:\n",
      "[[11 12 13]\n",
      " [16 17 18]\n",
      " [21 22 23]]\n",
      "\n",
      "Stride at (2,2) → region:\n",
      "[[13 14 15]\n",
      " [18 19 20]\n",
      " [23 24 25]]\n",
      "\n",
      "Output with stride=1:\n",
      " [[-6. -6. -6.]\n",
      " [-6. -6. -6.]\n",
      " [-6. -6. -6.]]\n",
      "Output with stride=2:\n",
      " [[-6. -6.]\n",
      " [-6. -6.]]\n"
     ]
    },
    {
     "data": {
      "image/png": "[encoded data removed]",
      "text/plain": [
       "<Figure size 1200x400 with 3 Axes>"
      ]
     },
     "metadata": {},
     "output_type": "display_data"
    }
   ],
   "source": [
    "import numpy as np\n",
    "import matplotlib.pyplot as plt\n",
    "\n",
    "# Example input image (5x5)\n",
    "image = np.array([\n",
    "    [1, 2, 3, 4, 5],\n",
    "    [6, 7, 8, 9, 10],\n",
    "    [11, 12, 13, 14, 15],\n",
    "    [16, 17, 18, 19, 20],\n",
    "    [21, 22, 23, 24, 25]\n",
    "])\n",
    "\n",
    "# Example filter (3x3)\n",
    "kernel = np.array([\n",
    "    [1, 0, -1],\n",
    "    [1, 0, -1],\n",
    "    [1, 0, -1]\n",
    "])\n",
    "\n",
    "def conv_stride(image, kernel, stride=1):\n",
    "    h, w = image.shape\n",
    "    kh, kw = kernel.shape\n",
    "    \n",
    "    # Output dimensions\n",
    "    out_h = (h - kh) // stride + 1\n",
    "    out_w = (w - kw) // stride + 1\n",
    "    \n",
    "    output = np.zeros((out_h, out_w))\n",
    "    \n",
    "    # Walk the kernel\n",
    "    for i in range(0, h - kh + 1, stride):\n",
    "        for j in range(0, w - kw + 1, stride):\n",
    "            region = image[i:i+kh, j:j+kw]\n",
    "            output[i//stride, j//stride] = np.sum(region * kernel)\n",
    "            print(f\"Stride at ({i},{j}) → region:\\n{region}\\n\")\n",
    "    \n",
    "    return output\n",
    "\n",
    "# Run convolution with stride 1 and stride 2\n",
    "out_stride1 = conv_stride(image, kernel, stride=1)\n",
    "out_stride2 = conv_stride(image, kernel, stride=2)\n",
    "\n",
    "print(\"Output with stride=1:\\n\", out_stride1)\n",
    "print(\"Output with stride=2:\\n\", out_stride2)\n",
    "\n",
    "# Show results\n",
    "fig, axes = plt.subplots(1, 3, figsize=(12,4))\n",
    "axes[0].imshow(image, cmap='gray')\n",
    "axes[0].set_title(\"Original Image\")\n",
    "axes[1].imshow(out_stride1, cmap='gray')\n",
    "axes[1].set_title(\"Stride = 1 (Detailed)\")\n",
    "axes[2].imshow(out_stride2, cmap='gray')\n",
    "axes[2].set_title(\"Stride = 2 (Blurry/Downsampled)\")\n",
    "plt.show()\n"
   ]
  },
  {
   "cell_type": "code",
   "execution_count": 11,
   "id": "dadeadeb",
   "metadata": {
    "execution": {
     "iopub.execute_input": "2025-09-08T05:15:21.360947Z",
     "iopub.status.busy": "2025-09-08T05:15:21.360163Z",
     "iopub.status.idle": "2025-09-08T05:15:21.419765Z",
     "shell.execute_reply": "2025-09-08T05:15:21.418873Z"
    },
    "papermill": {
     "duration": 0.069458,
     "end_time": "2025-09-08T05:15:21.421477",
     "exception": false,
     "start_time": "2025-09-08T05:15:21.352019",
     "status": "completed"
    },
    "tags": []
   },
   "outputs": [],
   "source": [
    "model3 = Sequential()\n",
    "model3.add(Conv2D(32, kernel_size=(3,3), padding='same', activation='relu', strides=(2,2), input_shape=(28,28,1)))\n",
    "model3.add(Conv2D(32, kernel_size=(3,3), padding='same', activation='relu', strides=(2,2)))\n",
    "model3.add(Conv2D(32, kernel_size=(3,3), padding='same', activation='relu', strides=(2,2)))\n",
    "\n",
    "model3.add(Flatten())\n",
    "model3.add(Dense(128, activation=\"relu\"))\n",
    "model3.add(Dense(10, activation='softmax'))"
   ]
  },
  {
   "cell_type": "code",
   "execution_count": 12,
   "id": "447b96d0",
   "metadata": {
    "execution": {
     "iopub.execute_input": "2025-09-08T05:15:21.438110Z",
     "iopub.status.busy": "2025-09-08T05:15:21.437782Z",
     "iopub.status.idle": "2025-09-08T05:15:21.455672Z",
     "shell.execute_reply": "2025-09-08T05:15:21.454879Z"
    },
    "papermill": {
     "duration": 0.028228,
     "end_time": "2025-09-08T05:15:21.457047",
     "exception": false,
     "start_time": "2025-09-08T05:15:21.428819",
     "status": "completed"
    },
    "tags": []
   },
   "outputs": [
    {
     "data": {
      "text/html": [
       "<pre style=\"white-space:pre;overflow-x:auto;line-height:normal;font-family:Menlo,'DejaVu Sans Mono',consolas,'Courier New',monospace\"><span style=\"font-weight: bold\">Model: \"sequential_2\"</span>\n",
       "</pre>\n"
      ],
      "text/plain": [
       "\u001b[1mModel: \"sequential_2\"\u001b[0m\n"
      ]
     },
     "metadata": {},
     "output_type": "display_data"
    },
    {
     "data": {
      "text/html": [
       "<pre style=\"white-space:pre;overflow-x:auto;line-height:normal;font-family:Menlo,'DejaVu Sans Mono',consolas,'Courier New',monospace\">┏━━━━━━━━━━━━━━━━━━━━━━━━━━━━━━━━━┳━━━━━━━━━━━━━━━━━━━━━━━━┳━━━━━━━━━━━━━━━┓\n",
       "┃<span style=\"font-weight: bold\"> Layer (type)                    </span>┃<span style=\"font-weight: bold\"> Output Shape           </span>┃<span style=\"font-weight: bold\">       Param # </span>┃\n",
       "┡━━━━━━━━━━━━━━━━━━━━━━━━━━━━━━━━━╇━━━━━━━━━━━━━━━━━━━━━━━━╇━━━━━━━━━━━━━━━┩\n",
       "│ conv2d_6 (<span style=\"color: #0087ff; text-decoration-color: #0087ff\">Conv2D</span>)               │ (<span style=\"color: #00d7ff; text-decoration-color: #00d7ff\">None</span>, <span style=\"color: #00af00; text-decoration-color: #00af00\">14</span>, <span style=\"color: #00af00; text-decoration-color: #00af00\">14</span>, <span style=\"color: #00af00; text-decoration-color: #00af00\">32</span>)     │           <span style=\"color: #00af00; text-decoration-color: #00af00\">320</span> │\n",
       "├─────────────────────────────────┼────────────────────────┼───────────────┤\n",
       "│ conv2d_7 (<span style=\"color: #0087ff; text-decoration-color: #0087ff\">Conv2D</span>)               │ (<span style=\"color: #00d7ff; text-decoration-color: #00d7ff\">None</span>, <span style=\"color: #00af00; text-decoration-color: #00af00\">7</span>, <span style=\"color: #00af00; text-decoration-color: #00af00\">7</span>, <span style=\"color: #00af00; text-decoration-color: #00af00\">32</span>)       │         <span style=\"color: #00af00; text-decoration-color: #00af00\">9,248</span> │\n",
       "├─────────────────────────────────┼────────────────────────┼───────────────┤\n",
       "│ conv2d_8 (<span style=\"color: #0087ff; text-decoration-color: #0087ff\">Conv2D</span>)               │ (<span style=\"color: #00d7ff; text-decoration-color: #00d7ff\">None</span>, <span style=\"color: #00af00; text-decoration-color: #00af00\">4</span>, <span style=\"color: #00af00; text-decoration-color: #00af00\">4</span>, <span style=\"color: #00af00; text-decoration-color: #00af00\">32</span>)       │         <span style=\"color: #00af00; text-decoration-color: #00af00\">9,248</span> │\n",
       "├─────────────────────────────────┼────────────────────────┼───────────────┤\n",
       "│ flatten_2 (<span style=\"color: #0087ff; text-decoration-color: #0087ff\">Flatten</span>)             │ (<span style=\"color: #00d7ff; text-decoration-color: #00d7ff\">None</span>, <span style=\"color: #00af00; text-decoration-color: #00af00\">512</span>)            │             <span style=\"color: #00af00; text-decoration-color: #00af00\">0</span> │\n",
       "├─────────────────────────────────┼────────────────────────┼───────────────┤\n",
       "│ dense_4 (<span style=\"color: #0087ff; text-decoration-color: #0087ff\">Dense</span>)                 │ (<span style=\"color: #00d7ff; text-decoration-color: #00d7ff\">None</span>, <span style=\"color: #00af00; text-decoration-color: #00af00\">128</span>)            │        <span style=\"color: #00af00; text-decoration-color: #00af00\">65,664</span> │\n",
       "├─────────────────────────────────┼────────────────────────┼───────────────┤\n",
       "│ dense_5 (<span style=\"color: #0087ff; text-decoration-color: #0087ff\">Dense</span>)                 │ (<span style=\"color: #00d7ff; text-decoration-color: #00d7ff\">None</span>, <span style=\"color: #00af00; text-decoration-color: #00af00\">10</span>)             │         <span style=\"color: #00af00; text-decoration-color: #00af00\">1,290</span> │\n",
       "└─────────────────────────────────┴────────────────────────┴───────────────┘\n",
       "</pre>\n"
      ],
      "text/plain": [
       "┏━━━━━━━━━━━━━━━━━━━━━━━━━━━━━━━━━┳━━━━━━━━━━━━━━━━━━━━━━━━┳━━━━━━━━━━━━━━━┓\n",
       "┃\u001b[1m \u001b[0m\u001b[1mLayer (type)                   \u001b[0m\u001b[1m \u001b[0m┃\u001b[1m \u001b[0m\u001b[1mOutput Shape          \u001b[0m\u001b[1m \u001b[0m┃\u001b[1m \u001b[0m\u001b[1m      Param #\u001b[0m\u001b[1m \u001b[0m┃\n",
       "┡━━━━━━━━━━━━━━━━━━━━━━━━━━━━━━━━━╇━━━━━━━━━━━━━━━━━━━━━━━━╇━━━━━━━━━━━━━━━┩\n",
       "│ conv2d_6 (\u001b[38;5;33mConv2D\u001b[0m)               │ (\u001b[38;5;45mNone\u001b[0m, \u001b[38;5;34m14\u001b[0m, \u001b[38;5;34m14\u001b[0m, \u001b[38;5;34m32\u001b[0m)     │           \u001b[38;5;34m320\u001b[0m │\n",
       "├─────────────────────────────────┼────────────────────────┼───────────────┤\n",
       "│ conv2d_7 (\u001b[38;5;33mConv2D\u001b[0m)               │ (\u001b[38;5;45mNone\u001b[0m, \u001b[38;5;34m7\u001b[0m, \u001b[38;5;34m7\u001b[0m, \u001b[38;5;34m32\u001b[0m)       │         \u001b[38;5;34m9,248\u001b[0m │\n",
       "├─────────────────────────────────┼────────────────────────┼───────────────┤\n",
       "│ conv2d_8 (\u001b[38;5;33mConv2D\u001b[0m)               │ (\u001b[38;5;45mNone\u001b[0m, \u001b[38;5;34m4\u001b[0m, \u001b[38;5;34m4\u001b[0m, \u001b[38;5;34m32\u001b[0m)       │         \u001b[38;5;34m9,248\u001b[0m │\n",
       "├─────────────────────────────────┼────────────────────────┼───────────────┤\n",
       "│ flatten_2 (\u001b[38;5;33mFlatten\u001b[0m)             │ (\u001b[38;5;45mNone\u001b[0m, \u001b[38;5;34m512\u001b[0m)            │             \u001b[38;5;34m0\u001b[0m │\n",
       "├─────────────────────────────────┼────────────────────────┼───────────────┤\n",
       "│ dense_4 (\u001b[38;5;33mDense\u001b[0m)                 │ (\u001b[38;5;45mNone\u001b[0m, \u001b[38;5;34m128\u001b[0m)            │        \u001b[38;5;34m65,664\u001b[0m │\n",
       "├─────────────────────────────────┼────────────────────────┼───────────────┤\n",
       "│ dense_5 (\u001b[38;5;33mDense\u001b[0m)                 │ (\u001b[38;5;45mNone\u001b[0m, \u001b[38;5;34m10\u001b[0m)             │         \u001b[38;5;34m1,290\u001b[0m │\n",
       "└─────────────────────────────────┴────────────────────────┴───────────────┘\n"
      ]
     },
     "metadata": {},
     "output_type": "display_data"
    },
    {
     "data": {
      "text/html": [
       "<pre style=\"white-space:pre;overflow-x:auto;line-height:normal;font-family:Menlo,'DejaVu Sans Mono',consolas,'Courier New',monospace\"><span style=\"font-weight: bold\"> Total params: </span><span style=\"color: #00af00; text-decoration-color: #00af00\">85,770</span> (335.04 KB)\n",
       "</pre>\n"
      ],
      "text/plain": [
       "\u001b[1m Total params: \u001b[0m\u001b[38;5;34m85,770\u001b[0m (335.04 KB)\n"
      ]
     },
     "metadata": {},
     "output_type": "display_data"
    },
    {
     "data": {
      "text/html": [
       "<pre style=\"white-space:pre;overflow-x:auto;line-height:normal;font-family:Menlo,'DejaVu Sans Mono',consolas,'Courier New',monospace\"><span style=\"font-weight: bold\"> Trainable params: </span><span style=\"color: #00af00; text-decoration-color: #00af00\">85,770</span> (335.04 KB)\n",
       "</pre>\n"
      ],
      "text/plain": [
       "\u001b[1m Trainable params: \u001b[0m\u001b[38;5;34m85,770\u001b[0m (335.04 KB)\n"
      ]
     },
     "metadata": {},
     "output_type": "display_data"
    },
    {
     "data": {
      "text/html": [
       "<pre style=\"white-space:pre;overflow-x:auto;line-height:normal;font-family:Menlo,'DejaVu Sans Mono',consolas,'Courier New',monospace\"><span style=\"font-weight: bold\"> Non-trainable params: </span><span style=\"color: #00af00; text-decoration-color: #00af00\">0</span> (0.00 B)\n",
       "</pre>\n"
      ],
      "text/plain": [
       "\u001b[1m Non-trainable params: \u001b[0m\u001b[38;5;34m0\u001b[0m (0.00 B)\n"
      ]
     },
     "metadata": {},
     "output_type": "display_data"
    }
   ],
   "source": [
    "model3.summary()"
   ]
  },
  {
   "cell_type": "markdown",
   "id": "8964d18d",
   "metadata": {
    "papermill": {
     "duration": 0.00732,
     "end_time": "2025-09-08T05:15:21.472222",
     "exception": false,
     "start_time": "2025-09-08T05:15:21.464902",
     "status": "completed"
    },
    "tags": []
   },
   "source": [
    "# Advantages of Pooling in CNNs\n",
    "\n",
    "Pooling layers provide several benefits in Convolutional Neural Networks:\n",
    "\n",
    "1. **Reduces Computational Cost**  \n",
    "   - By downsampling feature maps, pooling reduces the number of parameters and operations in later layers.\n",
    "\n",
    "2. **Reduces Overfitting**  \n",
    "   - Smaller feature maps prevent the network from memorizing noise and improve generalization.\n",
    "\n",
    "3. **Provides Translation Invariance**  \n",
    "   - Pooling helps the network recognize features even if they shift slightly in the input image.\n",
    "\n",
    "4. **Highlights Dominant Features**  \n",
    "   - Max pooling captures the strongest signals, while average pooling smooths features, helping the network focus on important patterns.\n",
    "\n",
    "5. **Downsamples Feature Maps**  \n",
    "   - Reduces height × width of feature maps while keeping the depth/channels unchanged.\n",
    "\n",
    "6. **Simplifies the Network**  \n",
    "   - Makes the model more efficient and easier to train by compressing spatial information.\n",
    "\n",
    "---\n",
    "\n",
    "💡 **Analogy:**  \n",
    "Pooling is like **looking at small tiles of an image** and keeping the **most important detail (max)** or **average color (average pooling)** — you shrink the map but preserve key information.\n"
   ]
  },
  {
   "cell_type": "markdown",
   "id": "dbf36306",
   "metadata": {
    "papermill": {
     "duration": 0.007556,
     "end_time": "2025-09-08T05:15:21.487678",
     "exception": false,
     "start_time": "2025-09-08T05:15:21.480122",
     "status": "completed"
    },
    "tags": []
   },
   "source": [
    "# Pooling Demo\n",
    "\n",
    "![Pooling](https://miro.medium.com/v2/resize:fit:1100/format:webp/1*vOxthD0FpBR6fJcpPxq6Hg.gif)\n"
   ]
  },
  {
   "cell_type": "markdown",
   "id": "c4e707f5",
   "metadata": {
    "papermill": {
     "duration": 0.007379,
     "end_time": "2025-09-08T05:15:21.502863",
     "exception": false,
     "start_time": "2025-09-08T05:15:21.495484",
     "status": "completed"
    },
    "tags": []
   },
   "source": [
    "# Pooling"
   ]
  },
  {
   "cell_type": "code",
   "execution_count": 13,
   "id": "f03d3e58",
   "metadata": {
    "execution": {
     "iopub.execute_input": "2025-09-08T05:15:21.519955Z",
     "iopub.status.busy": "2025-09-08T05:15:21.519475Z",
     "iopub.status.idle": "2025-09-08T05:15:21.525205Z",
     "shell.execute_reply": "2025-09-08T05:15:21.524465Z"
    },
    "papermill": {
     "duration": 0.016218,
     "end_time": "2025-09-08T05:15:21.526638",
     "exception": false,
     "start_time": "2025-09-08T05:15:21.510420",
     "status": "completed"
    },
    "tags": []
   },
   "outputs": [],
   "source": [
    "model4=Sequential()"
   ]
  },
  {
   "cell_type": "code",
   "execution_count": 14,
   "id": "d543d77f",
   "metadata": {
    "execution": {
     "iopub.execute_input": "2025-09-08T05:15:21.544485Z",
     "iopub.status.busy": "2025-09-08T05:15:21.543540Z",
     "iopub.status.idle": "2025-09-08T05:15:21.581947Z",
     "shell.execute_reply": "2025-09-08T05:15:21.581073Z"
    },
    "papermill": {
     "duration": 0.04903,
     "end_time": "2025-09-08T05:15:21.583543",
     "exception": false,
     "start_time": "2025-09-08T05:15:21.534513",
     "status": "completed"
    },
    "tags": []
   },
   "outputs": [],
   "source": [
    "model4.add(Conv2D(32,kernel_size=(3,3),padding='valid',activation='relu',input_shape=(28,28,1)))\n",
    "model4.add(MaxPooling2D(pool_size=(2,2),strides=2,padding='valid'))\n",
    "model4.add(Conv2D(32,kernel_size=(3,3),padding='valid',activation='relu'))\n",
    "model4.add(MaxPooling2D(pool_size=(2,2),strides=2,padding='valid'))\n",
    "model4.add(Flatten())"
   ]
  },
  {
   "cell_type": "code",
   "execution_count": 15,
   "id": "afeef2e0",
   "metadata": {
    "execution": {
     "iopub.execute_input": "2025-09-08T05:15:21.600701Z",
     "iopub.status.busy": "2025-09-08T05:15:21.600317Z",
     "iopub.status.idle": "2025-09-08T05:15:21.630333Z",
     "shell.execute_reply": "2025-09-08T05:15:21.629473Z"
    },
    "papermill": {
     "duration": 0.040616,
     "end_time": "2025-09-08T05:15:21.632097",
     "exception": false,
     "start_time": "2025-09-08T05:15:21.591481",
     "status": "completed"
    },
    "tags": []
   },
   "outputs": [],
   "source": [
    "model4.add(Dense(128,activation='relu'))\n",
    "model4.add(Dense(10,activation='softmax'))"
   ]
  },
  {
   "cell_type": "code",
   "execution_count": 16,
   "id": "48d9feb2",
   "metadata": {
    "execution": {
     "iopub.execute_input": "2025-09-08T05:15:21.649950Z",
     "iopub.status.busy": "2025-09-08T05:15:21.649601Z",
     "iopub.status.idle": "2025-09-08T05:15:21.666991Z",
     "shell.execute_reply": "2025-09-08T05:15:21.666214Z"
    },
    "papermill": {
     "duration": 0.02821,
     "end_time": "2025-09-08T05:15:21.668478",
     "exception": false,
     "start_time": "2025-09-08T05:15:21.640268",
     "status": "completed"
    },
    "tags": []
   },
   "outputs": [
    {
     "data": {
      "text/html": [
       "<pre style=\"white-space:pre;overflow-x:auto;line-height:normal;font-family:Menlo,'DejaVu Sans Mono',consolas,'Courier New',monospace\"><span style=\"font-weight: bold\">Model: \"sequential_3\"</span>\n",
       "</pre>\n"
      ],
      "text/plain": [
       "\u001b[1mModel: \"sequential_3\"\u001b[0m\n"
      ]
     },
     "metadata": {},
     "output_type": "display_data"
    },
    {
     "data": {
      "text/html": [
       "<pre style=\"white-space:pre;overflow-x:auto;line-height:normal;font-family:Menlo,'DejaVu Sans Mono',consolas,'Courier New',monospace\">┏━━━━━━━━━━━━━━━━━━━━━━━━━━━━━━━━━┳━━━━━━━━━━━━━━━━━━━━━━━━┳━━━━━━━━━━━━━━━┓\n",
       "┃<span style=\"font-weight: bold\"> Layer (type)                    </span>┃<span style=\"font-weight: bold\"> Output Shape           </span>┃<span style=\"font-weight: bold\">       Param # </span>┃\n",
       "┡━━━━━━━━━━━━━━━━━━━━━━━━━━━━━━━━━╇━━━━━━━━━━━━━━━━━━━━━━━━╇━━━━━━━━━━━━━━━┩\n",
       "│ conv2d_9 (<span style=\"color: #0087ff; text-decoration-color: #0087ff\">Conv2D</span>)               │ (<span style=\"color: #00d7ff; text-decoration-color: #00d7ff\">None</span>, <span style=\"color: #00af00; text-decoration-color: #00af00\">26</span>, <span style=\"color: #00af00; text-decoration-color: #00af00\">26</span>, <span style=\"color: #00af00; text-decoration-color: #00af00\">32</span>)     │           <span style=\"color: #00af00; text-decoration-color: #00af00\">320</span> │\n",
       "├─────────────────────────────────┼────────────────────────┼───────────────┤\n",
       "│ max_pooling2d (<span style=\"color: #0087ff; text-decoration-color: #0087ff\">MaxPooling2D</span>)    │ (<span style=\"color: #00d7ff; text-decoration-color: #00d7ff\">None</span>, <span style=\"color: #00af00; text-decoration-color: #00af00\">13</span>, <span style=\"color: #00af00; text-decoration-color: #00af00\">13</span>, <span style=\"color: #00af00; text-decoration-color: #00af00\">32</span>)     │             <span style=\"color: #00af00; text-decoration-color: #00af00\">0</span> │\n",
       "├─────────────────────────────────┼────────────────────────┼───────────────┤\n",
       "│ conv2d_10 (<span style=\"color: #0087ff; text-decoration-color: #0087ff\">Conv2D</span>)              │ (<span style=\"color: #00d7ff; text-decoration-color: #00d7ff\">None</span>, <span style=\"color: #00af00; text-decoration-color: #00af00\">11</span>, <span style=\"color: #00af00; text-decoration-color: #00af00\">11</span>, <span style=\"color: #00af00; text-decoration-color: #00af00\">32</span>)     │         <span style=\"color: #00af00; text-decoration-color: #00af00\">9,248</span> │\n",
       "├─────────────────────────────────┼────────────────────────┼───────────────┤\n",
       "│ max_pooling2d_1 (<span style=\"color: #0087ff; text-decoration-color: #0087ff\">MaxPooling2D</span>)  │ (<span style=\"color: #00d7ff; text-decoration-color: #00d7ff\">None</span>, <span style=\"color: #00af00; text-decoration-color: #00af00\">5</span>, <span style=\"color: #00af00; text-decoration-color: #00af00\">5</span>, <span style=\"color: #00af00; text-decoration-color: #00af00\">32</span>)       │             <span style=\"color: #00af00; text-decoration-color: #00af00\">0</span> │\n",
       "├─────────────────────────────────┼────────────────────────┼───────────────┤\n",
       "│ flatten_3 (<span style=\"color: #0087ff; text-decoration-color: #0087ff\">Flatten</span>)             │ (<span style=\"color: #00d7ff; text-decoration-color: #00d7ff\">None</span>, <span style=\"color: #00af00; text-decoration-color: #00af00\">800</span>)            │             <span style=\"color: #00af00; text-decoration-color: #00af00\">0</span> │\n",
       "├─────────────────────────────────┼────────────────────────┼───────────────┤\n",
       "│ dense_6 (<span style=\"color: #0087ff; text-decoration-color: #0087ff\">Dense</span>)                 │ (<span style=\"color: #00d7ff; text-decoration-color: #00d7ff\">None</span>, <span style=\"color: #00af00; text-decoration-color: #00af00\">128</span>)            │       <span style=\"color: #00af00; text-decoration-color: #00af00\">102,528</span> │\n",
       "├─────────────────────────────────┼────────────────────────┼───────────────┤\n",
       "│ dense_7 (<span style=\"color: #0087ff; text-decoration-color: #0087ff\">Dense</span>)                 │ (<span style=\"color: #00d7ff; text-decoration-color: #00d7ff\">None</span>, <span style=\"color: #00af00; text-decoration-color: #00af00\">10</span>)             │         <span style=\"color: #00af00; text-decoration-color: #00af00\">1,290</span> │\n",
       "└─────────────────────────────────┴────────────────────────┴───────────────┘\n",
       "</pre>\n"
      ],
      "text/plain": [
       "┏━━━━━━━━━━━━━━━━━━━━━━━━━━━━━━━━━┳━━━━━━━━━━━━━━━━━━━━━━━━┳━━━━━━━━━━━━━━━┓\n",
       "┃\u001b[1m \u001b[0m\u001b[1mLayer (type)                   \u001b[0m\u001b[1m \u001b[0m┃\u001b[1m \u001b[0m\u001b[1mOutput Shape          \u001b[0m\u001b[1m \u001b[0m┃\u001b[1m \u001b[0m\u001b[1m      Param #\u001b[0m\u001b[1m \u001b[0m┃\n",
       "┡━━━━━━━━━━━━━━━━━━━━━━━━━━━━━━━━━╇━━━━━━━━━━━━━━━━━━━━━━━━╇━━━━━━━━━━━━━━━┩\n",
       "│ conv2d_9 (\u001b[38;5;33mConv2D\u001b[0m)               │ (\u001b[38;5;45mNone\u001b[0m, \u001b[38;5;34m26\u001b[0m, \u001b[38;5;34m26\u001b[0m, \u001b[38;5;34m32\u001b[0m)     │           \u001b[38;5;34m320\u001b[0m │\n",
       "├─────────────────────────────────┼────────────────────────┼───────────────┤\n",
       "│ max_pooling2d (\u001b[38;5;33mMaxPooling2D\u001b[0m)    │ (\u001b[38;5;45mNone\u001b[0m, \u001b[38;5;34m13\u001b[0m, \u001b[38;5;34m13\u001b[0m, \u001b[38;5;34m32\u001b[0m)     │             \u001b[38;5;34m0\u001b[0m │\n",
       "├─────────────────────────────────┼────────────────────────┼───────────────┤\n",
       "│ conv2d_10 (\u001b[38;5;33mConv2D\u001b[0m)              │ (\u001b[38;5;45mNone\u001b[0m, \u001b[38;5;34m11\u001b[0m, \u001b[38;5;34m11\u001b[0m, \u001b[38;5;34m32\u001b[0m)     │         \u001b[38;5;34m9,248\u001b[0m │\n",
       "├─────────────────────────────────┼────────────────────────┼───────────────┤\n",
       "│ max_pooling2d_1 (\u001b[38;5;33mMaxPooling2D\u001b[0m)  │ (\u001b[38;5;45mNone\u001b[0m, \u001b[38;5;34m5\u001b[0m, \u001b[38;5;34m5\u001b[0m, \u001b[38;5;34m32\u001b[0m)       │             \u001b[38;5;34m0\u001b[0m │\n",
       "├─────────────────────────────────┼────────────────────────┼───────────────┤\n",
       "│ flatten_3 (\u001b[38;5;33mFlatten\u001b[0m)             │ (\u001b[38;5;45mNone\u001b[0m, \u001b[38;5;34m800\u001b[0m)            │             \u001b[38;5;34m0\u001b[0m │\n",
       "├─────────────────────────────────┼────────────────────────┼───────────────┤\n",
       "│ dense_6 (\u001b[38;5;33mDense\u001b[0m)                 │ (\u001b[38;5;45mNone\u001b[0m, \u001b[38;5;34m128\u001b[0m)            │       \u001b[38;5;34m102,528\u001b[0m │\n",
       "├─────────────────────────────────┼────────────────────────┼───────────────┤\n",
       "│ dense_7 (\u001b[38;5;33mDense\u001b[0m)                 │ (\u001b[38;5;45mNone\u001b[0m, \u001b[38;5;34m10\u001b[0m)             │         \u001b[38;5;34m1,290\u001b[0m │\n",
       "└─────────────────────────────────┴────────────────────────┴───────────────┘\n"
      ]
     },
     "metadata": {},
     "output_type": "display_data"
    },
    {
     "data": {
      "text/html": [
       "<pre style=\"white-space:pre;overflow-x:auto;line-height:normal;font-family:Menlo,'DejaVu Sans Mono',consolas,'Courier New',monospace\"><span style=\"font-weight: bold\"> Total params: </span><span style=\"color: #00af00; text-decoration-color: #00af00\">113,386</span> (442.91 KB)\n",
       "</pre>\n"
      ],
      "text/plain": [
       "\u001b[1m Total params: \u001b[0m\u001b[38;5;34m113,386\u001b[0m (442.91 KB)\n"
      ]
     },
     "metadata": {},
     "output_type": "display_data"
    },
    {
     "data": {
      "text/html": [
       "<pre style=\"white-space:pre;overflow-x:auto;line-height:normal;font-family:Menlo,'DejaVu Sans Mono',consolas,'Courier New',monospace\"><span style=\"font-weight: bold\"> Trainable params: </span><span style=\"color: #00af00; text-decoration-color: #00af00\">113,386</span> (442.91 KB)\n",
       "</pre>\n"
      ],
      "text/plain": [
       "\u001b[1m Trainable params: \u001b[0m\u001b[38;5;34m113,386\u001b[0m (442.91 KB)\n"
      ]
     },
     "metadata": {},
     "output_type": "display_data"
    },
    {
     "data": {
      "text/html": [
       "<pre style=\"white-space:pre;overflow-x:auto;line-height:normal;font-family:Menlo,'DejaVu Sans Mono',consolas,'Courier New',monospace\"><span style=\"font-weight: bold\"> Non-trainable params: </span><span style=\"color: #00af00; text-decoration-color: #00af00\">0</span> (0.00 B)\n",
       "</pre>\n"
      ],
      "text/plain": [
       "\u001b[1m Non-trainable params: \u001b[0m\u001b[38;5;34m0\u001b[0m (0.00 B)\n"
      ]
     },
     "metadata": {},
     "output_type": "display_data"
    }
   ],
   "source": [
    "model4.summary()"
   ]
  },
  {
   "cell_type": "code",
   "execution_count": null,
   "id": "c276c92f",
   "metadata": {
    "papermill": {
     "duration": 0.008285,
     "end_time": "2025-09-08T05:15:21.685742",
     "exception": false,
     "start_time": "2025-09-08T05:15:21.677457",
     "status": "completed"
    },
    "tags": []
   },
   "outputs": [],
   "source": []
  },
  {
   "cell_type": "code",
   "execution_count": null,
   "id": "7ea5a73f",
   "metadata": {
    "papermill": {
     "duration": 0.008013,
     "end_time": "2025-09-08T05:15:21.702175",
     "exception": false,
     "start_time": "2025-09-08T05:15:21.694162",
     "status": "completed"
    },
    "tags": []
   },
   "outputs": [],
   "source": []
  }
 ],
 "metadata": {
  "kaggle": {
   "accelerator": "none",
   "dataSources": [],
   "dockerImageVersionId": 31089,
   "isGpuEnabled": false,
   "isInternetEnabled": true,
   "language": "python",
   "sourceType": "notebook"
  },
  "kernelspec": {
   "display_name": "Python 3",
   "language": "python",
   "name": "python3"
  },
  "language_info": {
   "codemirror_mode": {
    "name": "ipython",
    "version": 3
   },
   "file_extension": ".py",
   "mimetype": "text/x-python",
   "name": "python",
   "nbconvert_exporter": "python",
   "pygments_lexer": "ipython3",
   "version": "3.11.13"
  },
  "papermill": {
   "default_parameters": {},
   "duration": 29.593405,
   "end_time": "2025-09-08T05:15:24.881819",
   "environment_variables": {},
   "exception": null,
   "input_path": "__notebook__.ipynb",
   "output_path": "__notebook__.ipynb",
   "parameters": {},
   "start_time": "2025-09-08T05:14:55.288414",
   "version": "2.6.0"
  }
 },
 "nbformat": 4,
 "nbformat_minor": 5
}

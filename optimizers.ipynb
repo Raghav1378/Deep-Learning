{
 "cells": [
  {
   "cell_type": "code",
   "execution_count": 1,
   "id": "7aaf1707",
   "metadata": {
    "_cell_guid": "b1076dfc-b9ad-4769-8c92-a6c4dae69d19",
    "_uuid": "8f2839f25d086af736a60e9eeb907d3b93b6e0e5",
    "execution": {
     "iopub.execute_input": "2025-09-03T14:36:15.975891Z",
     "iopub.status.busy": "2025-09-03T14:36:15.975470Z",
     "iopub.status.idle": "2025-09-03T14:36:18.392250Z",
     "shell.execute_reply": "2025-09-03T14:36:18.389995Z"
    },
    "papermill": {
     "duration": 2.430922,
     "end_time": "2025-09-03T14:36:18.394595",
     "exception": false,
     "start_time": "2025-09-03T14:36:15.963673",
     "status": "completed"
    },
    "tags": []
   },
   "outputs": [
    {
     "name": "stdout",
     "output_type": "stream",
     "text": [
      "/kaggle/input/daily-delhi-climate/DailyDelhiClimate.csv\n",
      "/kaggle/input/pima-indians-diabetes-database/diabetes.csv\n"
     ]
    }
   ],
   "source": [
    "# This Python 3 environment comes with many helpful analytics libraries installed\n",
    "# It is defined by the kaggle/python Docker image: https://github.com/kaggle/docker-python\n",
    "# For example, here's several helpful packages to load\n",
    "\n",
    "import numpy as np # linear algebra\n",
    "import pandas as pd # data processing, CSV file I/O (e.g. pd.read_csv)\n",
    "\n",
    "# Input data files are available in the read-only \"../input/\" directory\n",
    "# For example, running this (by clicking run or pressing Shift+Enter) will list all files under the input directory\n",
    "\n",
    "import os\n",
    "for dirname, _, filenames in os.walk('/kaggle/input'):\n",
    "    for filename in filenames:\n",
    "        print(os.path.join(dirname, filename))\n",
    "\n",
    "# You can write up to 20GB to the current directory (/kaggle/working/) that gets preserved as output when you create a version using \"Save & Run All\" \n",
    "# You can also write temporary files to /kaggle/temp/, but they won't be saved outside of the current session"
   ]
  },
  {
   "cell_type": "code",
   "execution_count": 2,
   "id": "a594e9a6",
   "metadata": {
    "execution": {
     "iopub.execute_input": "2025-09-03T14:36:18.413935Z",
     "iopub.status.busy": "2025-09-03T14:36:18.413491Z",
     "iopub.status.idle": "2025-09-03T14:36:18.961746Z",
     "shell.execute_reply": "2025-09-03T14:36:18.960599Z"
    },
    "papermill": {
     "duration": 0.559635,
     "end_time": "2025-09-03T14:36:18.963460",
     "exception": false,
     "start_time": "2025-09-03T14:36:18.403825",
     "status": "completed"
    },
    "tags": []
   },
   "outputs": [
    {
     "name": "stdout",
     "output_type": "stream",
     "text": [
      "Path to dataset files: /kaggle/input/daily-delhi-climate\n"
     ]
    }
   ],
   "source": [
    "import kagglehub\n",
    "\n",
    "# Download latest version\n",
    "path = kagglehub.dataset_download(\"sukhmandeepsinghbrar/daily-delhi-climate\")\n",
    "\n",
    "print(\"Path to dataset files:\", path)"
   ]
  },
  {
   "cell_type": "markdown",
   "id": "fd5019be",
   "metadata": {
    "papermill": {
     "duration": 0.008255,
     "end_time": "2025-09-03T14:36:18.980241",
     "exception": false,
     "start_time": "2025-09-03T14:36:18.971986",
     "status": "completed"
    },
    "tags": []
   },
   "source": [
    "# 🚀 Deep Learning Optimizers – End to End with Math\n",
    "\n",
    "Optimizers are algorithms used to **update the weights** of a neural network in order to minimize the loss function.\n",
    "\n",
    "---\n",
    "\n",
    "## 1. **Gradient Descent (GD)**\n",
    "\n",
    "- Update rule:  \n",
    "  $$\n",
    "  \\theta = \\theta - \\eta \\cdot \\nabla_\\theta J(\\theta)\n",
    "  $$\n",
    "\n",
    "- Where:  \n",
    "  - $\\theta$: model parameters (weights & biases)  \n",
    "  - $\\eta$: learning rate  \n",
    "  - $\\nabla_\\theta J(\\theta)$: gradient of loss w.r.t. parameters  \n",
    "\n",
    "### 🔹 Types:\n",
    "1. **Batch Gradient Descent** → Uses full dataset (slow, memory heavy).  \n",
    "2. **Stochastic Gradient Descent (SGD)** → Uses one sample (fast, noisy).  \n",
    "3. **Mini-Batch Gradient Descent** → Uses small batch (balance of both).\n",
    "\n",
    "---\n",
    "\n",
    "## 2. **Momentum**\n",
    "\n",
    "- Idea: Accelerates gradients in consistent directions, dampens oscillations.  \n",
    "\n",
    "- Update rules:  \n",
    "  $$\n",
    "  v_t = \\beta v_{t-1} + (1 - \\beta) \\nabla_\\theta J(\\theta)\n",
    "  $$\n",
    "  $$\n",
    "  \\theta = \\theta - \\eta v_t\n",
    "  $$\n",
    "\n",
    "- Where:  \n",
    "  - $v_t$: velocity term (exponentially decaying avg. of past gradients)  \n",
    "  - $\\beta$: momentum coefficient (commonly 0.9)  \n",
    "\n",
    "✅ Helps escape local minima and improves convergence.\n",
    "\n",
    "---\n",
    "\n",
    "## 3. **Nesterov Accelerated Gradient (NAG)**\n",
    "\n",
    "- Looks ahead before making an update.  \n",
    "\n",
    "- Update rules:  \n",
    "  $$\n",
    "  v_t = \\beta v_{t-1} + \\eta \\nabla_\\theta J(\\theta - \\beta v_{t-1})\n",
    "  $$\n",
    "  $$\n",
    "  \\theta = \\theta - v_t\n",
    "  $$\n",
    "\n",
    "✅ More accurate than Momentum, prevents overshooting.\n",
    "\n",
    "---\n",
    "\n",
    "## 4. **Adagrad**\n",
    "\n",
    "- Adapts learning rate per parameter (useful for sparse data).  \n",
    "\n",
    "- Update rules:  \n",
    "  $$\n",
    "  g_t = \\nabla_\\theta J(\\theta)\n",
    "  $$\n",
    "  $$\n",
    "  G_t = G_{t-1} + g_t^2\n",
    "  $$\n",
    "  $$\n",
    "  \\theta = \\theta - \\frac{\\eta}{\\sqrt{G_t + \\epsilon}} g_t\n",
    "  $$\n",
    "\n",
    "✅ Large updates for infrequent features, small updates for frequent ones.  \n",
    "❌ Learning rate decreases too much over time → slows down.\n",
    "\n",
    "---\n",
    "\n",
    "## 5. **RMSProp**\n",
    "\n",
    "- Fixes Adagrad’s problem by using **exponential moving average**.  \n",
    "\n",
    "- Update rules:  \n",
    "  $$\n",
    "  E[g^2]_t = \\beta E[g^2]_{t-1} + (1 - \\beta) g_t^2\n",
    "  $$\n",
    "  $$\n",
    "  \\theta = \\theta - \\frac{\\eta}{\\sqrt{E[g^2]_t + \\epsilon}} g_t\n",
    "  $$\n",
    "\n",
    "✅ Keeps learning rate stable, widely used in RNNs.\n",
    "\n",
    "---\n",
    "\n",
    "## 6. **Adam (Adaptive Moment Estimation)**\n",
    "\n",
    "- Combines **Momentum + RMSProp**.  \n",
    "- Most widely used optimizer.\n",
    "\n",
    "- Update rules:  \n",
    "  - First moment estimate (mean of gradients):  \n",
    "    $$\n",
    "    m_t = \\beta_1 m_{t-1} + (1 - \\beta_1) g_t\n",
    "    $$\n",
    "  - Second moment estimate (uncentered variance):  \n",
    "    $$\n",
    "    v_t = \\beta_2 v_{t-1} + (1 - \\beta_2) g_t^2\n",
    "    $$\n",
    "  - Bias correction:  \n",
    "    $$\n",
    "    \\hat{m}_t = \\frac{m_t}{1 - \\beta_1^t}, \\quad \n",
    "    \\hat{v}_t = \\frac{v_t}{1 - \\beta_2^t}\n",
    "    $$\n",
    "  - Update rule:  \n",
    "    $$\n",
    "    \\theta = \\theta - \\frac{\\eta}{\\sqrt{\\hat{v}_t} + \\epsilon} \\hat{m}_t\n",
    "    $$\n",
    "\n",
    "✅ Fast convergence, adaptive LR, works well in most scenarios.  \n",
    "❌ Can sometimes generalize worse than SGD.\n",
    "\n",
    "---\n",
    "\n",
    "## 7. **AdamW (Adam with Weight Decay)**\n",
    "\n",
    "- Fixes Adam’s poor generalization by **decoupling weight decay**.  \n",
    "- Update rule:  \n",
    "  $$\n",
    "  \\theta = \\theta - \\eta \\Big( \\frac{\\hat{m}_t}{\\sqrt{\\hat{v}_t} + \\epsilon} + \\lambda \\theta \\Big)\n",
    "  $$\n",
    "\n",
    "✅ Preferred in modern deep learning (e.g., Transformers, CNNs).\n",
    "\n",
    "---\n",
    "\n",
    "## 8. **Other Variants**\n",
    "- **Nadam** → Adam + Nesterov momentum.  \n",
    "- **AdaMax** → Adam but uses infinity norm instead of L2.  \n",
    "- **LAMB** → Scales layer-wise learning rates (used in BERT training).  \n",
    "\n",
    "---\n",
    "\n",
    "# 🔥 Summary Table\n",
    "\n",
    "| Optimizer | Key Idea | Pros | Cons |\n",
    "|-----------|----------|------|------|\n",
    "| SGD | Fixed LR, simple | Stable, good generalization | Slow convergence |\n",
    "| Momentum | Adds velocity | Faster, smoother updates | Can overshoot |\n",
    "| NAG | Look-ahead gradient | More accurate | Slightly more computation |\n",
    "| Adagrad | Adaptive LR | Good for sparse data | LR decays too much |\n",
    "| RMSProp | Moving avg of squared grad | Good for RNNs | Hyperparam tuning |\n",
    "| Adam | Momentum + RMSProp | Fast, widely used | Poor generalization sometimes |\n",
    "| AdamW | Adam + weight decay | Better generalization | Still heavy tuning |\n",
    "\n",
    "---\n",
    "\n",
    "# ✅ Key Takeaways\n",
    "- **Start with Adam** for most tasks.  \n",
    "- **Use SGD + Momentum** if you care about **generalization** (e.g., CV tasks).  \n",
    "- **Use AdamW** in large-scale deep learning (Transformers, modern DL).  \n"
   ]
  },
  {
   "cell_type": "markdown",
   "id": "7efe2da2",
   "metadata": {
    "papermill": {
     "duration": 0.01056,
     "end_time": "2025-09-03T14:36:19.001520",
     "exception": false,
     "start_time": "2025-09-03T14:36:18.990960",
     "status": "completed"
    },
    "tags": []
   },
   "source": [
    "# Exponentially Wieghted Moving Average"
   ]
  },
  {
   "cell_type": "markdown",
   "id": "3564f3f7",
   "metadata": {
    "papermill": {
     "duration": 0.008612,
     "end_time": "2025-09-03T14:36:19.021100",
     "exception": false,
     "start_time": "2025-09-03T14:36:19.012488",
     "status": "completed"
    },
    "tags": []
   },
   "source": [
    "# if we have to find the trends and all and graph of the data then we use this like in time series forecasing,financial and in deep leanring and we can also use this in optimizers\n"
   ]
  },
  {
   "cell_type": "markdown",
   "id": "391397ba",
   "metadata": {
    "papermill": {
     "duration": 0.011054,
     "end_time": "2025-09-03T14:36:19.041562",
     "exception": false,
     "start_time": "2025-09-03T14:36:19.030508",
     "status": "completed"
    },
    "tags": []
   },
   "source": [
    "## Exponentially Weighted Moving Average (EWMA)\n",
    "\n",
    "### 🔹 What is EWMA?\n",
    "The **Exponentially Weighted Moving Average (EWMA)** is a type of moving average where **recent observations are given more weight** compared to older observations.  \n",
    "This is different from the **Simple Moving Average (SMA)** where all points in the window are weighted equally.\n",
    "\n",
    "It is widely used in **time series analysis**, **finance (stock trends)**, and **quality control** because it reacts faster to recent changes in data.\n",
    "\n",
    "---\n",
    "\n",
    "### 🔹 Formula\n",
    "The EWMA at time `t` is defined as:\n",
    "\n",
    "$$\n",
    "y_t = \\alpha x_t + (1 - \\alpha) y_{t-1}\n",
    "$$\n",
    "\n",
    "Where:\n",
    "\n",
    "- $y_t$ = EWMA value at time $t$  \n",
    "- $x_t$ = actual observation at time $t$  \n",
    "- $y_{t-1}$ = EWMA value at previous time step  \n",
    "- $\\alpha$ = smoothing factor $(0 < \\alpha \\leq 1)$  \n",
    "\n",
    "---\n",
    "\n",
    "### 🔹 Intuition\n",
    "- The **smoothing factor $\\alpha$** controls how quickly older data decays:\n",
    "  - **$\\alpha$ close to 1** → More weight on recent data (very reactive to changes).  \n",
    "  - **$\\alpha$ close to 0** → More weight on older data (smoother, less reactive).  \n",
    "- Each observation gets a weight that decreases **exponentially** with time.\n",
    "\n",
    "Example of weights with $\\alpha = 0.3$:\n",
    "- Most recent point → weight = $0.3$  \n",
    "- One step before → weight = $0.3 \\times (1 - 0.3) = 0.21$  \n",
    "- Two steps before → weight = $0.3 \\times (1 - 0.3)^2 = 0.147$  \n",
    "- … and so on.\n",
    "\n",
    "So older data never *fully disappears* but its effect reduces exponentially.\n",
    "\n",
    "---\n",
    "\n",
    "### 🔹 Applications\n",
    "1. **Finance** → Track trends in stock prices.  \n",
    "2. **Forecasting** → Smooth noisy time series.  \n",
    "3. **Control Systems / Quality** → Detect shifts in processes.  \n",
    "4. **Machine Learning** → Feature engineering for sequential data.  \n",
    "\n",
    "---\n",
    "\n",
    "### 🔹 Implementation in Pandas\n",
    "```python\n",
    "import pandas as pd\n",
    "\n",
    "# Example data\n",
    "data = [10, 12, 13, 12, 15, 18, 20]\n",
    "series = pd.Series(data)\n",
    "\n",
    "# Compute EWMA with alpha=0.3\n",
    "ewma = series.ewm(alpha=0.3, adjust=False).mean()\n",
    "print(ewma)\n",
    "\n",
    "\n",
    "\n",
    "```\n",
    "\n",
    "\n",
    "\n",
    "---\n",
    "\n",
    "✅ This version will render formulas properly inside Jupyter Notebook Markdown.  \n",
    "\n",
    "Do you also want me to add a **compact inline version** of the recursive expansion like:  \n",
    "$$y_t = \\alpha x_t + \\alpha(1-\\alpha)x_{t-1} + \\alpha(1-\\alpha)^2x_{t-2} + \\dots$$  \n",
    "so it’s extra clear how EWMA keeps past data?\n"
   ]
  },
  {
   "cell_type": "markdown",
   "id": "eaf5bede",
   "metadata": {
    "papermill": {
     "duration": 0.009101,
     "end_time": "2025-09-03T14:36:19.060696",
     "exception": false,
     "start_time": "2025-09-03T14:36:19.051595",
     "status": "completed"
    },
    "tags": []
   },
   "source": [
    "# It menans it is moody person if the low beta then it is moody guy but whne we have high beta values that means it is going to be stable"
   ]
  },
  {
   "cell_type": "markdown",
   "id": "f922635f",
   "metadata": {
    "papermill": {
     "duration": 0.008218,
     "end_time": "2025-09-03T14:36:19.078712",
     "exception": false,
     "start_time": "2025-09-03T14:36:19.070494",
     "status": "completed"
    },
    "tags": []
   },
   "source": [
    "# SO you can also imagine the lower beta are more like younger siblings highliy reactive and more mischevious and uncontrollable while the higer beta is more calm like elder sibbling with more sense and compose personality"
   ]
  },
  {
   "cell_type": "markdown",
   "id": "556a17d2",
   "metadata": {
    "papermill": {
     "duration": 0.011129,
     "end_time": "2025-09-03T14:36:19.098548",
     "exception": false,
     "start_time": "2025-09-03T14:36:19.087419",
     "status": "completed"
    },
    "tags": []
   },
   "source": [
    "🔹 Beta (β) Intuition with Overfitting/Underfitting\n",
    "\n",
    "High β (close to 1)\n",
    "\n",
    "Heavily relies on the past (memory).\n",
    "\n",
    "Reacts slowly to new changes.\n",
    "\n",
    "Tends to underfit → ignores short-term fluctuations.\n",
    "\n",
    "👉 Like the elder sibling: calm, composed, steady, doesn’t get swayed by every small thing.\n",
    "\n",
    "Low β (close to 0)\n",
    "\n",
    "Focuses more on new values.\n",
    "\n",
    "Reacts quickly to changes.\n",
    "\n",
    "Tends to overfit → chases every little wiggle (even noise).\n",
    "\n",
    "👉 Like the younger sibling: energetic, reactive, “naughty as hell”, changes mood fast.\n",
    "\n",
    "✅ Big Picture\n",
    "\n",
    "High β = Underfitting risk → too smooth, ignores new patterns.\n",
    "\n",
    "Low β = Overfitting risk → too reactive, follows noise as if it’s real signal.\n",
    "\n",
    "Balanced β (like 0.5–0.7 in many time series) → good trade-off between smoothness and adaptability.\n",
    "\n",
    "So your analogy is 🔥:\n",
    "👉 Elder sibling (β ↑) → composed, smooth, ignores little noise = underfit.\n",
    "👉 Younger sibling (β ↓) → reacts to every small thing = overfit."
   ]
  },
  {
   "cell_type": "code",
   "execution_count": 3,
   "id": "bf79d557",
   "metadata": {
    "execution": {
     "iopub.execute_input": "2025-09-03T14:36:19.117451Z",
     "iopub.status.busy": "2025-09-03T14:36:19.117043Z",
     "iopub.status.idle": "2025-09-03T14:36:21.871739Z",
     "shell.execute_reply": "2025-09-03T14:36:21.870428Z"
    },
    "papermill": {
     "duration": 2.767225,
     "end_time": "2025-09-03T14:36:21.874372",
     "exception": false,
     "start_time": "2025-09-03T14:36:19.107147",
     "status": "completed"
    },
    "tags": []
   },
   "outputs": [
    {
     "data": {
      "text/html": [
       "<html>\n",
       "<head><meta charset=\"utf-8\" /></head>\n",
       "<body>\n",
       "    <div>            <script src=\"https://cdnjs.cloudflare.com/ajax/libs/mathjax/2.7.5/MathJax.js?config=TeX-AMS-MML_SVG\"></script><script type=\"text/javascript\">if (window.MathJax && window.MathJax.Hub && window.MathJax.Hub.Config) {window.MathJax.Hub.Config({SVG: {font: \"STIX-Web\"}});}</script>                <script type=\"text/javascript\">window.PlotlyConfig = {MathJaxConfig: 'local'};</script>\n",
       "        <script charset=\"utf-8\" src=\"https://cdn.plot.ly/plotly-2.35.2.min.js\"></script>                <div id=\"715656c1-8fb3-48c2-a23d-ecd68927f3fb\" class=\"plotly-graph-div\" style=\"height:525px; width:100%;\"></div>            <script type=\"text/javascript\">                                    window.PLOTLYENV=window.PLOTLYENV || {};                                    if (document.getElementById(\"715656c1-8fb3-48c2-a23d-ecd68927f3fb\")) {                    Plotly.newPlot(                        \"715656c1-8fb3-48c2-a23d-ecd68927f3fb\",                        [{\"line\":{\"color\":\"black\",\"width\":2},\"marker\":{\"size\":8,\"symbol\":\"circle\"},\"mode\":\"lines+markers\",\"name\":\"Original Data\",\"x\":[0,1,2,3,4,5,6,7,8,9,10,11,12,13,14],\"y\":[10,12,13,12,15,18,20,19,21,25,23,22,24,27,26],\"type\":\"scatter\"},{\"line\":{\"color\":\"red\",\"width\":2},\"marker\":{\"size\":6,\"symbol\":\"triangle-up\"},\"mode\":\"lines+markers\",\"name\":\"EWMA (β=0.2, fast reaction)\",\"x\":[0,1,2,3,4,5,6,7,8,9,10,11,12,13,14],\"y\":[10.0,11.600000000000001,12.72,12.144000000000002,14.428799999999999,17.28576,19.457152,19.0914304,20.61828608,24.123657215999998,23.2247314432,22.24494628864,23.648989257728,26.3297978515456,26.06595957030912],\"type\":\"scatter\"},{\"line\":{\"color\":\"blue\",\"width\":2},\"marker\":{\"size\":6,\"symbol\":\"square\"},\"mode\":\"lines+markers\",\"name\":\"EWMA (β=0.5, balanced)\",\"x\":[0,1,2,3,4,5,6,7,8,9,10,11,12,13,14],\"y\":[10.0,11.0,12.0,12.0,13.5,15.75,17.875,18.4375,19.71875,22.359375,22.6796875,22.33984375,23.169921875,25.0849609375,25.54248046875],\"type\":\"scatter\"},{\"line\":{\"color\":\"green\",\"width\":2},\"marker\":{\"size\":6,\"symbol\":\"diamond\"},\"mode\":\"lines+markers\",\"name\":\"EWMA (β=0.9, smooth trend)\",\"x\":[0,1,2,3,4,5,6,7,8,9,10,11,12,13,14],\"y\":[10.0,10.2,10.48,10.632,11.0688,11.761919999999998,12.585727999999998,13.227155199999999,14.004439679999999,15.103995712,15.8935961408,16.50423652672,17.253812874048,18.228431586643197,19.00558842797888],\"type\":\"scatter\"}],                        {\"template\":{\"data\":{\"barpolar\":[{\"marker\":{\"line\":{\"color\":\"white\",\"width\":0.5},\"pattern\":{\"fillmode\":\"overlay\",\"size\":10,\"solidity\":0.2}},\"type\":\"barpolar\"}],\"bar\":[{\"error_x\":{\"color\":\"#2a3f5f\"},\"error_y\":{\"color\":\"#2a3f5f\"},\"marker\":{\"line\":{\"color\":\"white\",\"width\":0.5},\"pattern\":{\"fillmode\":\"overlay\",\"size\":10,\"solidity\":0.2}},\"type\":\"bar\"}],\"carpet\":[{\"aaxis\":{\"endlinecolor\":\"#2a3f5f\",\"gridcolor\":\"#C8D4E3\",\"linecolor\":\"#C8D4E3\",\"minorgridcolor\":\"#C8D4E3\",\"startlinecolor\":\"#2a3f5f\"},\"baxis\":{\"endlinecolor\":\"#2a3f5f\",\"gridcolor\":\"#C8D4E3\",\"linecolor\":\"#C8D4E3\",\"minorgridcolor\":\"#C8D4E3\",\"startlinecolor\":\"#2a3f5f\"},\"type\":\"carpet\"}],\"choropleth\":[{\"colorbar\":{\"outlinewidth\":0,\"ticks\":\"\"},\"type\":\"choropleth\"}],\"contourcarpet\":[{\"colorbar\":{\"outlinewidth\":0,\"ticks\":\"\"},\"type\":\"contourcarpet\"}],\"contour\":[{\"colorbar\":{\"outlinewidth\":0,\"ticks\":\"\"},\"colorscale\":[[0.0,\"#0d0887\"],[0.1111111111111111,\"#46039f\"],[0.2222222222222222,\"#7201a8\"],[0.3333333333333333,\"#9c179e\"],[0.4444444444444444,\"#bd3786\"],[0.5555555555555556,\"#d8576b\"],[0.6666666666666666,\"#ed7953\"],[0.7777777777777778,\"#fb9f3a\"],[0.8888888888888888,\"#fdca26\"],[1.0,\"#f0f921\"]],\"type\":\"contour\"}],\"heatmapgl\":[{\"colorbar\":{\"outlinewidth\":0,\"ticks\":\"\"},\"colorscale\":[[0.0,\"#0d0887\"],[0.1111111111111111,\"#46039f\"],[0.2222222222222222,\"#7201a8\"],[0.3333333333333333,\"#9c179e\"],[0.4444444444444444,\"#bd3786\"],[0.5555555555555556,\"#d8576b\"],[0.6666666666666666,\"#ed7953\"],[0.7777777777777778,\"#fb9f3a\"],[0.8888888888888888,\"#fdca26\"],[1.0,\"#f0f921\"]],\"type\":\"heatmapgl\"}],\"heatmap\":[{\"colorbar\":{\"outlinewidth\":0,\"ticks\":\"\"},\"colorscale\":[[0.0,\"#0d0887\"],[0.1111111111111111,\"#46039f\"],[0.2222222222222222,\"#7201a8\"],[0.3333333333333333,\"#9c179e\"],[0.4444444444444444,\"#bd3786\"],[0.5555555555555556,\"#d8576b\"],[0.6666666666666666,\"#ed7953\"],[0.7777777777777778,\"#fb9f3a\"],[0.8888888888888888,\"#fdca26\"],[1.0,\"#f0f921\"]],\"type\":\"heatmap\"}],\"histogram2dcontour\":[{\"colorbar\":{\"outlinewidth\":0,\"ticks\":\"\"},\"colorscale\":[[0.0,\"#0d0887\"],[0.1111111111111111,\"#46039f\"],[0.2222222222222222,\"#7201a8\"],[0.3333333333333333,\"#9c179e\"],[0.4444444444444444,\"#bd3786\"],[0.5555555555555556,\"#d8576b\"],[0.6666666666666666,\"#ed7953\"],[0.7777777777777778,\"#fb9f3a\"],[0.8888888888888888,\"#fdca26\"],[1.0,\"#f0f921\"]],\"type\":\"histogram2dcontour\"}],\"histogram2d\":[{\"colorbar\":{\"outlinewidth\":0,\"ticks\":\"\"},\"colorscale\":[[0.0,\"#0d0887\"],[0.1111111111111111,\"#46039f\"],[0.2222222222222222,\"#7201a8\"],[0.3333333333333333,\"#9c179e\"],[0.4444444444444444,\"#bd3786\"],[0.5555555555555556,\"#d8576b\"],[0.6666666666666666,\"#ed7953\"],[0.7777777777777778,\"#fb9f3a\"],[0.8888888888888888,\"#fdca26\"],[1.0,\"#f0f921\"]],\"type\":\"histogram2d\"}],\"histogram\":[{\"marker\":{\"pattern\":{\"fillmode\":\"overlay\",\"size\":10,\"solidity\":0.2}},\"type\":\"histogram\"}],\"mesh3d\":[{\"colorbar\":{\"outlinewidth\":0,\"ticks\":\"\"},\"type\":\"mesh3d\"}],\"parcoords\":[{\"line\":{\"colorbar\":{\"outlinewidth\":0,\"ticks\":\"\"}},\"type\":\"parcoords\"}],\"pie\":[{\"automargin\":true,\"type\":\"pie\"}],\"scatter3d\":[{\"line\":{\"colorbar\":{\"outlinewidth\":0,\"ticks\":\"\"}},\"marker\":{\"colorbar\":{\"outlinewidth\":0,\"ticks\":\"\"}},\"type\":\"scatter3d\"}],\"scattercarpet\":[{\"marker\":{\"colorbar\":{\"outlinewidth\":0,\"ticks\":\"\"}},\"type\":\"scattercarpet\"}],\"scattergeo\":[{\"marker\":{\"colorbar\":{\"outlinewidth\":0,\"ticks\":\"\"}},\"type\":\"scattergeo\"}],\"scattergl\":[{\"marker\":{\"colorbar\":{\"outlinewidth\":0,\"ticks\":\"\"}},\"type\":\"scattergl\"}],\"scattermapbox\":[{\"marker\":{\"colorbar\":{\"outlinewidth\":0,\"ticks\":\"\"}},\"type\":\"scattermapbox\"}],\"scatterpolargl\":[{\"marker\":{\"colorbar\":{\"outlinewidth\":0,\"ticks\":\"\"}},\"type\":\"scatterpolargl\"}],\"scatterpolar\":[{\"marker\":{\"colorbar\":{\"outlinewidth\":0,\"ticks\":\"\"}},\"type\":\"scatterpolar\"}],\"scatter\":[{\"fillpattern\":{\"fillmode\":\"overlay\",\"size\":10,\"solidity\":0.2},\"type\":\"scatter\"}],\"scatterternary\":[{\"marker\":{\"colorbar\":{\"outlinewidth\":0,\"ticks\":\"\"}},\"type\":\"scatterternary\"}],\"surface\":[{\"colorbar\":{\"outlinewidth\":0,\"ticks\":\"\"},\"colorscale\":[[0.0,\"#0d0887\"],[0.1111111111111111,\"#46039f\"],[0.2222222222222222,\"#7201a8\"],[0.3333333333333333,\"#9c179e\"],[0.4444444444444444,\"#bd3786\"],[0.5555555555555556,\"#d8576b\"],[0.6666666666666666,\"#ed7953\"],[0.7777777777777778,\"#fb9f3a\"],[0.8888888888888888,\"#fdca26\"],[1.0,\"#f0f921\"]],\"type\":\"surface\"}],\"table\":[{\"cells\":{\"fill\":{\"color\":\"#EBF0F8\"},\"line\":{\"color\":\"white\"}},\"header\":{\"fill\":{\"color\":\"#C8D4E3\"},\"line\":{\"color\":\"white\"}},\"type\":\"table\"}]},\"layout\":{\"annotationdefaults\":{\"arrowcolor\":\"#2a3f5f\",\"arrowhead\":0,\"arrowwidth\":1},\"autotypenumbers\":\"strict\",\"coloraxis\":{\"colorbar\":{\"outlinewidth\":0,\"ticks\":\"\"}},\"colorscale\":{\"diverging\":[[0,\"#8e0152\"],[0.1,\"#c51b7d\"],[0.2,\"#de77ae\"],[0.3,\"#f1b6da\"],[0.4,\"#fde0ef\"],[0.5,\"#f7f7f7\"],[0.6,\"#e6f5d0\"],[0.7,\"#b8e186\"],[0.8,\"#7fbc41\"],[0.9,\"#4d9221\"],[1,\"#276419\"]],\"sequential\":[[0.0,\"#0d0887\"],[0.1111111111111111,\"#46039f\"],[0.2222222222222222,\"#7201a8\"],[0.3333333333333333,\"#9c179e\"],[0.4444444444444444,\"#bd3786\"],[0.5555555555555556,\"#d8576b\"],[0.6666666666666666,\"#ed7953\"],[0.7777777777777778,\"#fb9f3a\"],[0.8888888888888888,\"#fdca26\"],[1.0,\"#f0f921\"]],\"sequentialminus\":[[0.0,\"#0d0887\"],[0.1111111111111111,\"#46039f\"],[0.2222222222222222,\"#7201a8\"],[0.3333333333333333,\"#9c179e\"],[0.4444444444444444,\"#bd3786\"],[0.5555555555555556,\"#d8576b\"],[0.6666666666666666,\"#ed7953\"],[0.7777777777777778,\"#fb9f3a\"],[0.8888888888888888,\"#fdca26\"],[1.0,\"#f0f921\"]]},\"colorway\":[\"#636efa\",\"#EF553B\",\"#00cc96\",\"#ab63fa\",\"#FFA15A\",\"#19d3f3\",\"#FF6692\",\"#B6E880\",\"#FF97FF\",\"#FECB52\"],\"font\":{\"color\":\"#2a3f5f\"},\"geo\":{\"bgcolor\":\"white\",\"lakecolor\":\"white\",\"landcolor\":\"white\",\"showlakes\":true,\"showland\":true,\"subunitcolor\":\"#C8D4E3\"},\"hoverlabel\":{\"align\":\"left\"},\"hovermode\":\"closest\",\"mapbox\":{\"style\":\"light\"},\"paper_bgcolor\":\"white\",\"plot_bgcolor\":\"white\",\"polar\":{\"angularaxis\":{\"gridcolor\":\"#EBF0F8\",\"linecolor\":\"#EBF0F8\",\"ticks\":\"\"},\"bgcolor\":\"white\",\"radialaxis\":{\"gridcolor\":\"#EBF0F8\",\"linecolor\":\"#EBF0F8\",\"ticks\":\"\"}},\"scene\":{\"xaxis\":{\"backgroundcolor\":\"white\",\"gridcolor\":\"#DFE8F3\",\"gridwidth\":2,\"linecolor\":\"#EBF0F8\",\"showbackground\":true,\"ticks\":\"\",\"zerolinecolor\":\"#EBF0F8\"},\"yaxis\":{\"backgroundcolor\":\"white\",\"gridcolor\":\"#DFE8F3\",\"gridwidth\":2,\"linecolor\":\"#EBF0F8\",\"showbackground\":true,\"ticks\":\"\",\"zerolinecolor\":\"#EBF0F8\"},\"zaxis\":{\"backgroundcolor\":\"white\",\"gridcolor\":\"#DFE8F3\",\"gridwidth\":2,\"linecolor\":\"#EBF0F8\",\"showbackground\":true,\"ticks\":\"\",\"zerolinecolor\":\"#EBF0F8\"}},\"shapedefaults\":{\"line\":{\"color\":\"#2a3f5f\"}},\"ternary\":{\"aaxis\":{\"gridcolor\":\"#DFE8F3\",\"linecolor\":\"#A2B1C6\",\"ticks\":\"\"},\"baxis\":{\"gridcolor\":\"#DFE8F3\",\"linecolor\":\"#A2B1C6\",\"ticks\":\"\"},\"bgcolor\":\"white\",\"caxis\":{\"gridcolor\":\"#DFE8F3\",\"linecolor\":\"#A2B1C6\",\"ticks\":\"\"}},\"title\":{\"x\":0.05},\"xaxis\":{\"automargin\":true,\"gridcolor\":\"#EBF0F8\",\"linecolor\":\"#EBF0F8\",\"ticks\":\"\",\"title\":{\"standoff\":15},\"zerolinecolor\":\"#EBF0F8\",\"zerolinewidth\":2},\"yaxis\":{\"automargin\":true,\"gridcolor\":\"#EBF0F8\",\"linecolor\":\"#EBF0F8\",\"ticks\":\"\",\"title\":{\"standoff\":15},\"zerolinecolor\":\"#EBF0F8\",\"zerolinewidth\":2}}},\"legend\":{\"title\":{\"text\":\"Legend\"},\"x\":0.02,\"y\":0.98},\"title\":{\"text\":\"Effect of Different β Values in EWMA (Interactive)\"},\"xaxis\":{\"title\":{\"text\":\"Time\"}},\"yaxis\":{\"title\":{\"text\":\"Value\"}},\"hovermode\":\"x unified\"},                        {\"responsive\": true}                    ).then(function(){\n",
       "                            \n",
       "var gd = document.getElementById('715656c1-8fb3-48c2-a23d-ecd68927f3fb');\n",
       "var x = new MutationObserver(function (mutations, observer) {{\n",
       "        var display = window.getComputedStyle(gd).display;\n",
       "        if (!display || display === 'none') {{\n",
       "            console.log([gd, 'removed!']);\n",
       "            Plotly.purge(gd);\n",
       "            observer.disconnect();\n",
       "        }}\n",
       "}});\n",
       "\n",
       "// Listen for the removal of the full notebook cells\n",
       "var notebookContainer = gd.closest('#notebook-container');\n",
       "if (notebookContainer) {{\n",
       "    x.observe(notebookContainer, {childList: true});\n",
       "}}\n",
       "\n",
       "// Listen for the clearing of the current output cell\n",
       "var outputEl = gd.closest('.output');\n",
       "if (outputEl) {{\n",
       "    x.observe(outputEl, {childList: true});\n",
       "}}\n",
       "\n",
       "                        })                };                            </script>        </div>\n",
       "</body>\n",
       "</html>"
      ]
     },
     "metadata": {},
     "output_type": "display_data"
    }
   ],
   "source": [
    "import pandas as pd\n",
    "import plotly.graph_objects as go\n",
    "\n",
    "# Example noisy time series\n",
    "data = [10, 12, 13, 12, 15, 18, 20, 19, 21, 25, 23, 22, 24, 27, 26]\n",
    "series = pd.Series(data)\n",
    "\n",
    "# Compute EWMA with different beta values\n",
    "ewma_02 = series.ewm(alpha=1-0.2, adjust=False).mean()  # beta=0.2 → alpha=0.8\n",
    "ewma_05 = series.ewm(alpha=1-0.5, adjust=False).mean()  # beta=0.5 → alpha=0.5\n",
    "ewma_09 = series.ewm(alpha=1-0.9, adjust=False).mean()  # beta=0.9 → alpha=0.1\n",
    "\n",
    "# Create Plotly figure\n",
    "fig = go.Figure()\n",
    "\n",
    "# Original data\n",
    "fig.add_trace(go.Scatter(\n",
    "    x=series.index, y=series,\n",
    "    mode='lines+markers',\n",
    "    name='Original Data',\n",
    "    line=dict(width=2, color='black'),\n",
    "    marker=dict(size=8, symbol='circle')\n",
    "))\n",
    "\n",
    "# EWMA β=0.2\n",
    "fig.add_trace(go.Scatter(\n",
    "    x=series.index, y=ewma_02,\n",
    "    mode='lines+markers',\n",
    "    name='EWMA (β=0.2, fast reaction)',\n",
    "    line=dict(width=2, color='red'),\n",
    "    marker=dict(size=6, symbol='triangle-up')\n",
    "))\n",
    "\n",
    "# EWMA β=0.5\n",
    "fig.add_trace(go.Scatter(\n",
    "    x=series.index, y=ewma_05,\n",
    "    mode='lines+markers',\n",
    "    name='EWMA (β=0.5, balanced)',\n",
    "    line=dict(width=2, color='blue'),\n",
    "    marker=dict(size=6, symbol='square')\n",
    "))\n",
    "\n",
    "# EWMA β=0.9\n",
    "fig.add_trace(go.Scatter(\n",
    "    x=series.index, y=ewma_09,\n",
    "    mode='lines+markers',\n",
    "    name='EWMA (β=0.9, smooth trend)',\n",
    "    line=dict(width=2, color='green'),\n",
    "    marker=dict(size=6, symbol='diamond')\n",
    "))\n",
    "\n",
    "# Layout customization\n",
    "fig.update_layout(\n",
    "    title=\"Effect of Different β Values in EWMA (Interactive)\",\n",
    "    xaxis_title=\"Time\",\n",
    "    yaxis_title=\"Value\",\n",
    "    template=\"plotly_white\",\n",
    "    legend=dict(title=\"Legend\", x=0.02, y=0.98),\n",
    "    hovermode=\"x unified\"\n",
    ")\n",
    "\n",
    "fig.show()\n"
   ]
  },
  {
   "cell_type": "code",
   "execution_count": 4,
   "id": "ace3318b",
   "metadata": {
    "execution": {
     "iopub.execute_input": "2025-09-03T14:36:21.905510Z",
     "iopub.status.busy": "2025-09-03T14:36:21.904985Z",
     "iopub.status.idle": "2025-09-03T14:36:22.191478Z",
     "shell.execute_reply": "2025-09-03T14:36:22.190414Z"
    },
    "papermill": {
     "duration": 0.307733,
     "end_time": "2025-09-03T14:36:22.193281",
     "exception": false,
     "start_time": "2025-09-03T14:36:21.885548",
     "status": "completed"
    },
    "tags": []
   },
   "outputs": [
    {
     "data": {
      "text/html": [
       "<html>\n",
       "<head><meta charset=\"utf-8\" /></head>\n",
       "<body>\n",
       "    <div>            <script src=\"https://cdnjs.cloudflare.com/ajax/libs/mathjax/2.7.5/MathJax.js?config=TeX-AMS-MML_SVG\"></script><script type=\"text/javascript\">if (window.MathJax && window.MathJax.Hub && window.MathJax.Hub.Config) {window.MathJax.Hub.Config({SVG: {font: \"STIX-Web\"}});}</script>                <script type=\"text/javascript\">window.PlotlyConfig = {MathJaxConfig: 'local'};</script>\n",
       "        <script charset=\"utf-8\" src=\"https://cdn.plot.ly/plotly-2.35.2.min.js\"></script>                <div id=\"d5f0e493-d84c-437a-bcea-d77654b7b45e\" class=\"plotly-graph-div\" style=\"height:525px; width:100%;\"></div>            <script type=\"text/javascript\">                                    window.PLOTLYENV=window.PLOTLYENV || {};                                    if (document.getElementById(\"d5f0e493-d84c-437a-bcea-d77654b7b45e\")) {                    Plotly.newPlot(                        \"d5f0e493-d84c-437a-bcea-d77654b7b45e\",                        [{\"line\":{\"color\":\"black\",\"dash\":\"dot\"},\"marker\":{\"color\":\"black\",\"size\":8},\"mode\":\"markers+lines\",\"name\":\"Original Data (Noisy)\",\"x\":[0,1,2,3,4,5,6,7,8,9,10,11,12,13,14,15,16,17,18,19,20,21,22,23,24,25,26,27,28,29,30,31,32,33,34,35,36,37,38,39],\"y\":[0.14901424590336979,0.2857154064447968,0.8126763644999447,1.2983799417303041,0.9016918889463119,0.9251668706670108,1.3830612714778991,0.9533163004841971,0.31643031085532636,0.3038880211356566,-0.32959327071922406,-0.6409959746594218,-0.684213813838118,-1.5029985746681014,-1.5164302668518381,-1.1276105334354303,-1.117178727667907,-0.48392404196572675,-0.551822720855289,-0.3735641005184147,0.8138458612476862,0.5892537085728283,0.887755331025183,0.5550833311223362,0.826043429265827,0.9205708850076543,0.3422531418863709,0.5248278907454582,-0.08887437142089219,-0.32704489806829895,-0.7245330945581888,-0.23293282687054295,-0.9504449242594881,-1.3173034852374736,-0.696736153384528,-1.1493959412278967,-0.47391383949900834,-0.8188348030651007,-0.29832782912295636,0.47922540758737797],\"type\":\"scatter\"},{\"line\":{\"color\":\"blue\",\"width\":3},\"marker\":{\"color\":\"blue\",\"size\":6,\"symbol\":\"circle\"},\"mode\":\"lines+markers\",\"name\":\"EWMA (β=0.1)\",\"x\":[0,1,2,3,4,5,6,7,8,9,10,11,12,13,14,15,16,17,18,19,20,21,22,23,24,25,26,27,28,29,30,31,32,33,34,35,36,37,38,39],\"y\":[0.14901424590336979,0.27328802821375797,0.7592234663094217,1.2445128231238973,0.9359708969448086,0.9262472635711573,1.3373799118004897,0.991722658159254,0.38395954497795604,0.31189517351268015,-0.265444426301807,-0.6034408198239983,-0.6761365144367133,-1.4203123686449701,-1.5068184770311515,-1.1655313277950023,-1.1220139876806166,-0.5477330365372158,-0.5514137524234818,-0.3913490657089214,0.6933263685520255,0.5996609745707481,0.8589458953797395,0.5854695875480765,0.8019860450940519,0.908712401016294,0.39889906779936324,0.5122350084508487,-0.028763433433718056,-0.29721675160484085,-0.681801460262854,-0.27781969020977415,-0.8831824008545167,-1.273891376799178,-0.754451675725993,-1.1099015146777065,-0.5375126070168782,-0.7907025834602784,-0.34756530455668866,0.39654633637297126],\"type\":\"scatter\"},{\"line\":{\"color\":\"green\",\"width\":3},\"marker\":{\"color\":\"green\",\"size\":6,\"symbol\":\"circle\"},\"mode\":\"lines+markers\",\"name\":\"EWMA (β=0.3)\",\"x\":[0,1,2,3,4,5,6,7,8,9,10,11,12,13,14,15,16,17,18,19,20,21,22,23,24,25,26,27,28,29,30,31,32,33,34,35,36,37,38,39],\"y\":[0.14901424590336979,0.25416898478139055,0.6559728550825086,1.109330008680106,0.9636292720765034,0.936685949407633,1.2492170254031394,1.0420729272355989,0.5341130975960813,0.37295459244892704,-0.1188297829500462,-0.48434631139707857,-0.6242535854115446,-1.239375107312206,-1.4333137217727556,-1.2193214890154616,-1.1478215559798381,-0.683093295989915,-0.5912038933849968,-0.4388560383730773,0.4380352913706297,0.5438881834125009,0.784595186741605,0.6239368878080714,0.7654114668285122,0.8740230595539143,0.5017841171866312,0.5179147586778102,0.09316236760871827,-0.20098271836519382,-0.5674679817002903,-0.3332933733194672,-0.7652994589774819,-1.151702277359476,-0.8332259905770124,-1.0545449560326314,-0.6481031744590954,-0.7676153144832991,-0.4391140747310592,0.20372356289184676],\"type\":\"scatter\"},{\"line\":{\"color\":\"orange\",\"width\":3},\"marker\":{\"color\":\"orange\",\"size\":6,\"symbol\":\"circle\"},\"mode\":\"lines+markers\",\"name\":\"EWMA (β=0.7)\",\"x\":[0,1,2,3,4,5,6,7,8,9,10,11,12,13,14,15,16,17,18,19,20,21,22,23,24,25,26,27,28,29,30,31,32,33,34,35,36,37,38,39],\"y\":[0.14901424590336979,0.22942669328067983,0.49575074406573233,0.8126197522238737,0.8447398116239813,0.8720850718581838,1.0391352306350568,1.0118145698644907,0.7944269162199161,0.642987457822721,0.3453275299021699,0.045277398490120385,-0.17571110091017336,-0.5766163751074261,-0.8599054750578609,-0.9404847812198344,-0.9936165658980437,-0.8404594055157648,-0.7537695832979121,-0.6396168534138478,-0.2033343552304553,0.03453506659775766,0.2905712198138583,0.36994005878630526,0.5067894223688739,0.6309355153505767,0.5443251119371014,0.5384756765134544,0.3502646019139263,0.14706717198323924,-0.11441703355623174,-0.1499721642312279,-0.39011584878902317,-0.6682736450288814,-0.6768124298820886,-0.8185878592361102,-0.71518546137825,-0.7462803042873308,-0.6118944395082045,-0.2845582769709532],\"type\":\"scatter\"},{\"line\":{\"color\":\"red\",\"width\":3},\"marker\":{\"color\":\"red\",\"size\":6,\"symbol\":\"circle\"},\"mode\":\"lines+markers\",\"name\":\"EWMA (β=0.9)\",\"x\":[0,1,2,3,4,5,6,7,8,9,10,11,12,13,14,15,16,17,18,19,20,21,22,23,24,25,26,27,28,29,30,31,32,33,34,35,36,37,38,39],\"y\":[0.14901424590336979,0.22096222513569982,0.43930692600811494,0.6891100710276523,0.741021335201582,0.7803217297016191,0.895854787062459,0.9059440241407557,0.8097093798701561,0.7320486067779588,0.5773330324120762,0.4075477543089679,0.26116240604129576,0.03241660605895595,-0.16262552676550704,-0.28107248858925643,-0.3814178989023045,-0.39347878795190394,-0.4117862475692784,-0.407435025888911,-0.27030197766170777,-0.17495712542243055,-0.058351165725942546,0.008309574064871495,0.09640749133798841,0.1845166346032175,0.20126414888231714,0.235407402146603,0.2013763168765651,0.14619499524286908,0.05566841222481372,0.025782086380274204,-0.0749536672293511,-0.20274282838831362,-0.25341045025391296,-0.34507403317098784,-0.3582246499172805,-0.4051418097347874,-0.3942820597928657,-0.3056208216727452],\"type\":\"scatter\"}],                        {\"template\":{\"data\":{\"barpolar\":[{\"marker\":{\"line\":{\"color\":\"rgb(17,17,17)\",\"width\":0.5},\"pattern\":{\"fillmode\":\"overlay\",\"size\":10,\"solidity\":0.2}},\"type\":\"barpolar\"}],\"bar\":[{\"error_x\":{\"color\":\"#f2f5fa\"},\"error_y\":{\"color\":\"#f2f5fa\"},\"marker\":{\"line\":{\"color\":\"rgb(17,17,17)\",\"width\":0.5},\"pattern\":{\"fillmode\":\"overlay\",\"size\":10,\"solidity\":0.2}},\"type\":\"bar\"}],\"carpet\":[{\"aaxis\":{\"endlinecolor\":\"#A2B1C6\",\"gridcolor\":\"#506784\",\"linecolor\":\"#506784\",\"minorgridcolor\":\"#506784\",\"startlinecolor\":\"#A2B1C6\"},\"baxis\":{\"endlinecolor\":\"#A2B1C6\",\"gridcolor\":\"#506784\",\"linecolor\":\"#506784\",\"minorgridcolor\":\"#506784\",\"startlinecolor\":\"#A2B1C6\"},\"type\":\"carpet\"}],\"choropleth\":[{\"colorbar\":{\"outlinewidth\":0,\"ticks\":\"\"},\"type\":\"choropleth\"}],\"contourcarpet\":[{\"colorbar\":{\"outlinewidth\":0,\"ticks\":\"\"},\"type\":\"contourcarpet\"}],\"contour\":[{\"colorbar\":{\"outlinewidth\":0,\"ticks\":\"\"},\"colorscale\":[[0.0,\"#0d0887\"],[0.1111111111111111,\"#46039f\"],[0.2222222222222222,\"#7201a8\"],[0.3333333333333333,\"#9c179e\"],[0.4444444444444444,\"#bd3786\"],[0.5555555555555556,\"#d8576b\"],[0.6666666666666666,\"#ed7953\"],[0.7777777777777778,\"#fb9f3a\"],[0.8888888888888888,\"#fdca26\"],[1.0,\"#f0f921\"]],\"type\":\"contour\"}],\"heatmapgl\":[{\"colorbar\":{\"outlinewidth\":0,\"ticks\":\"\"},\"colorscale\":[[0.0,\"#0d0887\"],[0.1111111111111111,\"#46039f\"],[0.2222222222222222,\"#7201a8\"],[0.3333333333333333,\"#9c179e\"],[0.4444444444444444,\"#bd3786\"],[0.5555555555555556,\"#d8576b\"],[0.6666666666666666,\"#ed7953\"],[0.7777777777777778,\"#fb9f3a\"],[0.8888888888888888,\"#fdca26\"],[1.0,\"#f0f921\"]],\"type\":\"heatmapgl\"}],\"heatmap\":[{\"colorbar\":{\"outlinewidth\":0,\"ticks\":\"\"},\"colorscale\":[[0.0,\"#0d0887\"],[0.1111111111111111,\"#46039f\"],[0.2222222222222222,\"#7201a8\"],[0.3333333333333333,\"#9c179e\"],[0.4444444444444444,\"#bd3786\"],[0.5555555555555556,\"#d8576b\"],[0.6666666666666666,\"#ed7953\"],[0.7777777777777778,\"#fb9f3a\"],[0.8888888888888888,\"#fdca26\"],[1.0,\"#f0f921\"]],\"type\":\"heatmap\"}],\"histogram2dcontour\":[{\"colorbar\":{\"outlinewidth\":0,\"ticks\":\"\"},\"colorscale\":[[0.0,\"#0d0887\"],[0.1111111111111111,\"#46039f\"],[0.2222222222222222,\"#7201a8\"],[0.3333333333333333,\"#9c179e\"],[0.4444444444444444,\"#bd3786\"],[0.5555555555555556,\"#d8576b\"],[0.6666666666666666,\"#ed7953\"],[0.7777777777777778,\"#fb9f3a\"],[0.8888888888888888,\"#fdca26\"],[1.0,\"#f0f921\"]],\"type\":\"histogram2dcontour\"}],\"histogram2d\":[{\"colorbar\":{\"outlinewidth\":0,\"ticks\":\"\"},\"colorscale\":[[0.0,\"#0d0887\"],[0.1111111111111111,\"#46039f\"],[0.2222222222222222,\"#7201a8\"],[0.3333333333333333,\"#9c179e\"],[0.4444444444444444,\"#bd3786\"],[0.5555555555555556,\"#d8576b\"],[0.6666666666666666,\"#ed7953\"],[0.7777777777777778,\"#fb9f3a\"],[0.8888888888888888,\"#fdca26\"],[1.0,\"#f0f921\"]],\"type\":\"histogram2d\"}],\"histogram\":[{\"marker\":{\"pattern\":{\"fillmode\":\"overlay\",\"size\":10,\"solidity\":0.2}},\"type\":\"histogram\"}],\"mesh3d\":[{\"colorbar\":{\"outlinewidth\":0,\"ticks\":\"\"},\"type\":\"mesh3d\"}],\"parcoords\":[{\"line\":{\"colorbar\":{\"outlinewidth\":0,\"ticks\":\"\"}},\"type\":\"parcoords\"}],\"pie\":[{\"automargin\":true,\"type\":\"pie\"}],\"scatter3d\":[{\"line\":{\"colorbar\":{\"outlinewidth\":0,\"ticks\":\"\"}},\"marker\":{\"colorbar\":{\"outlinewidth\":0,\"ticks\":\"\"}},\"type\":\"scatter3d\"}],\"scattercarpet\":[{\"marker\":{\"colorbar\":{\"outlinewidth\":0,\"ticks\":\"\"}},\"type\":\"scattercarpet\"}],\"scattergeo\":[{\"marker\":{\"colorbar\":{\"outlinewidth\":0,\"ticks\":\"\"}},\"type\":\"scattergeo\"}],\"scattergl\":[{\"marker\":{\"line\":{\"color\":\"#283442\"}},\"type\":\"scattergl\"}],\"scattermapbox\":[{\"marker\":{\"colorbar\":{\"outlinewidth\":0,\"ticks\":\"\"}},\"type\":\"scattermapbox\"}],\"scatterpolargl\":[{\"marker\":{\"colorbar\":{\"outlinewidth\":0,\"ticks\":\"\"}},\"type\":\"scatterpolargl\"}],\"scatterpolar\":[{\"marker\":{\"colorbar\":{\"outlinewidth\":0,\"ticks\":\"\"}},\"type\":\"scatterpolar\"}],\"scatter\":[{\"marker\":{\"line\":{\"color\":\"#283442\"}},\"type\":\"scatter\"}],\"scatterternary\":[{\"marker\":{\"colorbar\":{\"outlinewidth\":0,\"ticks\":\"\"}},\"type\":\"scatterternary\"}],\"surface\":[{\"colorbar\":{\"outlinewidth\":0,\"ticks\":\"\"},\"colorscale\":[[0.0,\"#0d0887\"],[0.1111111111111111,\"#46039f\"],[0.2222222222222222,\"#7201a8\"],[0.3333333333333333,\"#9c179e\"],[0.4444444444444444,\"#bd3786\"],[0.5555555555555556,\"#d8576b\"],[0.6666666666666666,\"#ed7953\"],[0.7777777777777778,\"#fb9f3a\"],[0.8888888888888888,\"#fdca26\"],[1.0,\"#f0f921\"]],\"type\":\"surface\"}],\"table\":[{\"cells\":{\"fill\":{\"color\":\"#506784\"},\"line\":{\"color\":\"rgb(17,17,17)\"}},\"header\":{\"fill\":{\"color\":\"#2a3f5f\"},\"line\":{\"color\":\"rgb(17,17,17)\"}},\"type\":\"table\"}]},\"layout\":{\"annotationdefaults\":{\"arrowcolor\":\"#f2f5fa\",\"arrowhead\":0,\"arrowwidth\":1},\"autotypenumbers\":\"strict\",\"coloraxis\":{\"colorbar\":{\"outlinewidth\":0,\"ticks\":\"\"}},\"colorscale\":{\"diverging\":[[0,\"#8e0152\"],[0.1,\"#c51b7d\"],[0.2,\"#de77ae\"],[0.3,\"#f1b6da\"],[0.4,\"#fde0ef\"],[0.5,\"#f7f7f7\"],[0.6,\"#e6f5d0\"],[0.7,\"#b8e186\"],[0.8,\"#7fbc41\"],[0.9,\"#4d9221\"],[1,\"#276419\"]],\"sequential\":[[0.0,\"#0d0887\"],[0.1111111111111111,\"#46039f\"],[0.2222222222222222,\"#7201a8\"],[0.3333333333333333,\"#9c179e\"],[0.4444444444444444,\"#bd3786\"],[0.5555555555555556,\"#d8576b\"],[0.6666666666666666,\"#ed7953\"],[0.7777777777777778,\"#fb9f3a\"],[0.8888888888888888,\"#fdca26\"],[1.0,\"#f0f921\"]],\"sequentialminus\":[[0.0,\"#0d0887\"],[0.1111111111111111,\"#46039f\"],[0.2222222222222222,\"#7201a8\"],[0.3333333333333333,\"#9c179e\"],[0.4444444444444444,\"#bd3786\"],[0.5555555555555556,\"#d8576b\"],[0.6666666666666666,\"#ed7953\"],[0.7777777777777778,\"#fb9f3a\"],[0.8888888888888888,\"#fdca26\"],[1.0,\"#f0f921\"]]},\"colorway\":[\"#636efa\",\"#EF553B\",\"#00cc96\",\"#ab63fa\",\"#FFA15A\",\"#19d3f3\",\"#FF6692\",\"#B6E880\",\"#FF97FF\",\"#FECB52\"],\"font\":{\"color\":\"#f2f5fa\"},\"geo\":{\"bgcolor\":\"rgb(17,17,17)\",\"lakecolor\":\"rgb(17,17,17)\",\"landcolor\":\"rgb(17,17,17)\",\"showlakes\":true,\"showland\":true,\"subunitcolor\":\"#506784\"},\"hoverlabel\":{\"align\":\"left\"},\"hovermode\":\"closest\",\"mapbox\":{\"style\":\"dark\"},\"paper_bgcolor\":\"rgb(17,17,17)\",\"plot_bgcolor\":\"rgb(17,17,17)\",\"polar\":{\"angularaxis\":{\"gridcolor\":\"#506784\",\"linecolor\":\"#506784\",\"ticks\":\"\"},\"bgcolor\":\"rgb(17,17,17)\",\"radialaxis\":{\"gridcolor\":\"#506784\",\"linecolor\":\"#506784\",\"ticks\":\"\"}},\"scene\":{\"xaxis\":{\"backgroundcolor\":\"rgb(17,17,17)\",\"gridcolor\":\"#506784\",\"gridwidth\":2,\"linecolor\":\"#506784\",\"showbackground\":true,\"ticks\":\"\",\"zerolinecolor\":\"#C8D4E3\"},\"yaxis\":{\"backgroundcolor\":\"rgb(17,17,17)\",\"gridcolor\":\"#506784\",\"gridwidth\":2,\"linecolor\":\"#506784\",\"showbackground\":true,\"ticks\":\"\",\"zerolinecolor\":\"#C8D4E3\"},\"zaxis\":{\"backgroundcolor\":\"rgb(17,17,17)\",\"gridcolor\":\"#506784\",\"gridwidth\":2,\"linecolor\":\"#506784\",\"showbackground\":true,\"ticks\":\"\",\"zerolinecolor\":\"#C8D4E3\"}},\"shapedefaults\":{\"line\":{\"color\":\"#f2f5fa\"}},\"sliderdefaults\":{\"bgcolor\":\"#C8D4E3\",\"bordercolor\":\"rgb(17,17,17)\",\"borderwidth\":1,\"tickwidth\":0},\"ternary\":{\"aaxis\":{\"gridcolor\":\"#506784\",\"linecolor\":\"#506784\",\"ticks\":\"\"},\"baxis\":{\"gridcolor\":\"#506784\",\"linecolor\":\"#506784\",\"ticks\":\"\"},\"bgcolor\":\"rgb(17,17,17)\",\"caxis\":{\"gridcolor\":\"#506784\",\"linecolor\":\"#506784\",\"ticks\":\"\"}},\"title\":{\"x\":0.05},\"updatemenudefaults\":{\"bgcolor\":\"#506784\",\"borderwidth\":0},\"xaxis\":{\"automargin\":true,\"gridcolor\":\"#283442\",\"linecolor\":\"#506784\",\"ticks\":\"\",\"title\":{\"standoff\":15},\"zerolinecolor\":\"#283442\",\"zerolinewidth\":2},\"yaxis\":{\"automargin\":true,\"gridcolor\":\"#283442\",\"linecolor\":\"#506784\",\"ticks\":\"\",\"title\":{\"standoff\":15},\"zerolinecolor\":\"#283442\",\"zerolinewidth\":2}}},\"legend\":{\"title\":{\"text\":\"Legend\"},\"bgcolor\":\"rgba(0,0,0,0.3)\",\"bordercolor\":\"white\",\"borderwidth\":1},\"title\":{\"text\":\"EWMA Smoothing: Elder vs Younger Sibling Analogy 🎭\"},\"xaxis\":{\"title\":{\"text\":\"Time\"}},\"yaxis\":{\"title\":{\"text\":\"Value\"}},\"annotations\":[{\"arrowhead\":2,\"ax\":-60,\"ay\":-80,\"font\":{\"color\":\"cyan\"},\"showarrow\":true,\"text\":\"Younger sibling (β low) = Reacts fast 🤸\",\"x\":5,\"y\":0.9251668706670108},{\"arrowhead\":2,\"ax\":50,\"ay\":-60,\"font\":{\"color\":\"orange\"},\"showarrow\":true,\"text\":\"Elder sibling (β high) = Calm & steady 😎\",\"x\":25,\"y\":0.9205708850076543}]},                        {\"responsive\": true}                    ).then(function(){\n",
       "                            \n",
       "var gd = document.getElementById('d5f0e493-d84c-437a-bcea-d77654b7b45e');\n",
       "var x = new MutationObserver(function (mutations, observer) {{\n",
       "        var display = window.getComputedStyle(gd).display;\n",
       "        if (!display || display === 'none') {{\n",
       "            console.log([gd, 'removed!']);\n",
       "            Plotly.purge(gd);\n",
       "            observer.disconnect();\n",
       "        }}\n",
       "}});\n",
       "\n",
       "// Listen for the removal of the full notebook cells\n",
       "var notebookContainer = gd.closest('#notebook-container');\n",
       "if (notebookContainer) {{\n",
       "    x.observe(notebookContainer, {childList: true});\n",
       "}}\n",
       "\n",
       "// Listen for the clearing of the current output cell\n",
       "var outputEl = gd.closest('.output');\n",
       "if (outputEl) {{\n",
       "    x.observe(outputEl, {childList: true});\n",
       "}}\n",
       "\n",
       "                        })                };                            </script>        </div>\n",
       "</body>\n",
       "</html>"
      ]
     },
     "metadata": {},
     "output_type": "display_data"
    }
   ],
   "source": [
    "import numpy as np\n",
    "import pandas as pd\n",
    "import plotly.graph_objects as go\n",
    "\n",
    "# Generate some noisy data (like stock prices)\n",
    "np.random.seed(42)\n",
    "n = 40\n",
    "time = np.arange(n)\n",
    "data = np.sin(time/3) + np.random.normal(scale=0.3, size=n)\n",
    "\n",
    "# Convert to pandas Series\n",
    "series = pd.Series(data)\n",
    "\n",
    "# Different beta values to compare\n",
    "betas = [0.1, 0.3, 0.7, 0.9]\n",
    "\n",
    "# Initialize Plotly figure\n",
    "fig = go.Figure()\n",
    "\n",
    "# Plot original data\n",
    "fig.add_trace(go.Scatter(\n",
    "    x=time, y=series,\n",
    "    mode='markers+lines',\n",
    "    name=\"Original Data (Noisy)\",\n",
    "    line=dict(color=\"black\", dash=\"dot\"),\n",
    "    marker=dict(size=8, color=\"black\")\n",
    "))\n",
    "\n",
    "# Add EWMA lines for different betas\n",
    "colors = [\"blue\", \"green\", \"orange\", \"red\"]\n",
    "for beta, col in zip(betas, colors):\n",
    "    ewma = series.ewm(alpha=(1-beta)).mean()\n",
    "    fig.add_trace(go.Scatter(\n",
    "        x=time, y=ewma,\n",
    "        mode=\"lines+markers\",\n",
    "        name=f\"EWMA (β={beta})\",\n",
    "        line=dict(width=3, color=col),\n",
    "        marker=dict(size=6, symbol=\"circle\", color=col)\n",
    "    ))\n",
    "\n",
    "# Update layout for liveliness\n",
    "fig.update_layout(\n",
    "    title=\"EWMA Smoothing: Elder vs Younger Sibling Analogy 🎭\",\n",
    "    xaxis_title=\"Time\",\n",
    "    yaxis_title=\"Value\",\n",
    "    template=\"plotly_dark\",\n",
    "    legend=dict(\n",
    "        title=\"Legend\",\n",
    "        bgcolor=\"rgba(0,0,0,0.3)\",\n",
    "        bordercolor=\"white\",\n",
    "        borderwidth=1\n",
    "    ),\n",
    "    annotations=[\n",
    "        dict(\n",
    "            x=5, y=series[5],\n",
    "            text=\"Younger sibling (β low) = Reacts fast 🤸\",\n",
    "            showarrow=True, arrowhead=2, ax=-60, ay=-80,\n",
    "            font=dict(color=\"cyan\")\n",
    "        ),\n",
    "        dict(\n",
    "            x=25, y=series[25],\n",
    "            text=\"Elder sibling (β high) = Calm & steady 😎\",\n",
    "            showarrow=True, arrowhead=2, ax=50, ay=-60,\n",
    "            font=dict(color=\"orange\")\n",
    "        )\n",
    "    ]\n",
    ")\n",
    "\n",
    "fig.show()\n",
    "\n",
    "\n",
    "##Black dotted line → Original noisy data.\n",
    "\n",
    "#Blue/Green lines (β=0.1,0.3) → Younger sibling: reacts quickly, more jumpy (overfits noise).\n",
    "\n",
    "#Orange/Red lines (β=0.7,0.9) → Elder sibling: calm, steady, ignores small changes (underfits sudden changes)."
   ]
  },
  {
   "cell_type": "code",
   "execution_count": 5,
   "id": "b8fa3627",
   "metadata": {
    "execution": {
     "iopub.execute_input": "2025-09-03T14:36:22.217723Z",
     "iopub.status.busy": "2025-09-03T14:36:22.217418Z",
     "iopub.status.idle": "2025-09-03T14:36:22.238662Z",
     "shell.execute_reply": "2025-09-03T14:36:22.237227Z"
    },
    "papermill": {
     "duration": 0.037141,
     "end_time": "2025-09-03T14:36:22.240655",
     "exception": false,
     "start_time": "2025-09-03T14:36:22.203514",
     "status": "completed"
    },
    "tags": []
   },
   "outputs": [],
   "source": [
    "import pandas as pd\n",
    "df=pd.read_csv(\"/kaggle/input/daily-delhi-climate/DailyDelhiClimate.csv\")"
   ]
  },
  {
   "cell_type": "code",
   "execution_count": 6,
   "id": "80953ad3",
   "metadata": {
    "execution": {
     "iopub.execute_input": "2025-09-03T14:36:22.262971Z",
     "iopub.status.busy": "2025-09-03T14:36:22.261719Z",
     "iopub.status.idle": "2025-09-03T14:36:22.308759Z",
     "shell.execute_reply": "2025-09-03T14:36:22.307430Z"
    },
    "papermill": {
     "duration": 0.059873,
     "end_time": "2025-09-03T14:36:22.310584",
     "exception": false,
     "start_time": "2025-09-03T14:36:22.250711",
     "status": "completed"
    },
    "tags": []
   },
   "outputs": [
    {
     "data": {
      "text/html": [
       "<div>\n",
       "<style scoped>\n",
       "    .dataframe tbody tr th:only-of-type {\n",
       "        vertical-align: middle;\n",
       "    }\n",
       "\n",
       "    .dataframe tbody tr th {\n",
       "        vertical-align: top;\n",
       "    }\n",
       "\n",
       "    .dataframe thead th {\n",
       "        text-align: right;\n",
       "    }\n",
       "</style>\n",
       "<table border=\"1\" class=\"dataframe\">\n",
       "  <thead>\n",
       "    <tr style=\"text-align: right;\">\n",
       "      <th></th>\n",
       "      <th>date</th>\n",
       "      <th>meantemp</th>\n",
       "    </tr>\n",
       "  </thead>\n",
       "  <tbody>\n",
       "    <tr>\n",
       "      <th>0</th>\n",
       "      <td>2013-01-01</td>\n",
       "      <td>10.000000</td>\n",
       "    </tr>\n",
       "    <tr>\n",
       "      <th>1</th>\n",
       "      <td>2013-01-02</td>\n",
       "      <td>7.400000</td>\n",
       "    </tr>\n",
       "    <tr>\n",
       "      <th>2</th>\n",
       "      <td>2013-01-03</td>\n",
       "      <td>7.166667</td>\n",
       "    </tr>\n",
       "    <tr>\n",
       "      <th>3</th>\n",
       "      <td>2013-01-04</td>\n",
       "      <td>8.666667</td>\n",
       "    </tr>\n",
       "    <tr>\n",
       "      <th>4</th>\n",
       "      <td>2013-01-05</td>\n",
       "      <td>6.000000</td>\n",
       "    </tr>\n",
       "    <tr>\n",
       "      <th>...</th>\n",
       "      <td>...</td>\n",
       "      <td>...</td>\n",
       "    </tr>\n",
       "    <tr>\n",
       "      <th>1571</th>\n",
       "      <td>2017-04-20</td>\n",
       "      <td>34.500000</td>\n",
       "    </tr>\n",
       "    <tr>\n",
       "      <th>1572</th>\n",
       "      <td>2017-04-21</td>\n",
       "      <td>34.250000</td>\n",
       "    </tr>\n",
       "    <tr>\n",
       "      <th>1573</th>\n",
       "      <td>2017-04-22</td>\n",
       "      <td>32.900000</td>\n",
       "    </tr>\n",
       "    <tr>\n",
       "      <th>1574</th>\n",
       "      <td>2017-04-23</td>\n",
       "      <td>32.875000</td>\n",
       "    </tr>\n",
       "    <tr>\n",
       "      <th>1575</th>\n",
       "      <td>2017-04-24</td>\n",
       "      <td>32.000000</td>\n",
       "    </tr>\n",
       "  </tbody>\n",
       "</table>\n",
       "<p>1576 rows × 2 columns</p>\n",
       "</div>"
      ],
      "text/plain": [
       "            date   meantemp\n",
       "0     2013-01-01  10.000000\n",
       "1     2013-01-02   7.400000\n",
       "2     2013-01-03   7.166667\n",
       "3     2013-01-04   8.666667\n",
       "4     2013-01-05   6.000000\n",
       "...          ...        ...\n",
       "1571  2017-04-20  34.500000\n",
       "1572  2017-04-21  34.250000\n",
       "1573  2017-04-22  32.900000\n",
       "1574  2017-04-23  32.875000\n",
       "1575  2017-04-24  32.000000\n",
       "\n",
       "[1576 rows x 2 columns]"
      ]
     },
     "execution_count": 6,
     "metadata": {},
     "output_type": "execute_result"
    }
   ],
   "source": [
    "new_df=df[['date','meantemp']]\n",
    "new_df"
   ]
  },
  {
   "cell_type": "code",
   "execution_count": 7,
   "id": "d300421a",
   "metadata": {
    "execution": {
     "iopub.execute_input": "2025-09-03T14:36:22.331773Z",
     "iopub.status.busy": "2025-09-03T14:36:22.331440Z",
     "iopub.status.idle": "2025-09-03T14:36:31.937517Z",
     "shell.execute_reply": "2025-09-03T14:36:31.936392Z"
    },
    "papermill": {
     "duration": 9.620757,
     "end_time": "2025-09-03T14:36:31.940820",
     "exception": false,
     "start_time": "2025-09-03T14:36:22.320063",
     "status": "completed"
    },
    "tags": []
   },
   "outputs": [
    {
     "data": {
      "text/plain": [
       "<matplotlib.collections.PathCollection at 0x7e348951a790>"
      ]
     },
     "execution_count": 7,
     "metadata": {},
     "output_type": "execute_result"
    },
    {
     "data": {
      "image/png": "[encoded data removed]",
      "text/plain": [
       "<Figure size 640x480 with 1 Axes>"
      ]
     },
     "metadata": {},
     "output_type": "display_data"
    }
   ],
   "source": [
    "import matplotlib.pyplot as plt \n",
    "plt.scatter(new_df['date'],df['meantemp'],color='red')"
   ]
  },
  {
   "cell_type": "code",
   "execution_count": 8,
   "id": "7b0f6c6e",
   "metadata": {
    "execution": {
     "iopub.execute_input": "2025-09-03T14:36:31.969939Z",
     "iopub.status.busy": "2025-09-03T14:36:31.969626Z",
     "iopub.status.idle": "2025-09-03T14:36:31.975042Z",
     "shell.execute_reply": "2025-09-03T14:36:31.974122Z"
    },
    "papermill": {
     "duration": 0.020183,
     "end_time": "2025-09-03T14:36:31.977172",
     "exception": false,
     "start_time": "2025-09-03T14:36:31.956989",
     "status": "completed"
    },
    "tags": []
   },
   "outputs": [],
   "source": [
    "\n",
    "x1=new_df['meantemp'].ewm(alpha=0.9).mean()"
   ]
  },
  {
   "cell_type": "code",
   "execution_count": 9,
   "id": "b7c62205",
   "metadata": {
    "execution": {
     "iopub.execute_input": "2025-09-03T14:36:32.073888Z",
     "iopub.status.busy": "2025-09-03T14:36:32.073568Z",
     "iopub.status.idle": "2025-09-03T14:36:32.082559Z",
     "shell.execute_reply": "2025-09-03T14:36:32.081419Z"
    },
    "papermill": {
     "duration": 0.095333,
     "end_time": "2025-09-03T14:36:32.084130",
     "exception": false,
     "start_time": "2025-09-03T14:36:31.988797",
     "status": "completed"
    },
    "tags": []
   },
   "outputs": [
    {
     "data": {
      "text/plain": [
       "0       10.000000\n",
       "1        7.636364\n",
       "2        7.213213\n",
       "3        8.521452\n",
       "4        6.252123\n",
       "          ...    \n",
       "1571    34.403401\n",
       "1572    34.265340\n",
       "1573    33.036534\n",
       "1574    32.891153\n",
       "1575    32.089115\n",
       "Name: meantemp, Length: 1576, dtype: float64"
      ]
     },
     "execution_count": 9,
     "metadata": {},
     "output_type": "execute_result"
    }
   ],
   "source": [
    "x1"
   ]
  },
  {
   "cell_type": "code",
   "execution_count": 10,
   "id": "8720368b",
   "metadata": {
    "execution": {
     "iopub.execute_input": "2025-09-03T14:36:32.107753Z",
     "iopub.status.busy": "2025-09-03T14:36:32.107419Z",
     "iopub.status.idle": "2025-09-03T14:36:32.114187Z",
     "shell.execute_reply": "2025-09-03T14:36:32.112916Z"
    },
    "papermill": {
     "duration": 0.020539,
     "end_time": "2025-09-03T14:36:32.115817",
     "exception": false,
     "start_time": "2025-09-03T14:36:32.095278",
     "status": "completed"
    },
    "tags": []
   },
   "outputs": [
    {
     "name": "stderr",
     "output_type": "stream",
     "text": [
      "/tmp/ipykernel_13/2104473215.py:1: SettingWithCopyWarning:\n",
      "\n",
      "\n",
      "A value is trying to be set on a copy of a slice from a DataFrame.\n",
      "Try using .loc[row_indexer,col_indexer] = value instead\n",
      "\n",
      "See the caveats in the documentation: https://pandas.pydata.org/pandas-docs/stable/user_guide/indexing.html#returning-a-view-versus-a-copy\n",
      "\n"
     ]
    }
   ],
   "source": [
    "new_df['ewma']=x1"
   ]
  },
  {
   "cell_type": "code",
   "execution_count": 11,
   "id": "0a701945",
   "metadata": {
    "execution": {
     "iopub.execute_input": "2025-09-03T14:36:32.139930Z",
     "iopub.status.busy": "2025-09-03T14:36:32.139594Z",
     "iopub.status.idle": "2025-09-03T14:36:32.152372Z",
     "shell.execute_reply": "2025-09-03T14:36:32.150925Z"
    },
    "papermill": {
     "duration": 0.027148,
     "end_time": "2025-09-03T14:36:32.154179",
     "exception": false,
     "start_time": "2025-09-03T14:36:32.127031",
     "status": "completed"
    },
    "tags": []
   },
   "outputs": [
    {
     "data": {
      "text/html": [
       "<div>\n",
       "<style scoped>\n",
       "    .dataframe tbody tr th:only-of-type {\n",
       "        vertical-align: middle;\n",
       "    }\n",
       "\n",
       "    .dataframe tbody tr th {\n",
       "        vertical-align: top;\n",
       "    }\n",
       "\n",
       "    .dataframe thead th {\n",
       "        text-align: right;\n",
       "    }\n",
       "</style>\n",
       "<table border=\"1\" class=\"dataframe\">\n",
       "  <thead>\n",
       "    <tr style=\"text-align: right;\">\n",
       "      <th></th>\n",
       "      <th>date</th>\n",
       "      <th>meantemp</th>\n",
       "      <th>ewma</th>\n",
       "    </tr>\n",
       "  </thead>\n",
       "  <tbody>\n",
       "    <tr>\n",
       "      <th>0</th>\n",
       "      <td>2013-01-01</td>\n",
       "      <td>10.000000</td>\n",
       "      <td>10.000000</td>\n",
       "    </tr>\n",
       "    <tr>\n",
       "      <th>1</th>\n",
       "      <td>2013-01-02</td>\n",
       "      <td>7.400000</td>\n",
       "      <td>7.636364</td>\n",
       "    </tr>\n",
       "    <tr>\n",
       "      <th>2</th>\n",
       "      <td>2013-01-03</td>\n",
       "      <td>7.166667</td>\n",
       "      <td>7.213213</td>\n",
       "    </tr>\n",
       "    <tr>\n",
       "      <th>3</th>\n",
       "      <td>2013-01-04</td>\n",
       "      <td>8.666667</td>\n",
       "      <td>8.521452</td>\n",
       "    </tr>\n",
       "    <tr>\n",
       "      <th>4</th>\n",
       "      <td>2013-01-05</td>\n",
       "      <td>6.000000</td>\n",
       "      <td>6.252123</td>\n",
       "    </tr>\n",
       "    <tr>\n",
       "      <th>...</th>\n",
       "      <td>...</td>\n",
       "      <td>...</td>\n",
       "      <td>...</td>\n",
       "    </tr>\n",
       "    <tr>\n",
       "      <th>1571</th>\n",
       "      <td>2017-04-20</td>\n",
       "      <td>34.500000</td>\n",
       "      <td>34.403401</td>\n",
       "    </tr>\n",
       "    <tr>\n",
       "      <th>1572</th>\n",
       "      <td>2017-04-21</td>\n",
       "      <td>34.250000</td>\n",
       "      <td>34.265340</td>\n",
       "    </tr>\n",
       "    <tr>\n",
       "      <th>1573</th>\n",
       "      <td>2017-04-22</td>\n",
       "      <td>32.900000</td>\n",
       "      <td>33.036534</td>\n",
       "    </tr>\n",
       "    <tr>\n",
       "      <th>1574</th>\n",
       "      <td>2017-04-23</td>\n",
       "      <td>32.875000</td>\n",
       "      <td>32.891153</td>\n",
       "    </tr>\n",
       "    <tr>\n",
       "      <th>1575</th>\n",
       "      <td>2017-04-24</td>\n",
       "      <td>32.000000</td>\n",
       "      <td>32.089115</td>\n",
       "    </tr>\n",
       "  </tbody>\n",
       "</table>\n",
       "<p>1576 rows × 3 columns</p>\n",
       "</div>"
      ],
      "text/plain": [
       "            date   meantemp       ewma\n",
       "0     2013-01-01  10.000000  10.000000\n",
       "1     2013-01-02   7.400000   7.636364\n",
       "2     2013-01-03   7.166667   7.213213\n",
       "3     2013-01-04   8.666667   8.521452\n",
       "4     2013-01-05   6.000000   6.252123\n",
       "...          ...        ...        ...\n",
       "1571  2017-04-20  34.500000  34.403401\n",
       "1572  2017-04-21  34.250000  34.265340\n",
       "1573  2017-04-22  32.900000  33.036534\n",
       "1574  2017-04-23  32.875000  32.891153\n",
       "1575  2017-04-24  32.000000  32.089115\n",
       "\n",
       "[1576 rows x 3 columns]"
      ]
     },
     "execution_count": 11,
     "metadata": {},
     "output_type": "execute_result"
    }
   ],
   "source": [
    "new_df"
   ]
  },
  {
   "cell_type": "markdown",
   "id": "6a96a7bc",
   "metadata": {
    "papermill": {
     "duration": 0.011282,
     "end_time": "2025-09-03T14:36:32.176816",
     "exception": false,
     "start_time": "2025-09-03T14:36:32.165534",
     "status": "completed"
    },
    "tags": []
   },
   "source": [
    "# Stochastic Gradient Descent (SGD)\n",
    "\n",
    "Gradient Descent (GD) is an optimization algorithm used to minimize a loss (cost) function by iteratively updating model parameters.  \n",
    "However, **Stochastic Gradient Descent (SGD)** is a variation of Gradient Descent that introduces randomness in the process to make learning faster and more efficient.\n",
    "\n",
    "---\n",
    "\n",
    "## 🔹 Working of SGD\n",
    "\n",
    "1. **Traditional Gradient Descent (Batch GD):**\n",
    "   - Uses the **entire dataset** to compute the gradient of the cost function.\n",
    "   - Each update step is:\n",
    "\n",
    "     $$\n",
    "     \\theta = \\theta - \\eta \\cdot \\nabla_\\theta J(\\theta)\n",
    "     $$\n",
    "\n",
    "     where:  \n",
    "     - $ \\theta $ = parameters (weights)  \n",
    "     - $ \\eta $ = learning rate  \n",
    "     - $ J(\\theta) $ = cost function  \n",
    "\n",
    "   - **Problem:** For large datasets, this becomes computationally very expensive and slow.\n",
    "\n",
    "---\n",
    "\n",
    "2. **Stochastic Gradient Descent (SGD):**\n",
    "   - Instead of using the **entire dataset**, SGD updates the parameters using **only one randomly chosen data point (sample)** at each step.\n",
    "   - Update rule:\n",
    "\n",
    "     $$\n",
    "     \\theta = \\theta - \\eta \\cdot \\nabla_\\theta J(\\theta; x^{(i)}, y^{(i)})\n",
    "     $$\n",
    "\n",
    "     where:  \n",
    "     - $ (x^{(i)}, y^{(i)}) $ = a single training example  \n",
    "     - Gradient is calculated **only for that sample**  \n",
    "\n",
    "   - **Advantage:** Faster updates, allows the model to start converging quickly.  \n",
    "   - **Disadvantage:** More **noisy updates** (zig-zag path), may not converge smoothly.\n",
    "\n",
    "---\n",
    "\n",
    "3. **Mini-Batch Gradient Descent:**\n",
    "   - A compromise between Batch GD and SGD.  \n",
    "   - Uses a **small subset (batch)** of training data for each update.  \n",
    "   - Update rule:\n",
    "\n",
    "     $$\n",
    "     \\theta = \\theta - \\eta \\cdot \\frac{1}{m} \\sum_{j=1}^{m} \\nabla_\\theta J(\\theta; x^{(j)}, y^{(j)})\n",
    "     $$\n",
    "\n",
    "     where:  \n",
    "     - $ m $ = batch size  \n",
    "\n",
    "   - This balances **speed and stability**, making it the most commonly used variant in Deep Learning.\n",
    "\n",
    "---\n",
    "\n",
    "## 🔹 Key Intuitions\n",
    "\n",
    "- **Batch GD**: Slow but stable (good for convex problems).  \n",
    "- **SGD**: Fast and noisy (may overshoot, but can escape local minima).  \n",
    "- **Mini-Batch GD**: Best of both worlds (commonly used in practice).\n",
    "\n",
    "---\n",
    "\n",
    "## 🔹 Advantages of SGD\n",
    "\n",
    "- Efficient for large datasets.  \n",
    "- Helps in escaping local minima due to randomness.  \n",
    "- Online learning: Can update the model as data arrives in streams.  \n",
    "\n",
    "---\n",
    "\n",
    "## 🔹 Disadvantages of SGD\n",
    "\n",
    "- Noisy updates → may not converge directly.  \n",
    "- Requires careful tuning of **learning rate ($ \\eta $)**.  \n",
    "- May oscillate around the minimum instead of converging smoothly.  \n",
    "\n",
    "---\n",
    "\n",
    "## 🔹 Visualization of Learning Paths\n",
    "\n",
    "- **Batch GD**: Smooth path straight to minimum.  \n",
    "- **SGD**: Zig-zag noisy path but reaches the minimum faster.  \n",
    "- **Mini-Batch GD**: Moderately smooth, efficient convergence.  \n",
    "\n",
    "---\n"
   ]
  },
  {
   "cell_type": "markdown",
   "id": "7806090f",
   "metadata": {
    "papermill": {
     "duration": 0.011023,
     "end_time": "2025-09-03T14:36:32.199008",
     "exception": false,
     "start_time": "2025-09-03T14:36:32.187985",
     "status": "completed"
    },
    "tags": []
   },
   "source": [
    "# KERAS TUNER FOR OPTIMIZER"
   ]
  },
  {
   "cell_type": "code",
   "execution_count": 12,
   "id": "8c24ebf7",
   "metadata": {
    "execution": {
     "iopub.execute_input": "2025-09-03T14:36:32.223782Z",
     "iopub.status.busy": "2025-09-03T14:36:32.223455Z",
     "iopub.status.idle": "2025-09-03T14:36:32.278352Z",
     "shell.execute_reply": "2025-09-03T14:36:32.277191Z"
    },
    "papermill": {
     "duration": 0.069311,
     "end_time": "2025-09-03T14:36:32.280134",
     "exception": false,
     "start_time": "2025-09-03T14:36:32.210823",
     "status": "completed"
    },
    "tags": []
   },
   "outputs": [
    {
     "name": "stdout",
     "output_type": "stream",
     "text": [
      "Path to dataset files: /kaggle/input/pima-indians-diabetes-database\n"
     ]
    }
   ],
   "source": [
    "import kagglehub\n",
    "\n",
    "# Download latest version\n",
    "path = kagglehub.dataset_download(\"uciml/pima-indians-diabetes-database\")\n",
    "\n",
    "print(\"Path to dataset files:\", path)"
   ]
  },
  {
   "cell_type": "code",
   "execution_count": 13,
   "id": "1b18ed6d",
   "metadata": {
    "execution": {
     "iopub.execute_input": "2025-09-03T14:36:32.304782Z",
     "iopub.status.busy": "2025-09-03T14:36:32.304450Z",
     "iopub.status.idle": "2025-09-03T14:36:32.309667Z",
     "shell.execute_reply": "2025-09-03T14:36:32.308214Z"
    },
    "papermill": {
     "duration": 0.019667,
     "end_time": "2025-09-03T14:36:32.311481",
     "exception": false,
     "start_time": "2025-09-03T14:36:32.291814",
     "status": "completed"
    },
    "tags": []
   },
   "outputs": [],
   "source": [
    "import pandas as pd \n",
    "import numpy as np"
   ]
  },
  {
   "cell_type": "code",
   "execution_count": 14,
   "id": "693b1811",
   "metadata": {
    "execution": {
     "iopub.execute_input": "2025-09-03T14:36:32.335997Z",
     "iopub.status.busy": "2025-09-03T14:36:32.335658Z",
     "iopub.status.idle": "2025-09-03T14:36:32.352258Z",
     "shell.execute_reply": "2025-09-03T14:36:32.351237Z"
    },
    "papermill": {
     "duration": 0.03101,
     "end_time": "2025-09-03T14:36:32.354148",
     "exception": false,
     "start_time": "2025-09-03T14:36:32.323138",
     "status": "completed"
    },
    "tags": []
   },
   "outputs": [],
   "source": [
    "df=pd.read_csv('/kaggle/input/pima-indians-diabetes-database/diabetes.csv')"
   ]
  },
  {
   "cell_type": "code",
   "execution_count": 15,
   "id": "2055df75",
   "metadata": {
    "execution": {
     "iopub.execute_input": "2025-09-03T14:36:32.378486Z",
     "iopub.status.busy": "2025-09-03T14:36:32.378181Z",
     "iopub.status.idle": "2025-09-03T14:36:32.390371Z",
     "shell.execute_reply": "2025-09-03T14:36:32.389345Z"
    },
    "papermill": {
     "duration": 0.026503,
     "end_time": "2025-09-03T14:36:32.391977",
     "exception": false,
     "start_time": "2025-09-03T14:36:32.365474",
     "status": "completed"
    },
    "tags": []
   },
   "outputs": [
    {
     "data": {
      "text/html": [
       "<div>\n",
       "<style scoped>\n",
       "    .dataframe tbody tr th:only-of-type {\n",
       "        vertical-align: middle;\n",
       "    }\n",
       "\n",
       "    .dataframe tbody tr th {\n",
       "        vertical-align: top;\n",
       "    }\n",
       "\n",
       "    .dataframe thead th {\n",
       "        text-align: right;\n",
       "    }\n",
       "</style>\n",
       "<table border=\"1\" class=\"dataframe\">\n",
       "  <thead>\n",
       "    <tr style=\"text-align: right;\">\n",
       "      <th></th>\n",
       "      <th>Pregnancies</th>\n",
       "      <th>Glucose</th>\n",
       "      <th>BloodPressure</th>\n",
       "      <th>SkinThickness</th>\n",
       "      <th>Insulin</th>\n",
       "      <th>BMI</th>\n",
       "      <th>DiabetesPedigreeFunction</th>\n",
       "      <th>Age</th>\n",
       "      <th>Outcome</th>\n",
       "    </tr>\n",
       "  </thead>\n",
       "  <tbody>\n",
       "    <tr>\n",
       "      <th>0</th>\n",
       "      <td>6</td>\n",
       "      <td>148</td>\n",
       "      <td>72</td>\n",
       "      <td>35</td>\n",
       "      <td>0</td>\n",
       "      <td>33.6</td>\n",
       "      <td>0.627</td>\n",
       "      <td>50</td>\n",
       "      <td>1</td>\n",
       "    </tr>\n",
       "    <tr>\n",
       "      <th>1</th>\n",
       "      <td>1</td>\n",
       "      <td>85</td>\n",
       "      <td>66</td>\n",
       "      <td>29</td>\n",
       "      <td>0</td>\n",
       "      <td>26.6</td>\n",
       "      <td>0.351</td>\n",
       "      <td>31</td>\n",
       "      <td>0</td>\n",
       "    </tr>\n",
       "    <tr>\n",
       "      <th>2</th>\n",
       "      <td>8</td>\n",
       "      <td>183</td>\n",
       "      <td>64</td>\n",
       "      <td>0</td>\n",
       "      <td>0</td>\n",
       "      <td>23.3</td>\n",
       "      <td>0.672</td>\n",
       "      <td>32</td>\n",
       "      <td>1</td>\n",
       "    </tr>\n",
       "    <tr>\n",
       "      <th>3</th>\n",
       "      <td>1</td>\n",
       "      <td>89</td>\n",
       "      <td>66</td>\n",
       "      <td>23</td>\n",
       "      <td>94</td>\n",
       "      <td>28.1</td>\n",
       "      <td>0.167</td>\n",
       "      <td>21</td>\n",
       "      <td>0</td>\n",
       "    </tr>\n",
       "    <tr>\n",
       "      <th>4</th>\n",
       "      <td>0</td>\n",
       "      <td>137</td>\n",
       "      <td>40</td>\n",
       "      <td>35</td>\n",
       "      <td>168</td>\n",
       "      <td>43.1</td>\n",
       "      <td>2.288</td>\n",
       "      <td>33</td>\n",
       "      <td>1</td>\n",
       "    </tr>\n",
       "  </tbody>\n",
       "</table>\n",
       "</div>"
      ],
      "text/plain": [
       "   Pregnancies  Glucose  BloodPressure  SkinThickness  Insulin   BMI  \\\n",
       "0            6      148             72             35        0  33.6   \n",
       "1            1       85             66             29        0  26.6   \n",
       "2            8      183             64              0        0  23.3   \n",
       "3            1       89             66             23       94  28.1   \n",
       "4            0      137             40             35      168  43.1   \n",
       "\n",
       "   DiabetesPedigreeFunction  Age  Outcome  \n",
       "0                     0.627   50        1  \n",
       "1                     0.351   31        0  \n",
       "2                     0.672   32        1  \n",
       "3                     0.167   21        0  \n",
       "4                     2.288   33        1  "
      ]
     },
     "execution_count": 15,
     "metadata": {},
     "output_type": "execute_result"
    }
   ],
   "source": [
    "df.head()"
   ]
  },
  {
   "cell_type": "code",
   "execution_count": 16,
   "id": "f96ad6c3",
   "metadata": {
    "execution": {
     "iopub.execute_input": "2025-09-03T14:36:32.417635Z",
     "iopub.status.busy": "2025-09-03T14:36:32.416455Z",
     "iopub.status.idle": "2025-09-03T14:36:35.077297Z",
     "shell.execute_reply": "2025-09-03T14:36:35.075800Z"
    },
    "papermill": {
     "duration": 2.676442,
     "end_time": "2025-09-03T14:36:35.079983",
     "exception": false,
     "start_time": "2025-09-03T14:36:32.403541",
     "status": "completed"
    },
    "tags": []
   },
   "outputs": [
    {
     "data": {
      "text/plain": [
       "<Axes: >"
      ]
     },
     "execution_count": 16,
     "metadata": {},
     "output_type": "execute_result"
    },
    {
     "data": {
      "image/png": "[encoded data removed]",
      "text/plain": [
       "<Figure size 640x480 with 2 Axes>"
      ]
     },
     "metadata": {},
     "output_type": "display_data"
    }
   ],
   "source": [
    "import seaborn as sns \n",
    "sns.heatmap(df.corr(),annot=True)"
   ]
  },
  {
   "cell_type": "code",
   "execution_count": 17,
   "id": "a38bb052",
   "metadata": {
    "execution": {
     "iopub.execute_input": "2025-09-03T14:36:35.109631Z",
     "iopub.status.busy": "2025-09-03T14:36:35.109125Z",
     "iopub.status.idle": "2025-09-03T14:36:35.115777Z",
     "shell.execute_reply": "2025-09-03T14:36:35.114700Z"
    },
    "papermill": {
     "duration": 0.02325,
     "end_time": "2025-09-03T14:36:35.117764",
     "exception": false,
     "start_time": "2025-09-03T14:36:35.094514",
     "status": "completed"
    },
    "tags": []
   },
   "outputs": [],
   "source": [
    "X=df.drop(['Outcome'],axis=1)\n",
    "Y=df['Outcome']"
   ]
  },
  {
   "cell_type": "code",
   "execution_count": 18,
   "id": "d547cb7c",
   "metadata": {
    "execution": {
     "iopub.execute_input": "2025-09-03T14:36:35.147955Z",
     "iopub.status.busy": "2025-09-03T14:36:35.147627Z",
     "iopub.status.idle": "2025-09-03T14:36:35.492721Z",
     "shell.execute_reply": "2025-09-03T14:36:35.491454Z"
    },
    "papermill": {
     "duration": 0.36233,
     "end_time": "2025-09-03T14:36:35.494496",
     "exception": false,
     "start_time": "2025-09-03T14:36:35.132166",
     "status": "completed"
    },
    "tags": []
   },
   "outputs": [],
   "source": [
    "from sklearn.model_selection import train_test_split\n",
    "from sklearn.preprocessing import StandardScaler"
   ]
  },
  {
   "cell_type": "code",
   "execution_count": 19,
   "id": "856f7d0a",
   "metadata": {
    "execution": {
     "iopub.execute_input": "2025-09-03T14:36:35.523983Z",
     "iopub.status.busy": "2025-09-03T14:36:35.523666Z",
     "iopub.status.idle": "2025-09-03T14:36:35.533188Z",
     "shell.execute_reply": "2025-09-03T14:36:35.532170Z"
    },
    "papermill": {
     "duration": 0.02619,
     "end_time": "2025-09-03T14:36:35.534890",
     "exception": false,
     "start_time": "2025-09-03T14:36:35.508700",
     "status": "completed"
    },
    "tags": []
   },
   "outputs": [],
   "source": [
    "X_train,X_test,Y_train,Y_test=train_test_split(X,Y,test_size=0.2,random_state=42,stratify=Y)"
   ]
  },
  {
   "cell_type": "code",
   "execution_count": 20,
   "id": "412f5666",
   "metadata": {
    "execution": {
     "iopub.execute_input": "2025-09-03T14:36:35.565500Z",
     "iopub.status.busy": "2025-09-03T14:36:35.565185Z",
     "iopub.status.idle": "2025-09-03T14:36:35.569778Z",
     "shell.execute_reply": "2025-09-03T14:36:35.568928Z"
    },
    "papermill": {
     "duration": 0.022407,
     "end_time": "2025-09-03T14:36:35.571375",
     "exception": false,
     "start_time": "2025-09-03T14:36:35.548968",
     "status": "completed"
    },
    "tags": []
   },
   "outputs": [],
   "source": [
    "sc=StandardScaler()"
   ]
  },
  {
   "cell_type": "code",
   "execution_count": 21,
   "id": "a31bcf7b",
   "metadata": {
    "execution": {
     "iopub.execute_input": "2025-09-03T14:36:35.600639Z",
     "iopub.status.busy": "2025-09-03T14:36:35.600320Z",
     "iopub.status.idle": "2025-09-03T14:36:35.609419Z",
     "shell.execute_reply": "2025-09-03T14:36:35.608358Z"
    },
    "papermill": {
     "duration": 0.025855,
     "end_time": "2025-09-03T14:36:35.611351",
     "exception": false,
     "start_time": "2025-09-03T14:36:35.585496",
     "status": "completed"
    },
    "tags": []
   },
   "outputs": [],
   "source": [
    "X_train_new=sc.fit_transform(X_train)"
   ]
  },
  {
   "cell_type": "code",
   "execution_count": 22,
   "id": "57897518",
   "metadata": {
    "execution": {
     "iopub.execute_input": "2025-09-03T14:36:35.640674Z",
     "iopub.status.busy": "2025-09-03T14:36:35.640313Z",
     "iopub.status.idle": "2025-09-03T14:36:35.648161Z",
     "shell.execute_reply": "2025-09-03T14:36:35.646613Z"
    },
    "papermill": {
     "duration": 0.024613,
     "end_time": "2025-09-03T14:36:35.649913",
     "exception": false,
     "start_time": "2025-09-03T14:36:35.625300",
     "status": "completed"
    },
    "tags": []
   },
   "outputs": [],
   "source": [
    "X_test_new=sc.transform(X_test)"
   ]
  },
  {
   "cell_type": "code",
   "execution_count": 23,
   "id": "c7c08187",
   "metadata": {
    "execution": {
     "iopub.execute_input": "2025-09-03T14:36:35.680358Z",
     "iopub.status.busy": "2025-09-03T14:36:35.679987Z",
     "iopub.status.idle": "2025-09-03T14:36:35.685529Z",
     "shell.execute_reply": "2025-09-03T14:36:35.684177Z"
    },
    "papermill": {
     "duration": 0.022349,
     "end_time": "2025-09-03T14:36:35.687339",
     "exception": false,
     "start_time": "2025-09-03T14:36:35.664990",
     "status": "completed"
    },
    "tags": []
   },
   "outputs": [],
   "source": [
    "X_train_final=pd.DataFrame(X_train_new,columns=X_train.columns)"
   ]
  },
  {
   "cell_type": "code",
   "execution_count": 24,
   "id": "b6fc0e96",
   "metadata": {
    "execution": {
     "iopub.execute_input": "2025-09-03T14:36:35.716412Z",
     "iopub.status.busy": "2025-09-03T14:36:35.716009Z",
     "iopub.status.idle": "2025-09-03T14:36:35.721210Z",
     "shell.execute_reply": "2025-09-03T14:36:35.719974Z"
    },
    "papermill": {
     "duration": 0.021951,
     "end_time": "2025-09-03T14:36:35.723239",
     "exception": false,
     "start_time": "2025-09-03T14:36:35.701288",
     "status": "completed"
    },
    "tags": []
   },
   "outputs": [],
   "source": [
    "X_test_final=pd.DataFrame(X_test_new,columns=X_train.columns)"
   ]
  },
  {
   "cell_type": "code",
   "execution_count": 25,
   "id": "c1790147",
   "metadata": {
    "execution": {
     "iopub.execute_input": "2025-09-03T14:36:35.753355Z",
     "iopub.status.busy": "2025-09-03T14:36:35.753006Z",
     "iopub.status.idle": "2025-09-03T14:36:35.757945Z",
     "shell.execute_reply": "2025-09-03T14:36:35.756803Z"
    },
    "papermill": {
     "duration": 0.022983,
     "end_time": "2025-09-03T14:36:35.760019",
     "exception": false,
     "start_time": "2025-09-03T14:36:35.737036",
     "status": "completed"
    },
    "tags": []
   },
   "outputs": [],
   "source": [
    "X_train=X_train_final\n",
    "X_test=X_test_final"
   ]
  },
  {
   "cell_type": "code",
   "execution_count": 26,
   "id": "e3acae49",
   "metadata": {
    "execution": {
     "iopub.execute_input": "2025-09-03T14:36:35.793534Z",
     "iopub.status.busy": "2025-09-03T14:36:35.792944Z",
     "iopub.status.idle": "2025-09-03T14:36:54.506317Z",
     "shell.execute_reply": "2025-09-03T14:36:54.505233Z"
    },
    "papermill": {
     "duration": 18.733383,
     "end_time": "2025-09-03T14:36:54.508330",
     "exception": false,
     "start_time": "2025-09-03T14:36:35.774947",
     "status": "completed"
    },
    "tags": []
   },
   "outputs": [
    {
     "name": "stderr",
     "output_type": "stream",
     "text": [
      "2025-09-03 14:36:38.052446: E external/local_xla/xla/stream_executor/cuda/cuda_fft.cc:477] Unable to register cuFFT factory: Attempting to register factory for plugin cuFFT when one has already been registered\n",
      "WARNING: All log messages before absl::InitializeLog() is called are written to STDERR\n",
      "E0000 00:00:1756910198.331916      13 cuda_dnn.cc:8310] Unable to register cuDNN factory: Attempting to register factory for plugin cuDNN when one has already been registered\n",
      "E0000 00:00:1756910198.415253      13 cuda_blas.cc:1418] Unable to register cuBLAS factory: Attempting to register factory for plugin cuBLAS when one has already been registered\n"
     ]
    }
   ],
   "source": [
    "import tensorflow \n",
    "from tensorflow import keras\n",
    "from tensorflow.keras import Sequential\n",
    "from tensorflow.keras.layers import Dense"
   ]
  },
  {
   "cell_type": "code",
   "execution_count": 27,
   "id": "ffb2b39b",
   "metadata": {
    "execution": {
     "iopub.execute_input": "2025-09-03T14:36:54.539786Z",
     "iopub.status.busy": "2025-09-03T14:36:54.539117Z",
     "iopub.status.idle": "2025-09-03T14:36:54.547286Z",
     "shell.execute_reply": "2025-09-03T14:36:54.546112Z"
    },
    "papermill": {
     "duration": 0.025458,
     "end_time": "2025-09-03T14:36:54.548937",
     "exception": false,
     "start_time": "2025-09-03T14:36:54.523479",
     "status": "completed"
    },
    "tags": []
   },
   "outputs": [],
   "source": [
    "model=Sequential()"
   ]
  },
  {
   "cell_type": "code",
   "execution_count": 28,
   "id": "9cec83a0",
   "metadata": {
    "execution": {
     "iopub.execute_input": "2025-09-03T14:36:54.582831Z",
     "iopub.status.busy": "2025-09-03T14:36:54.582455Z",
     "iopub.status.idle": "2025-09-03T14:36:54.680536Z",
     "shell.execute_reply": "2025-09-03T14:36:54.679240Z"
    },
    "papermill": {
     "duration": 0.11741,
     "end_time": "2025-09-03T14:36:54.682514",
     "exception": false,
     "start_time": "2025-09-03T14:36:54.565104",
     "status": "completed"
    },
    "tags": []
   },
   "outputs": [
    {
     "name": "stderr",
     "output_type": "stream",
     "text": [
      "/usr/local/lib/python3.11/dist-packages/keras/src/layers/core/dense.py:87: UserWarning:\n",
      "\n",
      "Do not pass an `input_shape`/`input_dim` argument to a layer. When using Sequential models, prefer using an `Input(shape)` object as the first layer in the model instead.\n",
      "\n",
      "2025-09-03 14:36:54.593460: E external/local_xla/xla/stream_executor/cuda/cuda_driver.cc:152] failed call to cuInit: INTERNAL: CUDA error: Failed call to cuInit: UNKNOWN ERROR (303)\n"
     ]
    }
   ],
   "source": [
    "model.add(Dense(32,activation=\"relu\",input_dim=8))\n",
    "model.add(Dense(1,activation=\"sigmoid\"))"
   ]
  },
  {
   "cell_type": "code",
   "execution_count": 29,
   "id": "0ac2b5d2",
   "metadata": {
    "execution": {
     "iopub.execute_input": "2025-09-03T14:36:54.713456Z",
     "iopub.status.busy": "2025-09-03T14:36:54.712990Z",
     "iopub.status.idle": "2025-09-03T14:36:54.730534Z",
     "shell.execute_reply": "2025-09-03T14:36:54.729443Z"
    },
    "papermill": {
     "duration": 0.034876,
     "end_time": "2025-09-03T14:36:54.732767",
     "exception": false,
     "start_time": "2025-09-03T14:36:54.697891",
     "status": "completed"
    },
    "tags": []
   },
   "outputs": [],
   "source": [
    "model.compile(optimizer='adam',metrics=['accuracy'],loss=['binary_crossentropy'])\n"
   ]
  },
  {
   "cell_type": "code",
   "execution_count": 30,
   "id": "270d7ff9",
   "metadata": {
    "execution": {
     "iopub.execute_input": "2025-09-03T14:36:54.763402Z",
     "iopub.status.busy": "2025-09-03T14:36:54.762944Z",
     "iopub.status.idle": "2025-09-03T14:37:01.274361Z",
     "shell.execute_reply": "2025-09-03T14:37:01.273137Z"
    },
    "papermill": {
     "duration": 6.528729,
     "end_time": "2025-09-03T14:37:01.276284",
     "exception": false,
     "start_time": "2025-09-03T14:36:54.747555",
     "status": "completed"
    },
    "tags": []
   },
   "outputs": [
    {
     "name": "stdout",
     "output_type": "stream",
     "text": [
      "Epoch 1/30\n",
      "\u001b[1m16/16\u001b[0m \u001b[32m━━━━━━━━━━━━━━━━━━━━\u001b[0m\u001b[37m\u001b[0m \u001b[1m2s\u001b[0m 24ms/step - accuracy: 0.6273 - loss: 0.6895 - val_accuracy: 0.6423 - val_loss: 0.6696\n",
      "Epoch 2/30\n",
      "\u001b[1m16/16\u001b[0m \u001b[32m━━━━━━━━━━━━━━━━━━━━\u001b[0m\u001b[37m\u001b[0m \u001b[1m0s\u001b[0m 7ms/step - accuracy: 0.6414 - loss: 0.6554 - val_accuracy: 0.6911 - val_loss: 0.6213\n",
      "Epoch 3/30\n",
      "\u001b[1m16/16\u001b[0m \u001b[32m━━━━━━━━━━━━━━━━━━━━\u001b[0m\u001b[37m\u001b[0m \u001b[1m0s\u001b[0m 7ms/step - accuracy: 0.6838 - loss: 0.6105 - val_accuracy: 0.7154 - val_loss: 0.5851\n",
      "Epoch 4/30\n",
      "\u001b[1m16/16\u001b[0m \u001b[32m━━━━━━━━━━━━━━━━━━━━\u001b[0m\u001b[37m\u001b[0m \u001b[1m0s\u001b[0m 8ms/step - accuracy: 0.6915 - loss: 0.5992 - val_accuracy: 0.7480 - val_loss: 0.5555\n",
      "Epoch 5/30\n",
      "\u001b[1m16/16\u001b[0m \u001b[32m━━━━━━━━━━━━━━━━━━━━\u001b[0m\u001b[37m\u001b[0m \u001b[1m0s\u001b[0m 8ms/step - accuracy: 0.7310 - loss: 0.5688 - val_accuracy: 0.7561 - val_loss: 0.5295\n",
      "Epoch 6/30\n",
      "\u001b[1m16/16\u001b[0m \u001b[32m━━━━━━━━━━━━━━━━━━━━\u001b[0m\u001b[37m\u001b[0m \u001b[1m0s\u001b[0m 8ms/step - accuracy: 0.7569 - loss: 0.5411 - val_accuracy: 0.7805 - val_loss: 0.5107\n",
      "Epoch 7/30\n",
      "\u001b[1m16/16\u001b[0m \u001b[32m━━━━━━━━━━━━━━━━━━━━\u001b[0m\u001b[37m\u001b[0m \u001b[1m0s\u001b[0m 7ms/step - accuracy: 0.7567 - loss: 0.5366 - val_accuracy: 0.8049 - val_loss: 0.4943\n",
      "Epoch 8/30\n",
      "\u001b[1m16/16\u001b[0m \u001b[32m━━━━━━━━━━━━━━━━━━━━\u001b[0m\u001b[37m\u001b[0m \u001b[1m0s\u001b[0m 8ms/step - accuracy: 0.7601 - loss: 0.5286 - val_accuracy: 0.7967 - val_loss: 0.4826\n",
      "Epoch 9/30\n",
      "\u001b[1m16/16\u001b[0m \u001b[32m━━━━━━━━━━━━━━━━━━━━\u001b[0m\u001b[37m\u001b[0m \u001b[1m0s\u001b[0m 8ms/step - accuracy: 0.7914 - loss: 0.4945 - val_accuracy: 0.7967 - val_loss: 0.4711\n",
      "Epoch 10/30\n",
      "\u001b[1m16/16\u001b[0m \u001b[32m━━━━━━━━━━━━━━━━━━━━\u001b[0m\u001b[37m\u001b[0m \u001b[1m0s\u001b[0m 7ms/step - accuracy: 0.7779 - loss: 0.5060 - val_accuracy: 0.7967 - val_loss: 0.4637\n",
      "Epoch 11/30\n",
      "\u001b[1m16/16\u001b[0m \u001b[32m━━━━━━━━━━━━━━━━━━━━\u001b[0m\u001b[37m\u001b[0m \u001b[1m0s\u001b[0m 8ms/step - accuracy: 0.7802 - loss: 0.4968 - val_accuracy: 0.7967 - val_loss: 0.4563\n",
      "Epoch 12/30\n",
      "\u001b[1m16/16\u001b[0m \u001b[32m━━━━━━━━━━━━━━━━━━━━\u001b[0m\u001b[37m\u001b[0m \u001b[1m0s\u001b[0m 8ms/step - accuracy: 0.7746 - loss: 0.4940 - val_accuracy: 0.7967 - val_loss: 0.4502\n",
      "Epoch 13/30\n",
      "\u001b[1m16/16\u001b[0m \u001b[32m━━━━━━━━━━━━━━━━━━━━\u001b[0m\u001b[37m\u001b[0m \u001b[1m0s\u001b[0m 7ms/step - accuracy: 0.8048 - loss: 0.4613 - val_accuracy: 0.7967 - val_loss: 0.4454\n",
      "Epoch 14/30\n",
      "\u001b[1m16/16\u001b[0m \u001b[32m━━━━━━━━━━━━━━━━━━━━\u001b[0m\u001b[37m\u001b[0m \u001b[1m0s\u001b[0m 8ms/step - accuracy: 0.7738 - loss: 0.4773 - val_accuracy: 0.7967 - val_loss: 0.4407\n",
      "Epoch 15/30\n",
      "\u001b[1m16/16\u001b[0m \u001b[32m━━━━━━━━━━━━━━━━━━━━\u001b[0m\u001b[37m\u001b[0m \u001b[1m0s\u001b[0m 8ms/step - accuracy: 0.7788 - loss: 0.4819 - val_accuracy: 0.7967 - val_loss: 0.4366\n",
      "Epoch 16/30\n",
      "\u001b[1m16/16\u001b[0m \u001b[32m━━━━━━━━━━━━━━━━━━━━\u001b[0m\u001b[37m\u001b[0m \u001b[1m0s\u001b[0m 8ms/step - accuracy: 0.7888 - loss: 0.4543 - val_accuracy: 0.8049 - val_loss: 0.4325\n",
      "Epoch 17/30\n",
      "\u001b[1m16/16\u001b[0m \u001b[32m━━━━━━━━━━━━━━━━━━━━\u001b[0m\u001b[37m\u001b[0m \u001b[1m0s\u001b[0m 7ms/step - accuracy: 0.7798 - loss: 0.4566 - val_accuracy: 0.7967 - val_loss: 0.4317\n",
      "Epoch 18/30\n",
      "\u001b[1m16/16\u001b[0m \u001b[32m━━━━━━━━━━━━━━━━━━━━\u001b[0m\u001b[37m\u001b[0m \u001b[1m0s\u001b[0m 9ms/step - accuracy: 0.7965 - loss: 0.4515 - val_accuracy: 0.7967 - val_loss: 0.4290\n",
      "Epoch 19/30\n",
      "\u001b[1m16/16\u001b[0m \u001b[32m━━━━━━━━━━━━━━━━━━━━\u001b[0m\u001b[37m\u001b[0m \u001b[1m0s\u001b[0m 8ms/step - accuracy: 0.8052 - loss: 0.4414 - val_accuracy: 0.7967 - val_loss: 0.4278\n",
      "Epoch 20/30\n",
      "\u001b[1m16/16\u001b[0m \u001b[32m━━━━━━━━━━━━━━━━━━━━\u001b[0m\u001b[37m\u001b[0m \u001b[1m0s\u001b[0m 8ms/step - accuracy: 0.7987 - loss: 0.4408 - val_accuracy: 0.7967 - val_loss: 0.4249\n",
      "Epoch 21/30\n",
      "\u001b[1m16/16\u001b[0m \u001b[32m━━━━━━━━━━━━━━━━━━━━\u001b[0m\u001b[37m\u001b[0m \u001b[1m0s\u001b[0m 8ms/step - accuracy: 0.8012 - loss: 0.4584 - val_accuracy: 0.7967 - val_loss: 0.4264\n",
      "Epoch 22/30\n",
      "\u001b[1m16/16\u001b[0m \u001b[32m━━━━━━━━━━━━━━━━━━━━\u001b[0m\u001b[37m\u001b[0m \u001b[1m0s\u001b[0m 8ms/step - accuracy: 0.7593 - loss: 0.4963 - val_accuracy: 0.7967 - val_loss: 0.4241\n",
      "Epoch 23/30\n",
      "\u001b[1m16/16\u001b[0m \u001b[32m━━━━━━━━━━━━━━━━━━━━\u001b[0m\u001b[37m\u001b[0m \u001b[1m0s\u001b[0m 8ms/step - accuracy: 0.7947 - loss: 0.4550 - val_accuracy: 0.7967 - val_loss: 0.4223\n",
      "Epoch 24/30\n",
      "\u001b[1m16/16\u001b[0m \u001b[32m━━━━━━━━━━━━━━━━━━━━\u001b[0m\u001b[37m\u001b[0m \u001b[1m0s\u001b[0m 8ms/step - accuracy: 0.8098 - loss: 0.4404 - val_accuracy: 0.7967 - val_loss: 0.4213\n",
      "Epoch 25/30\n",
      "\u001b[1m16/16\u001b[0m \u001b[32m━━━━━━━━━━━━━━━━━━━━\u001b[0m\u001b[37m\u001b[0m \u001b[1m0s\u001b[0m 7ms/step - accuracy: 0.8075 - loss: 0.4309 - val_accuracy: 0.7967 - val_loss: 0.4209\n",
      "Epoch 26/30\n",
      "\u001b[1m16/16\u001b[0m \u001b[32m━━━━━━━━━━━━━━━━━━━━\u001b[0m\u001b[37m\u001b[0m \u001b[1m0s\u001b[0m 8ms/step - accuracy: 0.8090 - loss: 0.4352 - val_accuracy: 0.7967 - val_loss: 0.4228\n",
      "Epoch 27/30\n",
      "\u001b[1m16/16\u001b[0m \u001b[32m━━━━━━━━━━━━━━━━━━━━\u001b[0m\u001b[37m\u001b[0m \u001b[1m0s\u001b[0m 8ms/step - accuracy: 0.7756 - loss: 0.4649 - val_accuracy: 0.7967 - val_loss: 0.4211\n",
      "Epoch 28/30\n",
      "\u001b[1m16/16\u001b[0m \u001b[32m━━━━━━━━━━━━━━━━━━━━\u001b[0m\u001b[37m\u001b[0m \u001b[1m0s\u001b[0m 8ms/step - accuracy: 0.7844 - loss: 0.4472 - val_accuracy: 0.7967 - val_loss: 0.4195\n",
      "Epoch 29/30\n",
      "\u001b[1m16/16\u001b[0m \u001b[32m━━━━━━━━━━━━━━━━━━━━\u001b[0m\u001b[37m\u001b[0m \u001b[1m0s\u001b[0m 8ms/step - accuracy: 0.7920 - loss: 0.4347 - val_accuracy: 0.7967 - val_loss: 0.4191\n",
      "Epoch 30/30\n",
      "\u001b[1m16/16\u001b[0m \u001b[32m━━━━━━━━━━━━━━━━━━━━\u001b[0m\u001b[37m\u001b[0m \u001b[1m0s\u001b[0m 8ms/step - accuracy: 0.7794 - loss: 0.4431 - val_accuracy: 0.8049 - val_loss: 0.4167\n"
     ]
    },
    {
     "data": {
      "text/plain": [
       "<keras.src.callbacks.history.History at 0x7e340fd2ea90>"
      ]
     },
     "execution_count": 30,
     "metadata": {},
     "output_type": "execute_result"
    }
   ],
   "source": [
    "model.fit(X_train,Y_train,epochs=30,validation_split=0.2,batch_size=32)"
   ]
  },
  {
   "cell_type": "markdown",
   "id": "de11eb4e",
   "metadata": {
    "papermill": {
     "duration": 0.020539,
     "end_time": "2025-09-03T14:37:01.318950",
     "exception": false,
     "start_time": "2025-09-03T14:37:01.298411",
     "status": "completed"
    },
    "tags": []
   },
   "source": [
    "# Keras Tuner"
   ]
  },
  {
   "cell_type": "code",
   "execution_count": 31,
   "id": "25fe576c",
   "metadata": {
    "execution": {
     "iopub.execute_input": "2025-09-03T14:37:01.360907Z",
     "iopub.status.busy": "2025-09-03T14:37:01.360571Z",
     "iopub.status.idle": "2025-09-03T14:37:01.797492Z",
     "shell.execute_reply": "2025-09-03T14:37:01.796171Z"
    },
    "papermill": {
     "duration": 0.460372,
     "end_time": "2025-09-03T14:37:01.799427",
     "exception": false,
     "start_time": "2025-09-03T14:37:01.339055",
     "status": "completed"
    },
    "tags": []
   },
   "outputs": [],
   "source": [
    "import keras_tuner as kt"
   ]
  },
  {
   "cell_type": "code",
   "execution_count": 32,
   "id": "366dd210",
   "metadata": {
    "execution": {
     "iopub.execute_input": "2025-09-03T14:37:01.841289Z",
     "iopub.status.busy": "2025-09-03T14:37:01.840857Z",
     "iopub.status.idle": "2025-09-03T14:37:01.848317Z",
     "shell.execute_reply": "2025-09-03T14:37:01.847024Z"
    },
    "papermill": {
     "duration": 0.029992,
     "end_time": "2025-09-03T14:37:01.850914",
     "exception": false,
     "start_time": "2025-09-03T14:37:01.820922",
     "status": "completed"
    },
    "tags": []
   },
   "outputs": [],
   "source": [
    "# we are going to use this to find the best paramters\n",
    "def build_model(hp):\n",
    "    model=Sequential()\n",
    "    model.add(Dense(32,activation='relu',input_dim=8))\n",
    "    model.add(Dense(1,activation='sigmoid'))\n",
    "    model.compile(optimizer=hp.Choice('optimizer',['adam','sgd','rmsprop','adadelta']),loss='binary_crossentropy',metrics=['accuracy'])\n",
    "\n",
    "    return model"
   ]
  },
  {
   "cell_type": "code",
   "execution_count": 33,
   "id": "08553aae",
   "metadata": {
    "execution": {
     "iopub.execute_input": "2025-09-03T14:37:01.919590Z",
     "iopub.status.busy": "2025-09-03T14:37:01.918301Z",
     "iopub.status.idle": "2025-09-03T14:37:01.969254Z",
     "shell.execute_reply": "2025-09-03T14:37:01.968218Z"
    },
    "papermill": {
     "duration": 0.091667,
     "end_time": "2025-09-03T14:37:01.971040",
     "exception": false,
     "start_time": "2025-09-03T14:37:01.879373",
     "status": "completed"
    },
    "tags": []
   },
   "outputs": [
    {
     "name": "stderr",
     "output_type": "stream",
     "text": [
      "/usr/local/lib/python3.11/dist-packages/keras/src/layers/core/dense.py:87: UserWarning:\n",
      "\n",
      "Do not pass an `input_shape`/`input_dim` argument to a layer. When using Sequential models, prefer using an `Input(shape)` object as the first layer in the model instead.\n",
      "\n"
     ]
    }
   ],
   "source": [
    "tuner=kt.RandomSearch(build_model,objective='val_accuracy',max_trials=5)"
   ]
  },
  {
   "cell_type": "code",
   "execution_count": 34,
   "id": "681e9067",
   "metadata": {
    "execution": {
     "iopub.execute_input": "2025-09-03T14:37:02.016909Z",
     "iopub.status.busy": "2025-09-03T14:37:02.014774Z",
     "iopub.status.idle": "2025-09-03T14:37:16.922632Z",
     "shell.execute_reply": "2025-09-03T14:37:16.921245Z"
    },
    "papermill": {
     "duration": 14.933082,
     "end_time": "2025-09-03T14:37:16.925261",
     "exception": false,
     "start_time": "2025-09-03T14:37:01.992179",
     "status": "completed"
    },
    "tags": []
   },
   "outputs": [
    {
     "name": "stdout",
     "output_type": "stream",
     "text": [
      "Trial 4 Complete [00h 00m 04s]\n",
      "val_accuracy: 0.3311688303947449\n",
      "\n",
      "Best val_accuracy So Far: 0.7467532753944397\n",
      "Total elapsed time: 00h 00m 15s\n"
     ]
    }
   ],
   "source": [
    "tuner.search(X_train,Y_train,epochs=5,validation_data=(X_test,Y_test))"
   ]
  },
  {
   "cell_type": "code",
   "execution_count": 35,
   "id": "2a586cc1",
   "metadata": {
    "execution": {
     "iopub.execute_input": "2025-09-03T14:37:16.970460Z",
     "iopub.status.busy": "2025-09-03T14:37:16.969989Z",
     "iopub.status.idle": "2025-09-03T14:37:16.978784Z",
     "shell.execute_reply": "2025-09-03T14:37:16.976963Z"
    },
    "jupyter": {
     "source_hidden": true
    },
    "papermill": {
     "duration": 0.032887,
     "end_time": "2025-09-03T14:37:16.980924",
     "exception": false,
     "start_time": "2025-09-03T14:37:16.948037",
     "status": "completed"
    },
    "tags": []
   },
   "outputs": [
    {
     "data": {
      "text/plain": [
       "{'optimizer': 'rmsprop'}"
      ]
     },
     "execution_count": 35,
     "metadata": {},
     "output_type": "execute_result"
    }
   ],
   "source": [
    "tuner.get_best_hyperparameters()[0].values"
   ]
  },
  {
   "cell_type": "code",
   "execution_count": 36,
   "id": "0e7d0f08",
   "metadata": {
    "execution": {
     "iopub.execute_input": "2025-09-03T14:37:17.026651Z",
     "iopub.status.busy": "2025-09-03T14:37:17.026254Z",
     "iopub.status.idle": "2025-09-03T14:37:18.117820Z",
     "shell.execute_reply": "2025-09-03T14:37:18.116573Z"
    },
    "papermill": {
     "duration": 1.115151,
     "end_time": "2025-09-03T14:37:18.119494",
     "exception": false,
     "start_time": "2025-09-03T14:37:17.004343",
     "status": "completed"
    },
    "tags": []
   },
   "outputs": [
    {
     "name": "stderr",
     "output_type": "stream",
     "text": [
      "/usr/local/lib/python3.11/dist-packages/keras/src/layers/core/dense.py:87: UserWarning:\n",
      "\n",
      "Do not pass an `input_shape`/`input_dim` argument to a layer. When using Sequential models, prefer using an `Input(shape)` object as the first layer in the model instead.\n",
      "\n",
      "/usr/local/lib/python3.11/dist-packages/keras/src/saving/saving_lib.py:757: UserWarning:\n",
      "\n",
      "Skipping variable loading for optimizer 'rmsprop', because it has 2 variables whereas the saved optimizer has 6 variables. \n",
      "\n"
     ]
    }
   ],
   "source": [
    "model=tuner.get_best_models(num_models=1)[0]"
   ]
  },
  {
   "cell_type": "code",
   "execution_count": 37,
   "id": "e34fc6cb",
   "metadata": {
    "execution": {
     "iopub.execute_input": "2025-09-03T14:37:18.158580Z",
     "iopub.status.busy": "2025-09-03T14:37:18.158264Z",
     "iopub.status.idle": "2025-09-03T14:37:18.175496Z",
     "shell.execute_reply": "2025-09-03T14:37:18.174505Z"
    },
    "papermill": {
     "duration": 0.03878,
     "end_time": "2025-09-03T14:37:18.177052",
     "exception": false,
     "start_time": "2025-09-03T14:37:18.138272",
     "status": "completed"
    },
    "tags": []
   },
   "outputs": [
    {
     "data": {
      "text/html": [
       "<pre style=\"white-space:pre;overflow-x:auto;line-height:normal;font-family:Menlo,'DejaVu Sans Mono',consolas,'Courier New',monospace\"><span style=\"font-weight: bold\">Model: \"sequential\"</span>\n",
       "</pre>\n"
      ],
      "text/plain": [
       "\u001b[1mModel: \"sequential\"\u001b[0m\n"
      ]
     },
     "metadata": {},
     "output_type": "display_data"
    },
    {
     "data": {
      "text/html": [
       "<pre style=\"white-space:pre;overflow-x:auto;line-height:normal;font-family:Menlo,'DejaVu Sans Mono',consolas,'Courier New',monospace\">┏━━━━━━━━━━━━━━━━━━━━━━━━━━━━━━━━━┳━━━━━━━━━━━━━━━━━━━━━━━━┳━━━━━━━━━━━━━━━┓\n",
       "┃<span style=\"font-weight: bold\"> Layer (type)                    </span>┃<span style=\"font-weight: bold\"> Output Shape           </span>┃<span style=\"font-weight: bold\">       Param # </span>┃\n",
       "┡━━━━━━━━━━━━━━━━━━━━━━━━━━━━━━━━━╇━━━━━━━━━━━━━━━━━━━━━━━━╇━━━━━━━━━━━━━━━┩\n",
       "│ dense (<span style=\"color: #0087ff; text-decoration-color: #0087ff\">Dense</span>)                   │ (<span style=\"color: #00d7ff; text-decoration-color: #00d7ff\">None</span>, <span style=\"color: #00af00; text-decoration-color: #00af00\">32</span>)             │           <span style=\"color: #00af00; text-decoration-color: #00af00\">288</span> │\n",
       "├─────────────────────────────────┼────────────────────────┼───────────────┤\n",
       "│ dense_1 (<span style=\"color: #0087ff; text-decoration-color: #0087ff\">Dense</span>)                 │ (<span style=\"color: #00d7ff; text-decoration-color: #00d7ff\">None</span>, <span style=\"color: #00af00; text-decoration-color: #00af00\">1</span>)              │            <span style=\"color: #00af00; text-decoration-color: #00af00\">33</span> │\n",
       "└─────────────────────────────────┴────────────────────────┴───────────────┘\n",
       "</pre>\n"
      ],
      "text/plain": [
       "┏━━━━━━━━━━━━━━━━━━━━━━━━━━━━━━━━━┳━━━━━━━━━━━━━━━━━━━━━━━━┳━━━━━━━━━━━━━━━┓\n",
       "┃\u001b[1m \u001b[0m\u001b[1mLayer (type)                   \u001b[0m\u001b[1m \u001b[0m┃\u001b[1m \u001b[0m\u001b[1mOutput Shape          \u001b[0m\u001b[1m \u001b[0m┃\u001b[1m \u001b[0m\u001b[1m      Param #\u001b[0m\u001b[1m \u001b[0m┃\n",
       "┡━━━━━━━━━━━━━━━━━━━━━━━━━━━━━━━━━╇━━━━━━━━━━━━━━━━━━━━━━━━╇━━━━━━━━━━━━━━━┩\n",
       "│ dense (\u001b[38;5;33mDense\u001b[0m)                   │ (\u001b[38;5;45mNone\u001b[0m, \u001b[38;5;34m32\u001b[0m)             │           \u001b[38;5;34m288\u001b[0m │\n",
       "├─────────────────────────────────┼────────────────────────┼───────────────┤\n",
       "│ dense_1 (\u001b[38;5;33mDense\u001b[0m)                 │ (\u001b[38;5;45mNone\u001b[0m, \u001b[38;5;34m1\u001b[0m)              │            \u001b[38;5;34m33\u001b[0m │\n",
       "└─────────────────────────────────┴────────────────────────┴───────────────┘\n"
      ]
     },
     "metadata": {},
     "output_type": "display_data"
    },
    {
     "data": {
      "text/html": [
       "<pre style=\"white-space:pre;overflow-x:auto;line-height:normal;font-family:Menlo,'DejaVu Sans Mono',consolas,'Courier New',monospace\"><span style=\"font-weight: bold\"> Total params: </span><span style=\"color: #00af00; text-decoration-color: #00af00\">321</span> (1.25 KB)\n",
       "</pre>\n"
      ],
      "text/plain": [
       "\u001b[1m Total params: \u001b[0m\u001b[38;5;34m321\u001b[0m (1.25 KB)\n"
      ]
     },
     "metadata": {},
     "output_type": "display_data"
    },
    {
     "data": {
      "text/html": [
       "<pre style=\"white-space:pre;overflow-x:auto;line-height:normal;font-family:Menlo,'DejaVu Sans Mono',consolas,'Courier New',monospace\"><span style=\"font-weight: bold\"> Trainable params: </span><span style=\"color: #00af00; text-decoration-color: #00af00\">321</span> (1.25 KB)\n",
       "</pre>\n"
      ],
      "text/plain": [
       "\u001b[1m Trainable params: \u001b[0m\u001b[38;5;34m321\u001b[0m (1.25 KB)\n"
      ]
     },
     "metadata": {},
     "output_type": "display_data"
    },
    {
     "data": {
      "text/html": [
       "<pre style=\"white-space:pre;overflow-x:auto;line-height:normal;font-family:Menlo,'DejaVu Sans Mono',consolas,'Courier New',monospace\"><span style=\"font-weight: bold\"> Non-trainable params: </span><span style=\"color: #00af00; text-decoration-color: #00af00\">0</span> (0.00 B)\n",
       "</pre>\n"
      ],
      "text/plain": [
       "\u001b[1m Non-trainable params: \u001b[0m\u001b[38;5;34m0\u001b[0m (0.00 B)\n"
      ]
     },
     "metadata": {},
     "output_type": "display_data"
    }
   ],
   "source": [
    "model.summary()"
   ]
  },
  {
   "cell_type": "code",
   "execution_count": 38,
   "id": "34562377",
   "metadata": {
    "execution": {
     "iopub.execute_input": "2025-09-03T14:37:18.220375Z",
     "iopub.status.busy": "2025-09-03T14:37:18.219910Z",
     "iopub.status.idle": "2025-09-03T14:37:33.856779Z",
     "shell.execute_reply": "2025-09-03T14:37:33.855899Z"
    },
    "papermill": {
     "duration": 15.661006,
     "end_time": "2025-09-03T14:37:33.858442",
     "exception": false,
     "start_time": "2025-09-03T14:37:18.197436",
     "status": "completed"
    },
    "tags": []
   },
   "outputs": [
    {
     "name": "stdout",
     "output_type": "stream",
     "text": [
      "Epoch 7/100\n",
      "\u001b[1m20/20\u001b[0m \u001b[32m━━━━━━━━━━━━━━━━━━━━\u001b[0m\u001b[37m\u001b[0m \u001b[1m1s\u001b[0m 19ms/step - accuracy: 0.7460 - loss: 0.5649 - val_accuracy: 0.7273 - val_loss: 0.5434\n",
      "Epoch 8/100\n",
      "\u001b[1m20/20\u001b[0m \u001b[32m━━━━━━━━━━━━━━━━━━━━\u001b[0m\u001b[37m\u001b[0m \u001b[1m0s\u001b[0m 6ms/step - accuracy: 0.7507 - loss: 0.5389 - val_accuracy: 0.7403 - val_loss: 0.5282\n",
      "Epoch 9/100\n",
      "\u001b[1m20/20\u001b[0m \u001b[32m━━━━━━━━━━━━━━━━━━━━\u001b[0m\u001b[37m\u001b[0m \u001b[1m0s\u001b[0m 7ms/step - accuracy: 0.7769 - loss: 0.5020 - val_accuracy: 0.7403 - val_loss: 0.5171\n",
      "Epoch 10/100\n",
      "\u001b[1m20/20\u001b[0m \u001b[32m━━━━━━━━━━━━━━━━━━━━\u001b[0m\u001b[37m\u001b[0m \u001b[1m0s\u001b[0m 6ms/step - accuracy: 0.7886 - loss: 0.4854 - val_accuracy: 0.7403 - val_loss: 0.5098\n",
      "Epoch 11/100\n",
      "\u001b[1m20/20\u001b[0m \u001b[32m━━━━━━━━━━━━━━━━━━━━\u001b[0m\u001b[37m\u001b[0m \u001b[1m0s\u001b[0m 6ms/step - accuracy: 0.7727 - loss: 0.4900 - val_accuracy: 0.7468 - val_loss: 0.5015\n",
      "Epoch 12/100\n",
      "\u001b[1m20/20\u001b[0m \u001b[32m━━━━━━━━━━━━━━━━━━━━\u001b[0m\u001b[37m\u001b[0m \u001b[1m0s\u001b[0m 6ms/step - accuracy: 0.7899 - loss: 0.4682 - val_accuracy: 0.7403 - val_loss: 0.4984\n",
      "Epoch 13/100\n",
      "\u001b[1m20/20\u001b[0m \u001b[32m━━━━━━━━━━━━━━━━━━━━\u001b[0m\u001b[37m\u001b[0m \u001b[1m0s\u001b[0m 6ms/step - accuracy: 0.7874 - loss: 0.4626 - val_accuracy: 0.7338 - val_loss: 0.4963\n",
      "Epoch 14/100\n",
      "\u001b[1m20/20\u001b[0m \u001b[32m━━━━━━━━━━━━━━━━━━━━\u001b[0m\u001b[37m\u001b[0m \u001b[1m0s\u001b[0m 6ms/step - accuracy: 0.7834 - loss: 0.4800 - val_accuracy: 0.7273 - val_loss: 0.4937\n",
      "Epoch 15/100\n",
      "\u001b[1m20/20\u001b[0m \u001b[32m━━━━━━━━━━━━━━━━━━━━\u001b[0m\u001b[37m\u001b[0m \u001b[1m0s\u001b[0m 7ms/step - accuracy: 0.8138 - loss: 0.4372 - val_accuracy: 0.7273 - val_loss: 0.4919\n",
      "Epoch 16/100\n",
      "\u001b[1m20/20\u001b[0m \u001b[32m━━━━━━━━━━━━━━━━━━━━\u001b[0m\u001b[37m\u001b[0m \u001b[1m0s\u001b[0m 6ms/step - accuracy: 0.8120 - loss: 0.4450 - val_accuracy: 0.7208 - val_loss: 0.4900\n",
      "Epoch 17/100\n",
      "\u001b[1m20/20\u001b[0m \u001b[32m━━━━━━━━━━━━━━━━━━━━\u001b[0m\u001b[37m\u001b[0m \u001b[1m0s\u001b[0m 6ms/step - accuracy: 0.7943 - loss: 0.4693 - val_accuracy: 0.7208 - val_loss: 0.4881\n",
      "Epoch 18/100\n",
      "\u001b[1m20/20\u001b[0m \u001b[32m━━━━━━━━━━━━━━━━━━━━\u001b[0m\u001b[37m\u001b[0m \u001b[1m0s\u001b[0m 6ms/step - accuracy: 0.7804 - loss: 0.4659 - val_accuracy: 0.7208 - val_loss: 0.4876\n",
      "Epoch 19/100\n",
      "\u001b[1m20/20\u001b[0m \u001b[32m━━━━━━━━━━━━━━━━━━━━\u001b[0m\u001b[37m\u001b[0m \u001b[1m0s\u001b[0m 6ms/step - accuracy: 0.8123 - loss: 0.4427 - val_accuracy: 0.7078 - val_loss: 0.4871\n",
      "Epoch 20/100\n",
      "\u001b[1m20/20\u001b[0m \u001b[32m━━━━━━━━━━━━━━━━━━━━\u001b[0m\u001b[37m\u001b[0m \u001b[1m0s\u001b[0m 7ms/step - accuracy: 0.7967 - loss: 0.4489 - val_accuracy: 0.7143 - val_loss: 0.4864\n",
      "Epoch 21/100\n",
      "\u001b[1m20/20\u001b[0m \u001b[32m━━━━━━━━━━━━━━━━━━━━\u001b[0m\u001b[37m\u001b[0m \u001b[1m0s\u001b[0m 6ms/step - accuracy: 0.7675 - loss: 0.4682 - val_accuracy: 0.7143 - val_loss: 0.4862\n",
      "Epoch 22/100\n",
      "\u001b[1m20/20\u001b[0m \u001b[32m━━━━━━━━━━━━━━━━━━━━\u001b[0m\u001b[37m\u001b[0m \u001b[1m0s\u001b[0m 8ms/step - accuracy: 0.7915 - loss: 0.4410 - val_accuracy: 0.7143 - val_loss: 0.4850\n",
      "Epoch 23/100\n",
      "\u001b[1m20/20\u001b[0m \u001b[32m━━━━━━━━━━━━━━━━━━━━\u001b[0m\u001b[37m\u001b[0m \u001b[1m0s\u001b[0m 6ms/step - accuracy: 0.8098 - loss: 0.4303 - val_accuracy: 0.7208 - val_loss: 0.4858\n",
      "Epoch 24/100\n",
      "\u001b[1m20/20\u001b[0m \u001b[32m━━━━━━━━━━━━━━━━━━━━\u001b[0m\u001b[37m\u001b[0m \u001b[1m0s\u001b[0m 6ms/step - accuracy: 0.7986 - loss: 0.4402 - val_accuracy: 0.7208 - val_loss: 0.4851\n",
      "Epoch 25/100\n",
      "\u001b[1m20/20\u001b[0m \u001b[32m━━━━━━━━━━━━━━━━━━━━\u001b[0m\u001b[37m\u001b[0m \u001b[1m0s\u001b[0m 6ms/step - accuracy: 0.7982 - loss: 0.4266 - val_accuracy: 0.7208 - val_loss: 0.4869\n",
      "Epoch 26/100\n",
      "\u001b[1m20/20\u001b[0m \u001b[32m━━━━━━━━━━━━━━━━━━━━\u001b[0m\u001b[37m\u001b[0m \u001b[1m0s\u001b[0m 6ms/step - accuracy: 0.7921 - loss: 0.4597 - val_accuracy: 0.7338 - val_loss: 0.4864\n",
      "Epoch 27/100\n",
      "\u001b[1m20/20\u001b[0m \u001b[32m━━━━━━━━━━━━━━━━━━━━\u001b[0m\u001b[37m\u001b[0m \u001b[1m0s\u001b[0m 6ms/step - accuracy: 0.8069 - loss: 0.4086 - val_accuracy: 0.7338 - val_loss: 0.4853\n",
      "Epoch 28/100\n",
      "\u001b[1m20/20\u001b[0m \u001b[32m━━━━━━━━━━━━━━━━━━━━\u001b[0m\u001b[37m\u001b[0m \u001b[1m0s\u001b[0m 6ms/step - accuracy: 0.7875 - loss: 0.4518 - val_accuracy: 0.7338 - val_loss: 0.4854\n",
      "Epoch 29/100\n",
      "\u001b[1m20/20\u001b[0m \u001b[32m━━━━━━━━━━━━━━━━━━━━\u001b[0m\u001b[37m\u001b[0m \u001b[1m0s\u001b[0m 6ms/step - accuracy: 0.7976 - loss: 0.4146 - val_accuracy: 0.7273 - val_loss: 0.4862\n",
      "Epoch 30/100\n",
      "\u001b[1m20/20\u001b[0m \u001b[32m━━━━━━━━━━━━━━━━━━━━\u001b[0m\u001b[37m\u001b[0m \u001b[1m0s\u001b[0m 6ms/step - accuracy: 0.7887 - loss: 0.4394 - val_accuracy: 0.7273 - val_loss: 0.4864\n",
      "Epoch 31/100\n",
      "\u001b[1m20/20\u001b[0m \u001b[32m━━━━━━━━━━━━━━━━━━━━\u001b[0m\u001b[37m\u001b[0m \u001b[1m0s\u001b[0m 7ms/step - accuracy: 0.7821 - loss: 0.4515 - val_accuracy: 0.7208 - val_loss: 0.4856\n",
      "Epoch 32/100\n",
      "\u001b[1m20/20\u001b[0m \u001b[32m━━━━━━━━━━━━━━━━━━━━\u001b[0m\u001b[37m\u001b[0m \u001b[1m0s\u001b[0m 6ms/step - accuracy: 0.7972 - loss: 0.4313 - val_accuracy: 0.7208 - val_loss: 0.4869\n",
      "Epoch 33/100\n",
      "\u001b[1m20/20\u001b[0m \u001b[32m━━━━━━━━━━━━━━━━━━━━\u001b[0m\u001b[37m\u001b[0m \u001b[1m0s\u001b[0m 6ms/step - accuracy: 0.7946 - loss: 0.4269 - val_accuracy: 0.7208 - val_loss: 0.4872\n",
      "Epoch 34/100\n",
      "\u001b[1m20/20\u001b[0m \u001b[32m━━━━━━━━━━━━━━━━━━━━\u001b[0m\u001b[37m\u001b[0m \u001b[1m0s\u001b[0m 6ms/step - accuracy: 0.8048 - loss: 0.4031 - val_accuracy: 0.7208 - val_loss: 0.4877\n",
      "Epoch 35/100\n",
      "\u001b[1m20/20\u001b[0m \u001b[32m━━━━━━━━━━━━━━━━━━━━\u001b[0m\u001b[37m\u001b[0m \u001b[1m0s\u001b[0m 6ms/step - accuracy: 0.7928 - loss: 0.4264 - val_accuracy: 0.7273 - val_loss: 0.4882\n",
      "Epoch 36/100\n",
      "\u001b[1m20/20\u001b[0m \u001b[32m━━━━━━━━━━━━━━━━━━━━\u001b[0m\u001b[37m\u001b[0m \u001b[1m0s\u001b[0m 6ms/step - accuracy: 0.7774 - loss: 0.4448 - val_accuracy: 0.7208 - val_loss: 0.4889\n",
      "Epoch 37/100\n",
      "\u001b[1m20/20\u001b[0m \u001b[32m━━━━━━━━━━━━━━━━━━━━\u001b[0m\u001b[37m\u001b[0m \u001b[1m0s\u001b[0m 7ms/step - accuracy: 0.8145 - loss: 0.3967 - val_accuracy: 0.7273 - val_loss: 0.4881\n",
      "Epoch 38/100\n",
      "\u001b[1m20/20\u001b[0m \u001b[32m━━━━━━━━━━━━━━━━━━━━\u001b[0m\u001b[37m\u001b[0m \u001b[1m0s\u001b[0m 6ms/step - accuracy: 0.7964 - loss: 0.4283 - val_accuracy: 0.7273 - val_loss: 0.4902\n",
      "Epoch 39/100\n",
      "\u001b[1m20/20\u001b[0m \u001b[32m━━━━━━━━━━━━━━━━━━━━\u001b[0m\u001b[37m\u001b[0m \u001b[1m0s\u001b[0m 6ms/step - accuracy: 0.8131 - loss: 0.3963 - val_accuracy: 0.7208 - val_loss: 0.4905\n",
      "Epoch 40/100\n",
      "\u001b[1m20/20\u001b[0m \u001b[32m━━━━━━━━━━━━━━━━━━━━\u001b[0m\u001b[37m\u001b[0m \u001b[1m0s\u001b[0m 6ms/step - accuracy: 0.7812 - loss: 0.4440 - val_accuracy: 0.7273 - val_loss: 0.4906\n",
      "Epoch 41/100\n",
      "\u001b[1m20/20\u001b[0m \u001b[32m━━━━━━━━━━━━━━━━━━━━\u001b[0m\u001b[37m\u001b[0m \u001b[1m0s\u001b[0m 6ms/step - accuracy: 0.8148 - loss: 0.4218 - val_accuracy: 0.7273 - val_loss: 0.4899\n",
      "Epoch 42/100\n",
      "\u001b[1m20/20\u001b[0m \u001b[32m━━━━━━━━━━━━━━━━━━━━\u001b[0m\u001b[37m\u001b[0m \u001b[1m0s\u001b[0m 6ms/step - accuracy: 0.7900 - loss: 0.4338 - val_accuracy: 0.7273 - val_loss: 0.4899\n",
      "Epoch 43/100\n",
      "\u001b[1m20/20\u001b[0m \u001b[32m━━━━━━━━━━━━━━━━━━━━\u001b[0m\u001b[37m\u001b[0m \u001b[1m0s\u001b[0m 6ms/step - accuracy: 0.7974 - loss: 0.4301 - val_accuracy: 0.7273 - val_loss: 0.4913\n",
      "Epoch 44/100\n",
      "\u001b[1m20/20\u001b[0m \u001b[32m━━━━━━━━━━━━━━━━━━━━\u001b[0m\u001b[37m\u001b[0m \u001b[1m0s\u001b[0m 6ms/step - accuracy: 0.8002 - loss: 0.4228 - val_accuracy: 0.7273 - val_loss: 0.4905\n",
      "Epoch 45/100\n",
      "\u001b[1m20/20\u001b[0m \u001b[32m━━━━━━━━━━━━━━━━━━━━\u001b[0m\u001b[37m\u001b[0m \u001b[1m0s\u001b[0m 6ms/step - accuracy: 0.7999 - loss: 0.4313 - val_accuracy: 0.7208 - val_loss: 0.4903\n",
      "Epoch 46/100\n",
      "\u001b[1m20/20\u001b[0m \u001b[32m━━━━━━━━━━━━━━━━━━━━\u001b[0m\u001b[37m\u001b[0m \u001b[1m0s\u001b[0m 6ms/step - accuracy: 0.7788 - loss: 0.4490 - val_accuracy: 0.7273 - val_loss: 0.4894\n",
      "Epoch 47/100\n",
      "\u001b[1m20/20\u001b[0m \u001b[32m━━━━━━━━━━━━━━━━━━━━\u001b[0m\u001b[37m\u001b[0m \u001b[1m0s\u001b[0m 6ms/step - accuracy: 0.8179 - loss: 0.4083 - val_accuracy: 0.7273 - val_loss: 0.4893\n",
      "Epoch 48/100\n",
      "\u001b[1m20/20\u001b[0m \u001b[32m━━━━━━━━━━━━━━━━━━━━\u001b[0m\u001b[37m\u001b[0m \u001b[1m0s\u001b[0m 6ms/step - accuracy: 0.8027 - loss: 0.4164 - val_accuracy: 0.7273 - val_loss: 0.4909\n",
      "Epoch 49/100\n",
      "\u001b[1m20/20\u001b[0m \u001b[32m━━━━━━━━━━━━━━━━━━━━\u001b[0m\u001b[37m\u001b[0m \u001b[1m0s\u001b[0m 6ms/step - accuracy: 0.8246 - loss: 0.3925 - val_accuracy: 0.7338 - val_loss: 0.4934\n",
      "Epoch 50/100\n",
      "\u001b[1m20/20\u001b[0m \u001b[32m━━━━━━━━━━━━━━━━━━━━\u001b[0m\u001b[37m\u001b[0m \u001b[1m0s\u001b[0m 6ms/step - accuracy: 0.7956 - loss: 0.4407 - val_accuracy: 0.7338 - val_loss: 0.4933\n",
      "Epoch 51/100\n",
      "\u001b[1m20/20\u001b[0m \u001b[32m━━━━━━━━━━━━━━━━━━━━\u001b[0m\u001b[37m\u001b[0m \u001b[1m0s\u001b[0m 6ms/step - accuracy: 0.8045 - loss: 0.4211 - val_accuracy: 0.7273 - val_loss: 0.4925\n",
      "Epoch 52/100\n",
      "\u001b[1m20/20\u001b[0m \u001b[32m━━━━━━━━━━━━━━━━━━━━\u001b[0m\u001b[37m\u001b[0m \u001b[1m0s\u001b[0m 6ms/step - accuracy: 0.8167 - loss: 0.3981 - val_accuracy: 0.7338 - val_loss: 0.4953\n",
      "Epoch 53/100\n",
      "\u001b[1m20/20\u001b[0m \u001b[32m━━━━━━━━━━━━━━━━━━━━\u001b[0m\u001b[37m\u001b[0m \u001b[1m0s\u001b[0m 6ms/step - accuracy: 0.8132 - loss: 0.4283 - val_accuracy: 0.7273 - val_loss: 0.4925\n",
      "Epoch 54/100\n",
      "\u001b[1m20/20\u001b[0m \u001b[32m━━━━━━━━━━━━━━━━━━━━\u001b[0m\u001b[37m\u001b[0m \u001b[1m0s\u001b[0m 6ms/step - accuracy: 0.8138 - loss: 0.3869 - val_accuracy: 0.7208 - val_loss: 0.4913\n",
      "Epoch 55/100\n",
      "\u001b[1m20/20\u001b[0m \u001b[32m━━━━━━━━━━━━━━━━━━━━\u001b[0m\u001b[37m\u001b[0m \u001b[1m0s\u001b[0m 6ms/step - accuracy: 0.7997 - loss: 0.4175 - val_accuracy: 0.7208 - val_loss: 0.4925\n",
      "Epoch 56/100\n",
      "\u001b[1m20/20\u001b[0m \u001b[32m━━━━━━━━━━━━━━━━━━━━\u001b[0m\u001b[37m\u001b[0m \u001b[1m0s\u001b[0m 7ms/step - accuracy: 0.8116 - loss: 0.4179 - val_accuracy: 0.7208 - val_loss: 0.4925\n",
      "Epoch 57/100\n",
      "\u001b[1m20/20\u001b[0m \u001b[32m━━━━━━━━━━━━━━━━━━━━\u001b[0m\u001b[37m\u001b[0m \u001b[1m0s\u001b[0m 6ms/step - accuracy: 0.8136 - loss: 0.4167 - val_accuracy: 0.7208 - val_loss: 0.4912\n",
      "Epoch 58/100\n",
      "\u001b[1m20/20\u001b[0m \u001b[32m━━━━━━━━━━━━━━━━━━━━\u001b[0m\u001b[37m\u001b[0m \u001b[1m0s\u001b[0m 6ms/step - accuracy: 0.8121 - loss: 0.4112 - val_accuracy: 0.7273 - val_loss: 0.4908\n",
      "Epoch 59/100\n",
      "\u001b[1m20/20\u001b[0m \u001b[32m━━━━━━━━━━━━━━━━━━━━\u001b[0m\u001b[37m\u001b[0m \u001b[1m0s\u001b[0m 6ms/step - accuracy: 0.7936 - loss: 0.4250 - val_accuracy: 0.7208 - val_loss: 0.4919\n",
      "Epoch 60/100\n",
      "\u001b[1m20/20\u001b[0m \u001b[32m━━━━━━━━━━━━━━━━━━━━\u001b[0m\u001b[37m\u001b[0m \u001b[1m0s\u001b[0m 6ms/step - accuracy: 0.8139 - loss: 0.4103 - val_accuracy: 0.7208 - val_loss: 0.4935\n",
      "Epoch 61/100\n",
      "\u001b[1m20/20\u001b[0m \u001b[32m━━━━━━━━━━━━━━━━━━━━\u001b[0m\u001b[37m\u001b[0m \u001b[1m0s\u001b[0m 7ms/step - accuracy: 0.8053 - loss: 0.4211 - val_accuracy: 0.7208 - val_loss: 0.4943\n",
      "Epoch 62/100\n",
      "\u001b[1m20/20\u001b[0m \u001b[32m━━━━━━━━━━━━━━━━━━━━\u001b[0m\u001b[37m\u001b[0m \u001b[1m0s\u001b[0m 7ms/step - accuracy: 0.7925 - loss: 0.4455 - val_accuracy: 0.7273 - val_loss: 0.4930\n",
      "Epoch 63/100\n",
      "\u001b[1m20/20\u001b[0m \u001b[32m━━━━━━━━━━━━━━━━━━━━\u001b[0m\u001b[37m\u001b[0m \u001b[1m0s\u001b[0m 6ms/step - accuracy: 0.7782 - loss: 0.4393 - val_accuracy: 0.7273 - val_loss: 0.4944\n",
      "Epoch 64/100\n",
      "\u001b[1m20/20\u001b[0m \u001b[32m━━━━━━━━━━━━━━━━━━━━\u001b[0m\u001b[37m\u001b[0m \u001b[1m0s\u001b[0m 7ms/step - accuracy: 0.8141 - loss: 0.3978 - val_accuracy: 0.7338 - val_loss: 0.4951\n",
      "Epoch 65/100\n",
      "\u001b[1m20/20\u001b[0m \u001b[32m━━━━━━━━━━━━━━━━━━━━\u001b[0m\u001b[37m\u001b[0m \u001b[1m0s\u001b[0m 6ms/step - accuracy: 0.8190 - loss: 0.3996 - val_accuracy: 0.7273 - val_loss: 0.4958\n",
      "Epoch 66/100\n",
      "\u001b[1m20/20\u001b[0m \u001b[32m━━━━━━━━━━━━━━━━━━━━\u001b[0m\u001b[37m\u001b[0m \u001b[1m0s\u001b[0m 6ms/step - accuracy: 0.8058 - loss: 0.4174 - val_accuracy: 0.7273 - val_loss: 0.4958\n",
      "Epoch 67/100\n",
      "\u001b[1m20/20\u001b[0m \u001b[32m━━━━━━━━━━━━━━━━━━━━\u001b[0m\u001b[37m\u001b[0m \u001b[1m0s\u001b[0m 6ms/step - accuracy: 0.7898 - loss: 0.4361 - val_accuracy: 0.7273 - val_loss: 0.4971\n",
      "Epoch 68/100\n",
      "\u001b[1m20/20\u001b[0m \u001b[32m━━━━━━━━━━━━━━━━━━━━\u001b[0m\u001b[37m\u001b[0m \u001b[1m0s\u001b[0m 6ms/step - accuracy: 0.8241 - loss: 0.3949 - val_accuracy: 0.7273 - val_loss: 0.4980\n",
      "Epoch 69/100\n",
      "\u001b[1m20/20\u001b[0m \u001b[32m━━━━━━━━━━━━━━━━━━━━\u001b[0m\u001b[37m\u001b[0m \u001b[1m0s\u001b[0m 6ms/step - accuracy: 0.8148 - loss: 0.4200 - val_accuracy: 0.7273 - val_loss: 0.4974\n",
      "Epoch 70/100\n",
      "\u001b[1m20/20\u001b[0m \u001b[32m━━━━━━━━━━━━━━━━━━━━\u001b[0m\u001b[37m\u001b[0m \u001b[1m0s\u001b[0m 7ms/step - accuracy: 0.8178 - loss: 0.4103 - val_accuracy: 0.7273 - val_loss: 0.4951\n",
      "Epoch 71/100\n",
      "\u001b[1m20/20\u001b[0m \u001b[32m━━━━━━━━━━━━━━━━━━━━\u001b[0m\u001b[37m\u001b[0m \u001b[1m0s\u001b[0m 7ms/step - accuracy: 0.8125 - loss: 0.4109 - val_accuracy: 0.7273 - val_loss: 0.4967\n",
      "Epoch 72/100\n",
      "\u001b[1m20/20\u001b[0m \u001b[32m━━━━━━━━━━━━━━━━━━━━\u001b[0m\u001b[37m\u001b[0m \u001b[1m0s\u001b[0m 6ms/step - accuracy: 0.8035 - loss: 0.4130 - val_accuracy: 0.7273 - val_loss: 0.4962\n",
      "Epoch 73/100\n",
      "\u001b[1m20/20\u001b[0m \u001b[32m━━━━━━━━━━━━━━━━━━━━\u001b[0m\u001b[37m\u001b[0m \u001b[1m0s\u001b[0m 6ms/step - accuracy: 0.7937 - loss: 0.4276 - val_accuracy: 0.7273 - val_loss: 0.4971\n",
      "Epoch 74/100\n",
      "\u001b[1m20/20\u001b[0m \u001b[32m━━━━━━━━━━━━━━━━━━━━\u001b[0m\u001b[37m\u001b[0m \u001b[1m0s\u001b[0m 6ms/step - accuracy: 0.8022 - loss: 0.4189 - val_accuracy: 0.7208 - val_loss: 0.4982\n",
      "Epoch 75/100\n",
      "\u001b[1m20/20\u001b[0m \u001b[32m━━━━━━━━━━━━━━━━━━━━\u001b[0m\u001b[37m\u001b[0m \u001b[1m0s\u001b[0m 6ms/step - accuracy: 0.8209 - loss: 0.3909 - val_accuracy: 0.7273 - val_loss: 0.4966\n",
      "Epoch 76/100\n",
      "\u001b[1m20/20\u001b[0m \u001b[32m━━━━━━━━━━━━━━━━━━━━\u001b[0m\u001b[37m\u001b[0m \u001b[1m0s\u001b[0m 6ms/step - accuracy: 0.8224 - loss: 0.4047 - val_accuracy: 0.7273 - val_loss: 0.4973\n",
      "Epoch 77/100\n",
      "\u001b[1m20/20\u001b[0m \u001b[32m━━━━━━━━━━━━━━━━━━━━\u001b[0m\u001b[37m\u001b[0m \u001b[1m0s\u001b[0m 6ms/step - accuracy: 0.7918 - loss: 0.4603 - val_accuracy: 0.7273 - val_loss: 0.5001\n",
      "Epoch 78/100\n",
      "\u001b[1m20/20\u001b[0m \u001b[32m━━━━━━━━━━━━━━━━━━━━\u001b[0m\u001b[37m\u001b[0m \u001b[1m0s\u001b[0m 6ms/step - accuracy: 0.7981 - loss: 0.4299 - val_accuracy: 0.7273 - val_loss: 0.4989\n",
      "Epoch 79/100\n",
      "\u001b[1m20/20\u001b[0m \u001b[32m━━━━━━━━━━━━━━━━━━━━\u001b[0m\u001b[37m\u001b[0m \u001b[1m0s\u001b[0m 6ms/step - accuracy: 0.8163 - loss: 0.3925 - val_accuracy: 0.7273 - val_loss: 0.4970\n",
      "Epoch 80/100\n",
      "\u001b[1m20/20\u001b[0m \u001b[32m━━━━━━━━━━━━━━━━━━━━\u001b[0m\u001b[37m\u001b[0m \u001b[1m0s\u001b[0m 6ms/step - accuracy: 0.8070 - loss: 0.4195 - val_accuracy: 0.7273 - val_loss: 0.4977\n",
      "Epoch 81/100\n",
      "\u001b[1m20/20\u001b[0m \u001b[32m━━━━━━━━━━━━━━━━━━━━\u001b[0m\u001b[37m\u001b[0m \u001b[1m0s\u001b[0m 6ms/step - accuracy: 0.8252 - loss: 0.4007 - val_accuracy: 0.7208 - val_loss: 0.4978\n",
      "Epoch 82/100\n",
      "\u001b[1m20/20\u001b[0m \u001b[32m━━━━━━━━━━━━━━━━━━━━\u001b[0m\u001b[37m\u001b[0m \u001b[1m0s\u001b[0m 6ms/step - accuracy: 0.7989 - loss: 0.4059 - val_accuracy: 0.7273 - val_loss: 0.4975\n",
      "Epoch 83/100\n",
      "\u001b[1m20/20\u001b[0m \u001b[32m━━━━━━━━━━━━━━━━━━━━\u001b[0m\u001b[37m\u001b[0m \u001b[1m0s\u001b[0m 6ms/step - accuracy: 0.8008 - loss: 0.4302 - val_accuracy: 0.7273 - val_loss: 0.4984\n",
      "Epoch 84/100\n",
      "\u001b[1m20/20\u001b[0m \u001b[32m━━━━━━━━━━━━━━━━━━━━\u001b[0m\u001b[37m\u001b[0m \u001b[1m0s\u001b[0m 6ms/step - accuracy: 0.8124 - loss: 0.4144 - val_accuracy: 0.7273 - val_loss: 0.4987\n",
      "Epoch 85/100\n",
      "\u001b[1m20/20\u001b[0m \u001b[32m━━━━━━━━━━━━━━━━━━━━\u001b[0m\u001b[37m\u001b[0m \u001b[1m0s\u001b[0m 6ms/step - accuracy: 0.7955 - loss: 0.4405 - val_accuracy: 0.7273 - val_loss: 0.4981\n",
      "Epoch 86/100\n",
      "\u001b[1m20/20\u001b[0m \u001b[32m━━━━━━━━━━━━━━━━━━━━\u001b[0m\u001b[37m\u001b[0m \u001b[1m0s\u001b[0m 6ms/step - accuracy: 0.8017 - loss: 0.4300 - val_accuracy: 0.7273 - val_loss: 0.4999\n",
      "Epoch 87/100\n",
      "\u001b[1m20/20\u001b[0m \u001b[32m━━━━━━━━━━━━━━━━━━━━\u001b[0m\u001b[37m\u001b[0m \u001b[1m0s\u001b[0m 6ms/step - accuracy: 0.8021 - loss: 0.4100 - val_accuracy: 0.7273 - val_loss: 0.5006\n",
      "Epoch 88/100\n",
      "\u001b[1m20/20\u001b[0m \u001b[32m━━━━━━━━━━━━━━━━━━━━\u001b[0m\u001b[37m\u001b[0m \u001b[1m0s\u001b[0m 8ms/step - accuracy: 0.8315 - loss: 0.3787 - val_accuracy: 0.7338 - val_loss: 0.4983\n",
      "Epoch 89/100\n",
      "\u001b[1m20/20\u001b[0m \u001b[32m━━━━━━━━━━━━━━━━━━━━\u001b[0m\u001b[37m\u001b[0m \u001b[1m0s\u001b[0m 6ms/step - accuracy: 0.8155 - loss: 0.4033 - val_accuracy: 0.7273 - val_loss: 0.4989\n",
      "Epoch 90/100\n",
      "\u001b[1m20/20\u001b[0m \u001b[32m━━━━━━━━━━━━━━━━━━━━\u001b[0m\u001b[37m\u001b[0m \u001b[1m0s\u001b[0m 6ms/step - accuracy: 0.8372 - loss: 0.3839 - val_accuracy: 0.7273 - val_loss: 0.5018\n",
      "Epoch 91/100\n",
      "\u001b[1m20/20\u001b[0m \u001b[32m━━━━━━━━━━━━━━━━━━━━\u001b[0m\u001b[37m\u001b[0m \u001b[1m0s\u001b[0m 6ms/step - accuracy: 0.8101 - loss: 0.4311 - val_accuracy: 0.7273 - val_loss: 0.5019\n",
      "Epoch 92/100\n",
      "\u001b[1m20/20\u001b[0m \u001b[32m━━━━━━━━━━━━━━━━━━━━\u001b[0m\u001b[37m\u001b[0m \u001b[1m0s\u001b[0m 6ms/step - accuracy: 0.7992 - loss: 0.4377 - val_accuracy: 0.7273 - val_loss: 0.5003\n",
      "Epoch 93/100\n",
      "\u001b[1m20/20\u001b[0m \u001b[32m━━━━━━━━━━━━━━━━━━━━\u001b[0m\u001b[37m\u001b[0m \u001b[1m0s\u001b[0m 6ms/step - accuracy: 0.8092 - loss: 0.4162 - val_accuracy: 0.7273 - val_loss: 0.5011\n",
      "Epoch 94/100\n",
      "\u001b[1m20/20\u001b[0m \u001b[32m━━━━━━━━━━━━━━━━━━━━\u001b[0m\u001b[37m\u001b[0m \u001b[1m0s\u001b[0m 6ms/step - accuracy: 0.8245 - loss: 0.3984 - val_accuracy: 0.7273 - val_loss: 0.5001\n",
      "Epoch 95/100\n",
      "\u001b[1m20/20\u001b[0m \u001b[32m━━━━━━━━━━━━━━━━━━━━\u001b[0m\u001b[37m\u001b[0m \u001b[1m0s\u001b[0m 6ms/step - accuracy: 0.8153 - loss: 0.4188 - val_accuracy: 0.7273 - val_loss: 0.5025\n",
      "Epoch 96/100\n",
      "\u001b[1m20/20\u001b[0m \u001b[32m━━━━━━━━━━━━━━━━━━━━\u001b[0m\u001b[37m\u001b[0m \u001b[1m0s\u001b[0m 6ms/step - accuracy: 0.8119 - loss: 0.4097 - val_accuracy: 0.7273 - val_loss: 0.5021\n",
      "Epoch 97/100\n",
      "\u001b[1m20/20\u001b[0m \u001b[32m━━━━━━━━━━━━━━━━━━━━\u001b[0m\u001b[37m\u001b[0m \u001b[1m0s\u001b[0m 7ms/step - accuracy: 0.8193 - loss: 0.4034 - val_accuracy: 0.7273 - val_loss: 0.5011\n",
      "Epoch 98/100\n",
      "\u001b[1m20/20\u001b[0m \u001b[32m━━━━━━━━━━━━━━━━━━━━\u001b[0m\u001b[37m\u001b[0m \u001b[1m0s\u001b[0m 6ms/step - accuracy: 0.8230 - loss: 0.4000 - val_accuracy: 0.7273 - val_loss: 0.4992\n",
      "Epoch 99/100\n",
      "\u001b[1m20/20\u001b[0m \u001b[32m━━━━━━━━━━━━━━━━━━━━\u001b[0m\u001b[37m\u001b[0m \u001b[1m0s\u001b[0m 6ms/step - accuracy: 0.8200 - loss: 0.3994 - val_accuracy: 0.7273 - val_loss: 0.5004\n",
      "Epoch 100/100\n",
      "\u001b[1m20/20\u001b[0m \u001b[32m━━━━━━━━━━━━━━━━━━━━\u001b[0m\u001b[37m\u001b[0m \u001b[1m0s\u001b[0m 6ms/step - accuracy: 0.8288 - loss: 0.4032 - val_accuracy: 0.7273 - val_loss: 0.4988\n"
     ]
    },
    {
     "data": {
      "text/plain": [
       "<keras.src.callbacks.history.History at 0x7e33f4f6fbd0>"
      ]
     },
     "execution_count": 38,
     "metadata": {},
     "output_type": "execute_result"
    }
   ],
   "source": [
    "model.fit(X_train,Y_train,batch_size=32,epochs=100,initial_epoch=6,validation_data=(X_test,Y_test))"
   ]
  },
  {
   "cell_type": "code",
   "execution_count": 39,
   "id": "74e184c8",
   "metadata": {
    "execution": {
     "iopub.execute_input": "2025-09-03T14:37:33.927550Z",
     "iopub.status.busy": "2025-09-03T14:37:33.927197Z",
     "iopub.status.idle": "2025-09-03T14:37:33.933529Z",
     "shell.execute_reply": "2025-09-03T14:37:33.932416Z"
    },
    "papermill": {
     "duration": 0.042605,
     "end_time": "2025-09-03T14:37:33.935359",
     "exception": false,
     "start_time": "2025-09-03T14:37:33.892754",
     "status": "completed"
    },
    "tags": []
   },
   "outputs": [],
   "source": [
    "def build_model(hp):\n",
    "    model=Sequential()\n",
    "    units = hp.Int('units', min_value=8, max_value=128, step=8)\n",
    "    \n",
    "    model.add(Dense(units=units,activation=\"relu\",input_dim=8))\n",
    "    model.add(Dense(1,activation='sigmoid'))\n",
    "    optimizer = hp.Choice('optimizer', ['adam', 'sgd', 'rmsprop', 'adadelta'])\n",
    "    \n",
    "    model.compile(optimizer=optimizer,loss='binary_crossentropy',metrics=['accuracy'])\n",
    "    return model\n"
   ]
  },
  {
   "cell_type": "code",
   "execution_count": 40,
   "id": "6f82bf62",
   "metadata": {
    "execution": {
     "iopub.execute_input": "2025-09-03T14:37:34.007838Z",
     "iopub.status.busy": "2025-09-03T14:37:34.007485Z",
     "iopub.status.idle": "2025-09-03T14:37:34.051347Z",
     "shell.execute_reply": "2025-09-03T14:37:34.050180Z"
    },
    "papermill": {
     "duration": 0.084604,
     "end_time": "2025-09-03T14:37:34.053351",
     "exception": false,
     "start_time": "2025-09-03T14:37:33.968747",
     "status": "completed"
    },
    "tags": []
   },
   "outputs": [
    {
     "name": "stderr",
     "output_type": "stream",
     "text": [
      "/usr/local/lib/python3.11/dist-packages/keras/src/layers/core/dense.py:87: UserWarning:\n",
      "\n",
      "Do not pass an `input_shape`/`input_dim` argument to a layer. When using Sequential models, prefer using an `Input(shape)` object as the first layer in the model instead.\n",
      "\n"
     ]
    }
   ],
   "source": [
    "\n",
    "tuner2=kt.RandomSearch(build_model,objective='val_accuracy',max_trials=5,directory='kaggle_tuner',project_name=\"Veer\")"
   ]
  },
  {
   "cell_type": "code",
   "execution_count": 41,
   "id": "bcc8da5a",
   "metadata": {
    "execution": {
     "iopub.execute_input": "2025-09-03T14:37:34.123639Z",
     "iopub.status.busy": "2025-09-03T14:37:34.122761Z",
     "iopub.status.idle": "2025-09-03T14:37:51.630836Z",
     "shell.execute_reply": "2025-09-03T14:37:51.629733Z"
    },
    "papermill": {
     "duration": 17.545194,
     "end_time": "2025-09-03T14:37:51.632590",
     "exception": false,
     "start_time": "2025-09-03T14:37:34.087396",
     "status": "completed"
    },
    "tags": []
   },
   "outputs": [
    {
     "name": "stdout",
     "output_type": "stream",
     "text": [
      "Trial 5 Complete [00h 00m 04s]\n",
      "val_accuracy: 0.7402597665786743\n",
      "\n",
      "Best val_accuracy So Far: 0.7402597665786743\n",
      "Total elapsed time: 00h 00m 17s\n"
     ]
    }
   ],
   "source": [
    "tuner2.search(X_train,Y_train,epochs=5,validation_data=(X_test,Y_test))"
   ]
  },
  {
   "cell_type": "code",
   "execution_count": null,
   "id": "7af2bade",
   "metadata": {
    "papermill": {
     "duration": 0.040291,
     "end_time": "2025-09-03T14:37:51.714100",
     "exception": false,
     "start_time": "2025-09-03T14:37:51.673809",
     "status": "completed"
    },
    "tags": []
   },
   "outputs": [],
   "source": []
  }
 ],
 "metadata": {
  "kaggle": {
   "accelerator": "none",
   "dataSources": [
    {
     "datasetId": 228,
     "isSourceIdPinned": false,
     "sourceId": 482,
     "sourceType": "datasetVersion"
    },
    {
     "datasetId": 4806962,
     "isSourceIdPinned": false,
     "sourceId": 8132588,
     "sourceType": "datasetVersion"
    }
   ],
   "dockerImageVersionId": 31089,
   "isGpuEnabled": false,
   "isInternetEnabled": true,
   "language": "python",
   "sourceType": "notebook"
  },
  "kernelspec": {
   "display_name": "Python 3",
   "language": "python",
   "name": "python3"
  },
  "language_info": {
   "codemirror_mode": {
    "name": "ipython",
    "version": 3
   },
   "file_extension": ".py",
   "mimetype": "text/x-python",
   "name": "python",
   "nbconvert_exporter": "python",
   "pygments_lexer": "ipython3",
   "version": "3.11.13"
  },
  "papermill": {
   "default_parameters": {},
   "duration": 105.117084,
   "end_time": "2025-09-03T14:37:54.610251",
   "environment_variables": {},
   "exception": null,
   "input_path": "__notebook__.ipynb",
   "output_path": "__notebook__.ipynb",
   "parameters": {},
   "start_time": "2025-09-03T14:36:09.493167",
   "version": "2.6.0"
  }
 },
 "nbformat": 4,
 "nbformat_minor": 5
}

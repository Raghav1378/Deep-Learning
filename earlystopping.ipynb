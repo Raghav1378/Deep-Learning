{
 "cells": [
  {
   "cell_type": "code",
   "execution_count": 1,
   "id": "cdcf4414",
   "metadata": {
    "_cell_guid": "b1076dfc-b9ad-4769-8c92-a6c4dae69d19",
    "_uuid": "8f2839f25d086af736a60e9eeb907d3b93b6e0e5",
    "execution": {
     "iopub.execute_input": "2025-07-20T18:43:14.720822Z",
     "iopub.status.busy": "2025-07-20T18:43:14.720514Z",
     "iopub.status.idle": "2025-07-20T18:43:16.763714Z",
     "shell.execute_reply": "2025-07-20T18:43:16.763019Z"
    },
    "papermill": {
     "duration": 2.049397,
     "end_time": "2025-07-20T18:43:16.765171",
     "exception": false,
     "start_time": "2025-07-20T18:43:14.715774",
     "status": "completed"
    },
    "tags": []
   },
   "outputs": [],
   "source": [
    "# This Python 3 environment comes with many helpful analytics libraries installed\n",
    "# It is defined by the kaggle/python Docker image: https://github.com/kaggle/docker-python\n",
    "# For example, here's several helpful packages to load\n",
    "\n",
    "import numpy as np # linear algebra\n",
    "import pandas as pd # data processing, CSV file I/O (e.g. pd.read_csv)\n",
    "\n",
    "# Input data files are available in the read-only \"../input/\" directory\n",
    "# For example, running this (by clicking run or pressing Shift+Enter) will list all files under the input directory\n",
    "\n",
    "import os\n",
    "for dirname, _, filenames in os.walk('/kaggle/input'):\n",
    "    for filename in filenames:\n",
    "        print(os.path.join(dirname, filename))\n",
    "\n",
    "# You can write up to 20GB to the current directory (/kaggle/working/) that gets preserved as output when you create a version using \"Save & Run All\" \n",
    "# You can also write temporary files to /kaggle/temp/, but they won't be saved outside of the current session"
   ]
  },
  {
   "cell_type": "markdown",
   "id": "8393fbff",
   "metadata": {
    "papermill": {
     "duration": 0.002751,
     "end_time": "2025-07-20T18:43:16.771385",
     "exception": false,
     "start_time": "2025-07-20T18:43:16.768634",
     "status": "completed"
    },
    "tags": []
   },
   "source": [
    "# 🧠 Early Stopping in Deep Learning\n",
    "\n",
    "---\n",
    "\n",
    "## 🚀 What is Early Stopping?\n",
    "\n",
    "**Early Stopping** is a regularization technique used during training to avoid overfitting.  \n",
    "It monitors the performance of the model on a **validation set** and stops training once the performance starts to degrade.\n",
    "\n",
    "---\n",
    "\n",
    "## 🎯 Why Use Early Stopping?\n",
    "\n",
    "- Training too few epochs → ❌ Underfitting\n",
    "- Training too many epochs → ❌ Overfitting\n",
    "- ✅ Early stopping helps stop training **at the right time** for best generalization.\n",
    "\n",
    "---\n",
    "\n",
    "## 🔄 How Does It Work? (Step-by-Step)\n",
    "\n",
    "1. **Split your data** into training and validation sets.\n",
    "2. **Train the model**, and after each epoch:\n",
    "   - Monitor a chosen metric (like `val_loss` or `val_accuracy`).\n",
    "3. **Compare current metric with previous best**.\n",
    "4. If the metric doesn't improve for a number of epochs (called `patience`), stop training early.\n",
    "5. Optionally, restore the best weights using `restore_best_weights=True`.\n",
    "\n",
    "---\n",
    "\n",
    "## 📊 Example: When Early Stopping is Helpful\n",
    "\n",
    "| Epoch | Train Loss ↓ | Val Loss ↓ |\n",
    "|-------|--------------|------------|\n",
    "| 1     | 0.75         | 0.82       |\n",
    "| 2     | 0.62         | 0.74       |\n",
    "| 3     | 0.54         | 0.68 ✅     |\n",
    "| 4     | 0.48         | 0.72 ❌     |\n",
    "| 5     | 0.41         | 0.76 ❌     |\n",
    "| 6     | 0.38         | 0.81 ❌     |\n",
    "\n",
    "With `patience = 2`, training will **stop at epoch 6**, and weights from **epoch 3** will be restored.\n",
    "\n",
    "---\n",
    "\n",
    "## 📌 Important Parameters\n",
    "\n",
    "| Parameter              | Description                                      |\n",
    "|------------------------|--------------------------------------------------|\n",
    "| `monitor`              | Metric to track (e.g., `'val_loss'`)            |\n",
    "| `patience`             | How many epochs to wait for improvement         |\n",
    "| `restore_best_weights` | Whether to restore the best model weights       |\n",
    "\n",
    "---\n",
    "\n",
    "## ✅ Benefits\n",
    "\n",
    "- Prevents **overfitting**\n",
    "- Saves **computation time**\n",
    "- Improves **model generalization**\n",
    "\n",
    "---\n",
    "\n"
   ]
  },
  {
   "cell_type": "code",
   "execution_count": 2,
   "id": "5bd3e62e",
   "metadata": {
    "execution": {
     "iopub.execute_input": "2025-07-20T18:43:16.778251Z",
     "iopub.status.busy": "2025-07-20T18:43:16.777915Z",
     "iopub.status.idle": "2025-07-20T18:43:39.121906Z",
     "shell.execute_reply": "2025-07-20T18:43:39.121285Z"
    },
    "papermill": {
     "duration": 22.349136,
     "end_time": "2025-07-20T18:43:39.123505",
     "exception": false,
     "start_time": "2025-07-20T18:43:16.774369",
     "status": "completed"
    },
    "tags": []
   },
   "outputs": [
    {
     "name": "stderr",
     "output_type": "stream",
     "text": [
      "2025-07-20 18:43:20.085927: E external/local_xla/xla/stream_executor/cuda/cuda_fft.cc:477] Unable to register cuFFT factory: Attempting to register factory for plugin cuFFT when one has already been registered\n",
      "WARNING: All log messages before absl::InitializeLog() is called are written to STDERR\n",
      "E0000 00:00:1753037000.447177      19 cuda_dnn.cc:8310] Unable to register cuDNN factory: Attempting to register factory for plugin cuDNN when one has already been registered\n",
      "E0000 00:00:1753037000.546333      19 cuda_blas.cc:1418] Unable to register cuBLAS factory: Attempting to register factory for plugin cuBLAS when one has already been registered\n"
     ]
    }
   ],
   "source": [
    "import tensorflow as tf \n",
    "from tensorflow import keras\n",
    "from tensorflow.keras  import Sequential \n",
    "from tensorflow.keras.layers import Dense\n",
    "import numpy as np \n",
    "import pandas as pd \n",
    "from sklearn.model_selection import train_test_split\n",
    "from sklearn.datasets import make_circles \n",
    "import matplotlib.pyplot as plt \n",
    "import seaborn as sns\n",
    "from mlxtend.plotting import plot_decision_regions\n",
    "from matplotlib.colors import ListedColormap\n",
    "from tensorflow.keras.layers import Dropout\n",
    "from tensorflow.keras.callbacks import EarlyStopping"
   ]
  },
  {
   "cell_type": "code",
   "execution_count": 3,
   "id": "97c8f929",
   "metadata": {
    "execution": {
     "iopub.execute_input": "2025-07-20T18:43:39.130963Z",
     "iopub.status.busy": "2025-07-20T18:43:39.130523Z",
     "iopub.status.idle": "2025-07-20T18:43:39.166410Z",
     "shell.execute_reply": "2025-07-20T18:43:39.165842Z"
    },
    "papermill": {
     "duration": 0.040801,
     "end_time": "2025-07-20T18:43:39.167638",
     "exception": false,
     "start_time": "2025-07-20T18:43:39.126837",
     "status": "completed"
    },
    "tags": []
   },
   "outputs": [],
   "source": [
    "X,y=make_circles(n_samples=100,noise=0.1,random_state=32)"
   ]
  },
  {
   "cell_type": "code",
   "execution_count": 4,
   "id": "43c7343f",
   "metadata": {
    "execution": {
     "iopub.execute_input": "2025-07-20T18:43:39.174172Z",
     "iopub.status.busy": "2025-07-20T18:43:39.173939Z",
     "iopub.status.idle": "2025-07-20T18:43:39.533830Z",
     "shell.execute_reply": "2025-07-20T18:43:39.533020Z"
    },
    "papermill": {
     "duration": 0.364551,
     "end_time": "2025-07-20T18:43:39.535093",
     "exception": false,
     "start_time": "2025-07-20T18:43:39.170542",
     "status": "completed"
    },
    "tags": []
   },
   "outputs": [
    {
     "data": {
      "text/plain": [
       "<Axes: >"
      ]
     },
     "execution_count": 4,
     "metadata": {},
     "output_type": "execute_result"
    },
    {
     "data": {
      "image/png": "[encoded data removed]",
      "text/plain": [
       "<Figure size 640x480 with 1 Axes>"
      ]
     },
     "metadata": {},
     "output_type": "display_data"
    }
   ],
   "source": [
    "sns.scatterplot(x=X[:,0],y=X[:,1],hue=y)"
   ]
  },
  {
   "cell_type": "code",
   "execution_count": 5,
   "id": "b5e92a9b",
   "metadata": {
    "execution": {
     "iopub.execute_input": "2025-07-20T18:43:39.543410Z",
     "iopub.status.busy": "2025-07-20T18:43:39.542799Z",
     "iopub.status.idle": "2025-07-20T18:43:39.547448Z",
     "shell.execute_reply": "2025-07-20T18:43:39.546603Z"
    },
    "papermill": {
     "duration": 0.00989,
     "end_time": "2025-07-20T18:43:39.548681",
     "exception": false,
     "start_time": "2025-07-20T18:43:39.538791",
     "status": "completed"
    },
    "tags": []
   },
   "outputs": [],
   "source": [
    "X_train,X_test,Y_train,Y_test=train_test_split(X,y,test_size=0.2,random_state=42)"
   ]
  },
  {
   "cell_type": "code",
   "execution_count": 6,
   "id": "3650f956",
   "metadata": {
    "execution": {
     "iopub.execute_input": "2025-07-20T18:43:39.556185Z",
     "iopub.status.busy": "2025-07-20T18:43:39.555962Z",
     "iopub.status.idle": "2025-07-20T18:43:39.561071Z",
     "shell.execute_reply": "2025-07-20T18:43:39.560329Z"
    },
    "papermill": {
     "duration": 0.010137,
     "end_time": "2025-07-20T18:43:39.562251",
     "exception": false,
     "start_time": "2025-07-20T18:43:39.552114",
     "status": "completed"
    },
    "tags": []
   },
   "outputs": [],
   "source": [
    "model=Sequential()\n"
   ]
  },
  {
   "cell_type": "code",
   "execution_count": null,
   "id": "184b899c",
   "metadata": {
    "papermill": {
     "duration": 0.003202,
     "end_time": "2025-07-20T18:43:39.568840",
     "exception": false,
     "start_time": "2025-07-20T18:43:39.565638",
     "status": "completed"
    },
    "tags": []
   },
   "outputs": [],
   "source": []
  },
  {
   "cell_type": "code",
   "execution_count": 7,
   "id": "44241a6b",
   "metadata": {
    "execution": {
     "iopub.execute_input": "2025-07-20T18:43:39.576174Z",
     "iopub.status.busy": "2025-07-20T18:43:39.575799Z",
     "iopub.status.idle": "2025-07-20T18:43:42.961915Z",
     "shell.execute_reply": "2025-07-20T18:43:42.961345Z"
    },
    "papermill": {
     "duration": 3.39115,
     "end_time": "2025-07-20T18:43:42.963279",
     "exception": false,
     "start_time": "2025-07-20T18:43:39.572129",
     "status": "completed"
    },
    "tags": []
   },
   "outputs": [
    {
     "name": "stderr",
     "output_type": "stream",
     "text": [
      "/usr/local/lib/python3.11/dist-packages/keras/src/layers/core/dense.py:87: UserWarning: Do not pass an `input_shape`/`input_dim` argument to a layer. When using Sequential models, prefer using an `Input(shape)` object as the first layer in the model instead.\n",
      "  super().__init__(activity_regularizer=activity_regularizer, **kwargs)\n",
      "I0000 00:00:1753037021.334758      19 gpu_device.cc:2022] Created device /job:localhost/replica:0/task:0/device:GPU:0 with 13942 MB memory:  -> device: 0, name: Tesla T4, pci bus id: 0000:00:04.0, compute capability: 7.5\n",
      "I0000 00:00:1753037021.335567      19 gpu_device.cc:2022] Created device /job:localhost/replica:0/task:0/device:GPU:1 with 13942 MB memory:  -> device: 1, name: Tesla T4, pci bus id: 0000:00:05.0, compute capability: 7.5\n"
     ]
    }
   ],
   "source": [
    "model.add(Dense(256,input_dim=2,activation='relu'))\n",
    "model.add(Dense(1,activation='sigmoid'))"
   ]
  },
  {
   "cell_type": "code",
   "execution_count": 8,
   "id": "98815f37",
   "metadata": {
    "execution": {
     "iopub.execute_input": "2025-07-20T18:43:42.972707Z",
     "iopub.status.busy": "2025-07-20T18:43:42.972395Z",
     "iopub.status.idle": "2025-07-20T18:43:42.985427Z",
     "shell.execute_reply": "2025-07-20T18:43:42.984824Z"
    },
    "papermill": {
     "duration": 0.019366,
     "end_time": "2025-07-20T18:43:42.986497",
     "exception": false,
     "start_time": "2025-07-20T18:43:42.967131",
     "status": "completed"
    },
    "tags": []
   },
   "outputs": [],
   "source": [
    "model.compile(optimizer='adam',loss='binary_crossentropy',metrics=['accuracy'])"
   ]
  },
  {
   "cell_type": "code",
   "execution_count": 9,
   "id": "9d6bcf7d",
   "metadata": {
    "execution": {
     "iopub.execute_input": "2025-07-20T18:43:42.994582Z",
     "iopub.status.busy": "2025-07-20T18:43:42.994370Z",
     "iopub.status.idle": "2025-07-20T18:43:42.997911Z",
     "shell.execute_reply": "2025-07-20T18:43:42.997345Z"
    },
    "papermill": {
     "duration": 0.008899,
     "end_time": "2025-07-20T18:43:42.998973",
     "exception": false,
     "start_time": "2025-07-20T18:43:42.990074",
     "status": "completed"
    },
    "tags": []
   },
   "outputs": [],
   "source": [
    "early_stop = EarlyStopping(monitor='accuracy', min_delta=0.00001,mode=\"auto\",patience=5, restore_best_weights=True)"
   ]
  },
  {
   "cell_type": "code",
   "execution_count": 10,
   "id": "dd8c6e50",
   "metadata": {
    "execution": {
     "iopub.execute_input": "2025-07-20T18:43:43.006854Z",
     "iopub.status.busy": "2025-07-20T18:43:43.006661Z",
     "iopub.status.idle": "2025-07-20T18:43:48.380460Z",
     "shell.execute_reply": "2025-07-20T18:43:48.379611Z"
    },
    "papermill": {
     "duration": 5.379219,
     "end_time": "2025-07-20T18:43:48.381869",
     "exception": false,
     "start_time": "2025-07-20T18:43:43.002650",
     "status": "completed"
    },
    "tags": []
   },
   "outputs": [
    {
     "name": "stdout",
     "output_type": "stream",
     "text": [
      "Epoch 1/3110\n"
     ]
    },
    {
     "name": "stderr",
     "output_type": "stream",
     "text": [
      "WARNING: All log messages before absl::InitializeLog() is called are written to STDERR\n",
      "I0000 00:00:1753037024.492377      61 service.cc:148] XLA service 0x78b2dc005400 initialized for platform CUDA (this does not guarantee that XLA will be used). Devices:\n",
      "I0000 00:00:1753037024.493796      61 service.cc:156]   StreamExecutor device (0): Tesla T4, Compute Capability 7.5\n",
      "I0000 00:00:1753037024.493820      61 service.cc:156]   StreamExecutor device (1): Tesla T4, Compute Capability 7.5\n",
      "I0000 00:00:1753037024.764897      61 cuda_dnn.cc:529] Loaded cuDNN version 90300\n"
     ]
    },
    {
     "name": "stdout",
     "output_type": "stream",
     "text": [
      "\u001b[1m1/3\u001b[0m \u001b[32m━━━━━━\u001b[0m\u001b[37m━━━━━━━━━━━━━━\u001b[0m \u001b[1m4s\u001b[0m 2s/step - accuracy: 0.5000 - loss: 0.6934"
     ]
    },
    {
     "name": "stderr",
     "output_type": "stream",
     "text": [
      "I0000 00:00:1753037025.415944      61 device_compiler.h:188] Compiled cluster using XLA!  This line is logged at most once for the lifetime of the process.\n"
     ]
    },
    {
     "name": "stdout",
     "output_type": "stream",
     "text": [
      "\u001b[1m3/3\u001b[0m \u001b[32m━━━━━━━━━━━━━━━━━━━━\u001b[0m\u001b[37m\u001b[0m \u001b[1m3s\u001b[0m 511ms/step - accuracy: 0.5266 - loss: 0.6930 - val_accuracy: 0.3500 - val_loss: 0.6960\n",
      "Epoch 2/3110\n",
      "\u001b[1m3/3\u001b[0m \u001b[32m━━━━━━━━━━━━━━━━━━━━\u001b[0m\u001b[37m\u001b[0m \u001b[1m0s\u001b[0m 33ms/step - accuracy: 0.5437 - loss: 0.6906 - val_accuracy: 0.3500 - val_loss: 0.6978\n",
      "Epoch 3/3110\n",
      "\u001b[1m3/3\u001b[0m \u001b[32m━━━━━━━━━━━━━━━━━━━━\u001b[0m\u001b[37m\u001b[0m \u001b[1m0s\u001b[0m 32ms/step - accuracy: 0.5594 - loss: 0.6883 - val_accuracy: 0.3500 - val_loss: 0.6996\n",
      "Epoch 4/3110\n",
      "\u001b[1m3/3\u001b[0m \u001b[32m━━━━━━━━━━━━━━━━━━━━\u001b[0m\u001b[37m\u001b[0m \u001b[1m0s\u001b[0m 30ms/step - accuracy: 0.5469 - loss: 0.6890 - val_accuracy: 0.4000 - val_loss: 0.7022\n",
      "Epoch 5/3110\n",
      "\u001b[1m3/3\u001b[0m \u001b[32m━━━━━━━━━━━━━━━━━━━━\u001b[0m\u001b[37m\u001b[0m \u001b[1m0s\u001b[0m 30ms/step - accuracy: 0.5625 - loss: 0.6865 - val_accuracy: 0.4000 - val_loss: 0.7044\n",
      "Epoch 6/3110\n",
      "\u001b[1m3/3\u001b[0m \u001b[32m━━━━━━━━━━━━━━━━━━━━\u001b[0m\u001b[37m\u001b[0m \u001b[1m0s\u001b[0m 30ms/step - accuracy: 0.5664 - loss: 0.6858 - val_accuracy: 0.3500 - val_loss: 0.7056\n",
      "Epoch 7/3110\n",
      "\u001b[1m3/3\u001b[0m \u001b[32m━━━━━━━━━━━━━━━━━━━━\u001b[0m\u001b[37m\u001b[0m \u001b[1m0s\u001b[0m 30ms/step - accuracy: 0.5586 - loss: 0.6829 - val_accuracy: 0.4000 - val_loss: 0.7067\n",
      "Epoch 8/3110\n",
      "\u001b[1m3/3\u001b[0m \u001b[32m━━━━━━━━━━━━━━━━━━━━\u001b[0m\u001b[37m\u001b[0m \u001b[1m0s\u001b[0m 34ms/step - accuracy: 0.6000 - loss: 0.6834 - val_accuracy: 0.4000 - val_loss: 0.7081\n",
      "Epoch 9/3110\n",
      "\u001b[1m3/3\u001b[0m \u001b[32m━━━━━━━━━━━━━━━━━━━━\u001b[0m\u001b[37m\u001b[0m \u001b[1m0s\u001b[0m 30ms/step - accuracy: 0.5805 - loss: 0.6830 - val_accuracy: 0.3500 - val_loss: 0.7086\n",
      "Epoch 10/3110\n",
      "\u001b[1m3/3\u001b[0m \u001b[32m━━━━━━━━━━━━━━━━━━━━\u001b[0m\u001b[37m\u001b[0m \u001b[1m0s\u001b[0m 30ms/step - accuracy: 0.5844 - loss: 0.6819 - val_accuracy: 0.3500 - val_loss: 0.7089\n",
      "Epoch 11/3110\n",
      "\u001b[1m3/3\u001b[0m \u001b[32m━━━━━━━━━━━━━━━━━━━━\u001b[0m\u001b[37m\u001b[0m \u001b[1m0s\u001b[0m 30ms/step - accuracy: 0.5711 - loss: 0.6847 - val_accuracy: 0.4000 - val_loss: 0.7091\n",
      "Epoch 12/3110\n",
      "\u001b[1m3/3\u001b[0m \u001b[32m━━━━━━━━━━━━━━━━━━━━\u001b[0m\u001b[37m\u001b[0m \u001b[1m0s\u001b[0m 30ms/step - accuracy: 0.6453 - loss: 0.6767 - val_accuracy: 0.4000 - val_loss: 0.7100\n",
      "Epoch 13/3110\n",
      "\u001b[1m3/3\u001b[0m \u001b[32m━━━━━━━━━━━━━━━━━━━━\u001b[0m\u001b[37m\u001b[0m \u001b[1m0s\u001b[0m 33ms/step - accuracy: 0.6008 - loss: 0.6842 - val_accuracy: 0.4000 - val_loss: 0.7096\n",
      "Epoch 14/3110\n",
      "\u001b[1m3/3\u001b[0m \u001b[32m━━━━━━━━━━━━━━━━━━━━\u001b[0m\u001b[37m\u001b[0m \u001b[1m0s\u001b[0m 29ms/step - accuracy: 0.5750 - loss: 0.6805 - val_accuracy: 0.4000 - val_loss: 0.7101\n",
      "Epoch 15/3110\n",
      "\u001b[1m3/3\u001b[0m \u001b[32m━━━━━━━━━━━━━━━━━━━━\u001b[0m\u001b[37m\u001b[0m \u001b[1m0s\u001b[0m 29ms/step - accuracy: 0.6203 - loss: 0.6773 - val_accuracy: 0.4000 - val_loss: 0.7107\n",
      "Epoch 16/3110\n",
      "\u001b[1m3/3\u001b[0m \u001b[32m━━━━━━━━━━━━━━━━━━━━\u001b[0m\u001b[37m\u001b[0m \u001b[1m0s\u001b[0m 29ms/step - accuracy: 0.5477 - loss: 0.6853 - val_accuracy: 0.4000 - val_loss: 0.7105\n",
      "Epoch 17/3110\n",
      "\u001b[1m3/3\u001b[0m \u001b[32m━━━━━━━━━━━━━━━━━━━━\u001b[0m\u001b[37m\u001b[0m \u001b[1m0s\u001b[0m 32ms/step - accuracy: 0.5734 - loss: 0.6848 - val_accuracy: 0.3500 - val_loss: 0.7113\n",
      "Epoch 18/3110\n",
      "\u001b[1m3/3\u001b[0m \u001b[32m━━━━━━━━━━━━━━━━━━━━\u001b[0m\u001b[37m\u001b[0m \u001b[1m0s\u001b[0m 34ms/step - accuracy: 0.6187 - loss: 0.6776 - val_accuracy: 0.4000 - val_loss: 0.7123\n",
      "Epoch 19/3110\n",
      "\u001b[1m3/3\u001b[0m \u001b[32m━━━━━━━━━━━━━━━━━━━━\u001b[0m\u001b[37m\u001b[0m \u001b[1m0s\u001b[0m 32ms/step - accuracy: 0.6383 - loss: 0.6725 - val_accuracy: 0.3500 - val_loss: 0.7131\n",
      "Epoch 20/3110\n",
      "\u001b[1m3/3\u001b[0m \u001b[32m━━━━━━━━━━━━━━━━━━━━\u001b[0m\u001b[37m\u001b[0m \u001b[1m0s\u001b[0m 29ms/step - accuracy: 0.6320 - loss: 0.6800 - val_accuracy: 0.3500 - val_loss: 0.7137\n",
      "Epoch 21/3110\n",
      "\u001b[1m3/3\u001b[0m \u001b[32m━━━━━━━━━━━━━━━━━━━━\u001b[0m\u001b[37m\u001b[0m \u001b[1m0s\u001b[0m 30ms/step - accuracy: 0.5945 - loss: 0.6793 - val_accuracy: 0.3500 - val_loss: 0.7135\n",
      "Epoch 22/3110\n",
      "\u001b[1m3/3\u001b[0m \u001b[32m━━━━━━━━━━━━━━━━━━━━\u001b[0m\u001b[37m\u001b[0m \u001b[1m0s\u001b[0m 31ms/step - accuracy: 0.6359 - loss: 0.6738 - val_accuracy: 0.3500 - val_loss: 0.7132\n",
      "Epoch 23/3110\n",
      "\u001b[1m3/3\u001b[0m \u001b[32m━━━━━━━━━━━━━━━━━━━━\u001b[0m\u001b[37m\u001b[0m \u001b[1m0s\u001b[0m 30ms/step - accuracy: 0.6039 - loss: 0.6716 - val_accuracy: 0.4500 - val_loss: 0.7126\n"
     ]
    }
   ],
   "source": [
    "history=model.fit(X_train,Y_train,validation_data=(X_test,Y_test),epochs=3110,verbose=1,callbacks=[early_stop])"
   ]
  },
  {
   "cell_type": "code",
   "execution_count": 11,
   "id": "a3d68838",
   "metadata": {
    "execution": {
     "iopub.execute_input": "2025-07-20T18:43:48.396812Z",
     "iopub.status.busy": "2025-07-20T18:43:48.396577Z",
     "iopub.status.idle": "2025-07-20T18:43:48.578428Z",
     "shell.execute_reply": "2025-07-20T18:43:48.577563Z"
    },
    "papermill": {
     "duration": 0.190515,
     "end_time": "2025-07-20T18:43:48.579798",
     "exception": false,
     "start_time": "2025-07-20T18:43:48.389283",
     "status": "completed"
    },
    "tags": []
   },
   "outputs": [
    {
     "data": {
      "text/plain": [
       "<matplotlib.legend.Legend at 0x78b3918d7e10>"
      ]
     },
     "execution_count": 11,
     "metadata": {},
     "output_type": "execute_result"
    },
    {
     "data": {
      "image/png": "[encoded data removed]",
      "text/plain": [
       "<Figure size 640x480 with 1 Axes>"
      ]
     },
     "metadata": {},
     "output_type": "display_data"
    }
   ],
   "source": [
    "plt.plot(history.history['loss'],label='train')\n",
    "plt.plot(history.history['val_loss'],label='test')\n",
    "plt.legend()"
   ]
  },
  {
   "cell_type": "code",
   "execution_count": 12,
   "id": "048ddc20",
   "metadata": {
    "execution": {
     "iopub.execute_input": "2025-07-20T18:43:48.595386Z",
     "iopub.status.busy": "2025-07-20T18:43:48.594865Z",
     "iopub.status.idle": "2025-07-20T18:43:48.598361Z",
     "shell.execute_reply": "2025-07-20T18:43:48.597847Z"
    },
    "papermill": {
     "duration": 0.012337,
     "end_time": "2025-07-20T18:43:48.599526",
     "exception": false,
     "start_time": "2025-07-20T18:43:48.587189",
     "status": "completed"
    },
    "tags": []
   },
   "outputs": [],
   "source": [
    "early_stop2 = EarlyStopping(monitor='accuracy', min_delta=0.00001,mode=\"auto\",patience=5, restore_best_weights=True)"
   ]
  },
  {
   "cell_type": "code",
   "execution_count": 13,
   "id": "89a34d66",
   "metadata": {
    "execution": {
     "iopub.execute_input": "2025-07-20T18:43:48.614742Z",
     "iopub.status.busy": "2025-07-20T18:43:48.614082Z",
     "iopub.status.idle": "2025-07-20T18:43:49.265661Z",
     "shell.execute_reply": "2025-07-20T18:43:49.265063Z"
    },
    "papermill": {
     "duration": 0.660128,
     "end_time": "2025-07-20T18:43:49.266804",
     "exception": false,
     "start_time": "2025-07-20T18:43:48.606676",
     "status": "completed"
    },
    "tags": []
   },
   "outputs": [
    {
     "name": "stdout",
     "output_type": "stream",
     "text": [
      "Epoch 1/3110\n",
      "\u001b[1m3/3\u001b[0m \u001b[32m━━━━━━━━━━━━━━━━━━━━\u001b[0m\u001b[37m\u001b[0m \u001b[1m0s\u001b[0m 54ms/step - accuracy: 0.6187 - loss: 0.6819 - val_accuracy: 0.4000 - val_loss: 0.7119\n",
      "Epoch 2/3110\n",
      "\u001b[1m3/3\u001b[0m \u001b[32m━━━━━━━━━━━━━━━━━━━━\u001b[0m\u001b[37m\u001b[0m \u001b[1m0s\u001b[0m 32ms/step - accuracy: 0.5984 - loss: 0.6764 - val_accuracy: 0.4000 - val_loss: 0.7118\n",
      "Epoch 3/3110\n",
      "\u001b[1m3/3\u001b[0m \u001b[32m━━━━━━━━━━━━━━━━━━━━\u001b[0m\u001b[37m\u001b[0m \u001b[1m0s\u001b[0m 32ms/step - accuracy: 0.5906 - loss: 0.6808 - val_accuracy: 0.4000 - val_loss: 0.7115\n",
      "Epoch 4/3110\n",
      "\u001b[1m3/3\u001b[0m \u001b[32m━━━━━━━━━━━━━━━━━━━━\u001b[0m\u001b[37m\u001b[0m \u001b[1m0s\u001b[0m 41ms/step - accuracy: 0.6141 - loss: 0.6748 - val_accuracy: 0.4000 - val_loss: 0.7122\n",
      "Epoch 5/3110\n",
      "\u001b[1m3/3\u001b[0m \u001b[32m━━━━━━━━━━━━━━━━━━━━\u001b[0m\u001b[37m\u001b[0m \u001b[1m0s\u001b[0m 30ms/step - accuracy: 0.5648 - loss: 0.6792 - val_accuracy: 0.4000 - val_loss: 0.7118\n",
      "Epoch 6/3110\n",
      "\u001b[1m3/3\u001b[0m \u001b[32m━━━━━━━━━━━━━━━━━━━━\u001b[0m\u001b[37m\u001b[0m \u001b[1m0s\u001b[0m 29ms/step - accuracy: 0.5531 - loss: 0.6780 - val_accuracy: 0.4000 - val_loss: 0.7120\n"
     ]
    }
   ],
   "source": [
    "history2=model.fit(X_train,Y_train,validation_data=(X_test,Y_test),epochs=3110,verbose=1,callbacks=[early_stop2])"
   ]
  },
  {
   "cell_type": "code",
   "execution_count": 14,
   "id": "5bcedf66",
   "metadata": {
    "execution": {
     "iopub.execute_input": "2025-07-20T18:43:49.284335Z",
     "iopub.status.busy": "2025-07-20T18:43:49.283705Z",
     "iopub.status.idle": "2025-07-20T18:43:49.457223Z",
     "shell.execute_reply": "2025-07-20T18:43:49.456462Z"
    },
    "papermill": {
     "duration": 0.183344,
     "end_time": "2025-07-20T18:43:49.458346",
     "exception": false,
     "start_time": "2025-07-20T18:43:49.275002",
     "status": "completed"
    },
    "tags": []
   },
   "outputs": [
    {
     "data": {
      "text/plain": [
       "<matplotlib.legend.Legend at 0x78b388294910>"
      ]
     },
     "execution_count": 14,
     "metadata": {},
     "output_type": "execute_result"
    },
    {
     "data": {
      "image/png": "[encoded data removed]",
      "text/plain": [
       "<Figure size 640x480 with 1 Axes>"
      ]
     },
     "metadata": {},
     "output_type": "display_data"
    }
   ],
   "source": [
    "plt.plot(history2.history['loss'],label='train')\n",
    "plt.plot(history2.history['val_loss'],label='test')\n",
    "plt.legend()"
   ]
  },
  {
   "cell_type": "code",
   "execution_count": null,
   "id": "296823c9",
   "metadata": {
    "papermill": {
     "duration": 0.007837,
     "end_time": "2025-07-20T18:43:49.474636",
     "exception": false,
     "start_time": "2025-07-20T18:43:49.466799",
     "status": "completed"
    },
    "tags": []
   },
   "outputs": [],
   "source": []
  }
 ],
 "metadata": {
  "kaggle": {
   "accelerator": "nvidiaTeslaT4",
   "dataSources": [],
   "dockerImageVersionId": 31090,
   "isGpuEnabled": true,
   "isInternetEnabled": true,
   "language": "python",
   "sourceType": "notebook"
  },
  "kernelspec": {
   "display_name": "Python 3",
   "language": "python",
   "name": "python3"
  },
  "language_info": {
   "codemirror_mode": {
    "name": "ipython",
    "version": 3
   },
   "file_extension": ".py",
   "mimetype": "text/x-python",
   "name": "python",
   "nbconvert_exporter": "python",
   "pygments_lexer": "ipython3",
   "version": "3.11.13"
  },
  "papermill": {
   "default_parameters": {},
   "duration": 44.036378,
   "end_time": "2025-07-20T18:43:52.917531",
   "environment_variables": {},
   "exception": null,
   "input_path": "__notebook__.ipynb",
   "output_path": "__notebook__.ipynb",
   "parameters": {},
   "start_time": "2025-07-20T18:43:08.881153",
   "version": "2.6.0"
  }
 },
 "nbformat": 4,
 "nbformat_minor": 5
}

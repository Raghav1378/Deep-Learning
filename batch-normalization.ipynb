{
 "cells": [
  {
   "cell_type": "code",
   "execution_count": 1,
   "id": "f3d45800",
   "metadata": {
    "_cell_guid": "b1076dfc-b9ad-4769-8c92-a6c4dae69d19",
    "_uuid": "8f2839f25d086af736a60e9eeb907d3b93b6e0e5",
    "execution": {
     "iopub.execute_input": "2025-08-21T20:12:42.987402Z",
     "iopub.status.busy": "2025-08-21T20:12:42.986880Z",
     "iopub.status.idle": "2025-08-21T20:12:44.390725Z",
     "shell.execute_reply": "2025-08-21T20:12:44.389812Z"
    },
    "papermill": {
     "duration": 1.410088,
     "end_time": "2025-08-21T20:12:44.392119",
     "exception": false,
     "start_time": "2025-08-21T20:12:42.982031",
     "status": "completed"
    },
    "tags": []
   },
   "outputs": [
    {
     "name": "stdout",
     "output_type": "stream",
     "text": [
      "/kaggle/input/concertriccir2/concertriccir2.csv\n"
     ]
    }
   ],
   "source": [
    "# This Python 3 environment comes with many helpful analytics libraries installed\n",
    "# It is defined by the kaggle/python Docker image: https://github.com/kaggle/docker-python\n",
    "# For example, here's several helpful packages to load\n",
    "\n",
    "import numpy as np # linear algebra\n",
    "import pandas as pd # data processing, CSV file I/O (e.g. pd.read_csv)\n",
    "\n",
    "# Input data files are available in the read-only \"../input/\" directory\n",
    "# For example, running this (by clicking run or pressing Shift+Enter) will list all files under the input directory\n",
    "\n",
    "import os\n",
    "for dirname, _, filenames in os.walk('/kaggle/input'):\n",
    "    for filename in filenames:\n",
    "        print(os.path.join(dirname, filename))\n",
    "\n",
    "# You can write up to 20GB to the current directory (/kaggle/working/) that gets preserved as output when you create a version using \"Save & Run All\" \n",
    "# You can also write temporary files to /kaggle/temp/, but they won't be saved outside of the current session"
   ]
  },
  {
   "cell_type": "markdown",
   "id": "32b4b205",
   "metadata": {
    "papermill": {
     "duration": 0.003424,
     "end_time": "2025-08-21T20:12:44.399320",
     "exception": false,
     "start_time": "2025-08-21T20:12:44.395896",
     "status": "completed"
    },
    "tags": []
   },
   "source": [
    "## 🧠 Batch Normalization in Deep Learning\n",
    "\n",
    "### 📌 Definition:\n",
    "\n",
    "**Batch Normalization (BN)** is a technique to make deep neural networks train faster and more stable by normalizing the inputs of each layer. It reduces internal covariate shift by keeping the mean and variance of each layer's input consistent during training.\n",
    "\n",
    "---\n",
    "\n",
    "### 🔍 Why Batch Normalization?\n",
    "\n",
    "- Deep networks suffer from **internal covariate shift** (change in distribution of layer inputs during training).\n",
    "- BN helps:\n",
    "  - Reduce training time.\n",
    "  - Improve gradient flow.\n",
    "  - Act as a form of regularization (sometimes reduces need for dropout).\n",
    "  - Allow use of higher learning rates.\n",
    "\n",
    "---\n",
    "\n",
    "### ⚙️ How It Works: Step-by-Step\n",
    "\n",
    "Let input to a layer be a mini-batch `X = [x₁, x₂, ..., xₘ]`\n",
    "\n",
    "For each feature (neuron activation):\n",
    "\n",
    "1. **Compute Mean:**\n",
    "\n",
    "   $$\n",
    "   \\mu = \\frac{1}{m} \\sum_{i=1}^{m} x_i\n",
    "   $$\n",
    "\n",
    "2. **Compute Variance:**\n",
    "\n",
    "   $$\n",
    "   \\sigma^2 = \\frac{1}{m} \\sum_{i=1}^{m} (x_i - \\mu)^2\n",
    "   $$\n",
    "\n",
    "3. **Normalize:**\n",
    "\n",
    "   $$\n",
    "   \\hat{x}_i = \\frac{x_i - \\mu}{\\sqrt{\\sigma^2 + \\epsilon}}\n",
    "   $$\n",
    "\n",
    "   (ε is a small number for numerical stability.)\n",
    "\n",
    "4. **Scale and Shift:**\n",
    "\n",
    "   $$\n",
    "   y_i = \\gamma \\hat{x}_i + \\beta\n",
    "   $$\n",
    "\n",
    "   - γ (scale) and β (shift) are **learnable parameters**.\n",
    "   - They restore the representation power of the network.\n",
    "\n",
    "---\n",
    "\n",
    "### 🛠️ Where to Apply?\n",
    "\n",
    "Usually applied **after linear/convolution layer** and **before activation function**.\n",
    "\n",
    "```python\n",
    "# PyTorch example\n",
    "import torch.nn as nn\n",
    "\n",
    "model = nn.Sequential(\n",
    "    nn.Linear(64, 128),\n",
    "    nn.BatchNorm1d(128),    # Apply BN after Linear\n",
    "    nn.ReLU()\n",
    ")\n",
    "```\n",
    "\n",
    "---\n",
    "\n",
    "### 📈 During Inference:\n",
    "\n",
    "- Instead of using batch statistics (mean & variance), we use **running averages** computed during training.\n",
    "\n",
    "---\n",
    "\n",
    "### ✅ Benefits\n",
    "\n",
    "- **Faster convergence**\n",
    "- **Higher learning rates** are safer\n",
    "- **Less sensitivity to initialization**\n",
    "- Acts like **regularization**, reducing need for Dropout\n",
    "\n",
    "---\n",
    "\n",
    "### ⚠️ Limitations\n",
    "\n",
    "- Less effective on very **small batch sizes**\n",
    "- Adds some **computation overhead**\n"
   ]
  },
  {
   "cell_type": "markdown",
   "id": "20e2d20a",
   "metadata": {
    "papermill": {
     "duration": 0.002984,
     "end_time": "2025-08-21T20:12:44.405571",
     "exception": false,
     "start_time": "2025-08-21T20:12:44.402587",
     "status": "completed"
    },
    "tags": []
   },
   "source": [
    "# ✅ Batch Normalization Summary\n",
    "\n",
    "👉 **Batch Normalization is like the big brother of StandardScaler** —  \n",
    "instead of normalizing the whole dataset once, it normalizes the outputs of each layer dynamically using the mean and variance of mini-batches, then rescales with learnable parameters to stabilize training and improve generalization.\n",
    "\n",
    "---\n",
    "\n",
    "## 🔹 Sacrificing Present for Future\n",
    "\n",
    "- **Training accuracy may drop** → because BN adds noise and regularizes.  \n",
    "- **Validation/test accuracy improves** → because the model generalizes better.  \n",
    "\n",
    "*Sacrifice the present (training accuracy) for a better future (validation accuracy).*\n",
    "\n",
    "---\n",
    "\n",
    "## 🔹 StandardScaler vs BatchNorm\n",
    "\n",
    "- **StandardScaler** → one-time normalization on input features using *global mean & variance*.  \n",
    "- **BatchNorm** → repeated normalization at every layer using *mini-batch mean & variance* during training, then applies **γ (scale)** & **β (shift)** to keep flexibility.  \n",
    "\n",
    "---\n",
    "\n",
    "## 🔹 Where BN Works\n",
    "\n",
    "- It operates on the **output (activations) of the previous layer**, not just the raw input data.  \n",
    "- This stabilizes distributions layer by layer, fixing the **internal covariate shift** problem.  \n",
    "\n",
    "---\n",
    "\n",
    "## 🔹 Quick Flow Diagram\n",
    "\n",
    "## Input (x)\n",
    "    |\n",
    "    ▼\n",
    "## Compute batch mean (μ) & variance (σ²)\n",
    "    |\n",
    "    ▼\n",
    "## Normalize: (x - μ) / sqrt(σ² + ε)\n",
    "    |\n",
    "    ▼\n",
    "## Scale & Shift: y = γ * normalized + β\n",
    "    │\n",
    "    ▼\n",
    "## Output → Next Layer"
   ]
  },
  {
   "cell_type": "markdown",
   "id": "3740d8cb",
   "metadata": {
    "papermill": {
     "duration": 0.002927,
     "end_time": "2025-08-21T20:12:44.411596",
     "exception": false,
     "start_time": "2025-08-21T20:12:44.408669",
     "status": "completed"
    },
    "tags": []
   },
   "source": [
    "\n"
   ]
  },
  {
   "cell_type": "code",
   "execution_count": 2,
   "id": "f41aa7b1",
   "metadata": {
    "execution": {
     "iopub.execute_input": "2025-08-21T20:12:44.418683Z",
     "iopub.status.busy": "2025-08-21T20:12:44.418404Z",
     "iopub.status.idle": "2025-08-21T20:12:45.604723Z",
     "shell.execute_reply": "2025-08-21T20:12:45.603955Z"
    },
    "papermill": {
     "duration": 1.191303,
     "end_time": "2025-08-21T20:12:45.605925",
     "exception": false,
     "start_time": "2025-08-21T20:12:44.414622",
     "status": "completed"
    },
    "tags": []
   },
   "outputs": [
    {
     "name": "stdout",
     "output_type": "stream",
     "text": [
      "Path to dataset files: /kaggle/input/concertriccir2\n"
     ]
    }
   ],
   "source": [
    "import kagglehub\n",
    "\n",
    "# Download latest version\n",
    "path = kagglehub.dataset_download(\"muhammadsajad/concertriccir2\")\n",
    "\n",
    "print(\"Path to dataset files:\", path)"
   ]
  },
  {
   "cell_type": "code",
   "execution_count": 3,
   "id": "f45cadc9",
   "metadata": {
    "execution": {
     "iopub.execute_input": "2025-08-21T20:12:45.613609Z",
     "iopub.status.busy": "2025-08-21T20:12:45.613392Z",
     "iopub.status.idle": "2025-08-21T20:12:45.627183Z",
     "shell.execute_reply": "2025-08-21T20:12:45.626639Z"
    },
    "papermill": {
     "duration": 0.018729,
     "end_time": "2025-08-21T20:12:45.628178",
     "exception": false,
     "start_time": "2025-08-21T20:12:45.609449",
     "status": "completed"
    },
    "tags": []
   },
   "outputs": [],
   "source": [
    "import pandas as pd\n",
    "import matplotlib.pyplot as plt\n",
    "df=pd.read_csv(r\"/kaggle/input/concertriccir2/concertriccir2.csv\",header=None)"
   ]
  },
  {
   "cell_type": "code",
   "execution_count": 4,
   "id": "94c262b7",
   "metadata": {
    "execution": {
     "iopub.execute_input": "2025-08-21T20:12:45.635175Z",
     "iopub.status.busy": "2025-08-21T20:12:45.634973Z",
     "iopub.status.idle": "2025-08-21T20:12:58.746744Z",
     "shell.execute_reply": "2025-08-21T20:12:58.746168Z"
    },
    "papermill": {
     "duration": 13.116717,
     "end_time": "2025-08-21T20:12:58.748064",
     "exception": false,
     "start_time": "2025-08-21T20:12:45.631347",
     "status": "completed"
    },
    "tags": []
   },
   "outputs": [
    {
     "name": "stderr",
     "output_type": "stream",
     "text": [
      "2025-08-21 20:12:47.120959: E external/local_xla/xla/stream_executor/cuda/cuda_fft.cc:477] Unable to register cuFFT factory: Attempting to register factory for plugin cuFFT when one has already been registered\n",
      "WARNING: All log messages before absl::InitializeLog() is called are written to STDERR\n",
      "E0000 00:00:1755807167.314988      19 cuda_dnn.cc:8310] Unable to register cuDNN factory: Attempting to register factory for plugin cuDNN when one has already been registered\n",
      "E0000 00:00:1755807167.370527      19 cuda_blas.cc:1418] Unable to register cuBLAS factory: Attempting to register factory for plugin cuBLAS when one has already been registered\n"
     ]
    }
   ],
   "source": [
    "import tensorflow \n",
    "from tensorflow import keras \n",
    "from tensorflow.keras import Sequential\n",
    "from tensorflow.keras.layers import Dense,BatchNormalization,Activation"
   ]
  },
  {
   "cell_type": "code",
   "execution_count": 5,
   "id": "a3698bc7",
   "metadata": {
    "execution": {
     "iopub.execute_input": "2025-08-21T20:12:58.756780Z",
     "iopub.status.busy": "2025-08-21T20:12:58.756393Z",
     "iopub.status.idle": "2025-08-21T20:12:58.761363Z",
     "shell.execute_reply": "2025-08-21T20:12:58.760697Z"
    },
    "papermill": {
     "duration": 0.010864,
     "end_time": "2025-08-21T20:12:58.762526",
     "exception": false,
     "start_time": "2025-08-21T20:12:58.751662",
     "status": "completed"
    },
    "tags": []
   },
   "outputs": [],
   "source": [
    "model=Sequential()"
   ]
  },
  {
   "cell_type": "code",
   "execution_count": 6,
   "id": "2efe1502",
   "metadata": {
    "execution": {
     "iopub.execute_input": "2025-08-21T20:12:58.769934Z",
     "iopub.status.busy": "2025-08-21T20:12:58.769394Z",
     "iopub.status.idle": "2025-08-21T20:13:00.682794Z",
     "shell.execute_reply": "2025-08-21T20:13:00.682221Z"
    },
    "papermill": {
     "duration": 1.918424,
     "end_time": "2025-08-21T20:13:00.684167",
     "exception": false,
     "start_time": "2025-08-21T20:12:58.765743",
     "status": "completed"
    },
    "tags": []
   },
   "outputs": [
    {
     "name": "stderr",
     "output_type": "stream",
     "text": [
      "/usr/local/lib/python3.11/dist-packages/keras/src/layers/core/dense.py:87: UserWarning: Do not pass an `input_shape`/`input_dim` argument to a layer. When using Sequential models, prefer using an `Input(shape)` object as the first layer in the model instead.\n",
      "  super().__init__(activity_regularizer=activity_regularizer, **kwargs)\n",
      "I0000 00:00:1755807179.476301      19 gpu_device.cc:2022] Created device /job:localhost/replica:0/task:0/device:GPU:0 with 15513 MB memory:  -> device: 0, name: Tesla P100-PCIE-16GB, pci bus id: 0000:00:04.0, compute capability: 6.0\n"
     ]
    }
   ],
   "source": [
    "model.add(Dense(3,activation=\"relu\",input_dim=2))\n",
    "model.add(BatchNormalization())\n",
    "model.add(Dense(2,activation=\"relu\"))\n",
    "model.add(BatchNormalization())\n",
    "model.add(Dense(1,activation=\"sigmoid\"))\n",
    "model.add(BatchNormalization())"
   ]
  },
  {
   "cell_type": "code",
   "execution_count": 7,
   "id": "67f06733",
   "metadata": {
    "execution": {
     "iopub.execute_input": "2025-08-21T20:13:00.691843Z",
     "iopub.status.busy": "2025-08-21T20:13:00.691628Z",
     "iopub.status.idle": "2025-08-21T20:13:00.696644Z",
     "shell.execute_reply": "2025-08-21T20:13:00.695935Z"
    },
    "papermill": {
     "duration": 0.009943,
     "end_time": "2025-08-21T20:13:00.697667",
     "exception": false,
     "start_time": "2025-08-21T20:13:00.687724",
     "status": "completed"
    },
    "tags": []
   },
   "outputs": [
    {
     "data": {
      "text/plain": [
       "[<Dense name=dense, built=True>,\n",
       " <BatchNormalization name=batch_normalization, built=True>,\n",
       " <Dense name=dense_1, built=True>,\n",
       " <BatchNormalization name=batch_normalization_1, built=True>,\n",
       " <Dense name=dense_2, built=True>,\n",
       " <BatchNormalization name=batch_normalization_2, built=True>]"
      ]
     },
     "execution_count": 7,
     "metadata": {},
     "output_type": "execute_result"
    }
   ],
   "source": [
    "model.layers"
   ]
  },
  {
   "cell_type": "code",
   "execution_count": 8,
   "id": "7dd32e6c",
   "metadata": {
    "execution": {
     "iopub.execute_input": "2025-08-21T20:13:00.705461Z",
     "iopub.status.busy": "2025-08-21T20:13:00.704801Z",
     "iopub.status.idle": "2025-08-21T20:13:00.708238Z",
     "shell.execute_reply": "2025-08-21T20:13:00.707728Z"
    },
    "papermill": {
     "duration": 0.008379,
     "end_time": "2025-08-21T20:13:00.709309",
     "exception": false,
     "start_time": "2025-08-21T20:13:00.700930",
     "status": "completed"
    },
    "tags": []
   },
   "outputs": [],
   "source": [
    "columns=['X','Y','Class']\n",
    "df.columns=columns"
   ]
  },
  {
   "cell_type": "code",
   "execution_count": 9,
   "id": "9d1d5f7d",
   "metadata": {
    "execution": {
     "iopub.execute_input": "2025-08-21T20:13:00.716631Z",
     "iopub.status.busy": "2025-08-21T20:13:00.716426Z",
     "iopub.status.idle": "2025-08-21T20:13:00.739170Z",
     "shell.execute_reply": "2025-08-21T20:13:00.738557Z"
    },
    "papermill": {
     "duration": 0.027614,
     "end_time": "2025-08-21T20:13:00.740288",
     "exception": false,
     "start_time": "2025-08-21T20:13:00.712674",
     "status": "completed"
    },
    "tags": []
   },
   "outputs": [
    {
     "data": {
      "text/html": [
       "<div>\n",
       "<style scoped>\n",
       "    .dataframe tbody tr th:only-of-type {\n",
       "        vertical-align: middle;\n",
       "    }\n",
       "\n",
       "    .dataframe tbody tr th {\n",
       "        vertical-align: top;\n",
       "    }\n",
       "\n",
       "    .dataframe thead th {\n",
       "        text-align: right;\n",
       "    }\n",
       "</style>\n",
       "<table border=\"1\" class=\"dataframe\">\n",
       "  <thead>\n",
       "    <tr style=\"text-align: right;\">\n",
       "      <th></th>\n",
       "      <th>X</th>\n",
       "      <th>Y</th>\n",
       "      <th>Class</th>\n",
       "    </tr>\n",
       "  </thead>\n",
       "  <tbody>\n",
       "    <tr>\n",
       "      <th>0</th>\n",
       "      <td>0.70</td>\n",
       "      <td>-0.247</td>\n",
       "      <td>0.0</td>\n",
       "    </tr>\n",
       "    <tr>\n",
       "      <th>1</th>\n",
       "      <td>-3.95</td>\n",
       "      <td>2.740</td>\n",
       "      <td>1.0</td>\n",
       "    </tr>\n",
       "    <tr>\n",
       "      <th>2</th>\n",
       "      <td>0.15</td>\n",
       "      <td>-2.158</td>\n",
       "      <td>1.0</td>\n",
       "    </tr>\n",
       "    <tr>\n",
       "      <th>3</th>\n",
       "      <td>-1.67</td>\n",
       "      <td>-0.942</td>\n",
       "      <td>1.0</td>\n",
       "    </tr>\n",
       "    <tr>\n",
       "      <th>4</th>\n",
       "      <td>2.56</td>\n",
       "      <td>-1.847</td>\n",
       "      <td>1.0</td>\n",
       "    </tr>\n",
       "    <tr>\n",
       "      <th>...</th>\n",
       "      <td>...</td>\n",
       "      <td>...</td>\n",
       "      <td>...</td>\n",
       "    </tr>\n",
       "    <tr>\n",
       "      <th>495</th>\n",
       "      <td>2.18</td>\n",
       "      <td>2.984</td>\n",
       "      <td>1.0</td>\n",
       "    </tr>\n",
       "    <tr>\n",
       "      <th>496</th>\n",
       "      <td>1.78</td>\n",
       "      <td>2.869</td>\n",
       "      <td>1.0</td>\n",
       "    </tr>\n",
       "    <tr>\n",
       "      <th>497</th>\n",
       "      <td>0.89</td>\n",
       "      <td>3.070</td>\n",
       "      <td>0.0</td>\n",
       "    </tr>\n",
       "    <tr>\n",
       "      <th>498</th>\n",
       "      <td>0.85</td>\n",
       "      <td>3.875</td>\n",
       "      <td>0.0</td>\n",
       "    </tr>\n",
       "    <tr>\n",
       "      <th>499</th>\n",
       "      <td>5.22</td>\n",
       "      <td>1.401</td>\n",
       "      <td>0.0</td>\n",
       "    </tr>\n",
       "  </tbody>\n",
       "</table>\n",
       "<p>500 rows × 3 columns</p>\n",
       "</div>"
      ],
      "text/plain": [
       "        X      Y  Class\n",
       "0    0.70 -0.247    0.0\n",
       "1   -3.95  2.740    1.0\n",
       "2    0.15 -2.158    1.0\n",
       "3   -1.67 -0.942    1.0\n",
       "4    2.56 -1.847    1.0\n",
       "..    ...    ...    ...\n",
       "495  2.18  2.984    1.0\n",
       "496  1.78  2.869    1.0\n",
       "497  0.89  3.070    0.0\n",
       "498  0.85  3.875    0.0\n",
       "499  5.22  1.401    0.0\n",
       "\n",
       "[500 rows x 3 columns]"
      ]
     },
     "execution_count": 9,
     "metadata": {},
     "output_type": "execute_result"
    }
   ],
   "source": [
    "df['X']=df['X'].round(2)\n",
    "df['Y']=df['Y'].round(3)\n",
    "df"
   ]
  },
  {
   "cell_type": "code",
   "execution_count": 10,
   "id": "2bb87635",
   "metadata": {
    "execution": {
     "iopub.execute_input": "2025-08-21T20:13:00.748033Z",
     "iopub.status.busy": "2025-08-21T20:13:00.747815Z",
     "iopub.status.idle": "2025-08-21T20:13:00.970405Z",
     "shell.execute_reply": "2025-08-21T20:13:00.969733Z"
    },
    "papermill": {
     "duration": 0.22808,
     "end_time": "2025-08-21T20:13:00.971961",
     "exception": false,
     "start_time": "2025-08-21T20:13:00.743881",
     "status": "completed"
    },
    "tags": []
   },
   "outputs": [
    {
     "data": {
      "text/plain": [
       "<matplotlib.collections.PathCollection at 0x7cf737380350>"
      ]
     },
     "execution_count": 10,
     "metadata": {},
     "output_type": "execute_result"
    },
    {
     "data": {
      "image/png": "[encoded data removed]",
      "text/plain": [
       "<Figure size 640x480 with 1 Axes>"
      ]
     },
     "metadata": {},
     "output_type": "display_data"
    }
   ],
   "source": [
    "plt.scatter(df['X'],df['Y'],c=df['Class'])"
   ]
  },
  {
   "cell_type": "code",
   "execution_count": 11,
   "id": "fed6b572",
   "metadata": {
    "execution": {
     "iopub.execute_input": "2025-08-21T20:13:00.983127Z",
     "iopub.status.busy": "2025-08-21T20:13:00.982708Z",
     "iopub.status.idle": "2025-08-21T20:13:00.994689Z",
     "shell.execute_reply": "2025-08-21T20:13:00.993984Z"
    },
    "papermill": {
     "duration": 0.018277,
     "end_time": "2025-08-21T20:13:00.995740",
     "exception": false,
     "start_time": "2025-08-21T20:13:00.977463",
     "status": "completed"
    },
    "tags": []
   },
   "outputs": [],
   "source": [
    "model.compile(loss=\"binary_crossentropy\",optimizer=\"adam\",metrics=[\"accuracy\"])"
   ]
  },
  {
   "cell_type": "code",
   "execution_count": 12,
   "id": "99c34df5",
   "metadata": {
    "execution": {
     "iopub.execute_input": "2025-08-21T20:13:01.005768Z",
     "iopub.status.busy": "2025-08-21T20:13:01.005573Z",
     "iopub.status.idle": "2025-08-21T20:13:01.010176Z",
     "shell.execute_reply": "2025-08-21T20:13:01.009441Z"
    },
    "papermill": {
     "duration": 0.010899,
     "end_time": "2025-08-21T20:13:01.011297",
     "exception": false,
     "start_time": "2025-08-21T20:13:01.000398",
     "status": "completed"
    },
    "tags": []
   },
   "outputs": [],
   "source": [
    "X=df.iloc[:,0:2].values\n",
    "Y=df.iloc[:,-1].values"
   ]
  },
  {
   "cell_type": "code",
   "execution_count": 13,
   "id": "4671aa20",
   "metadata": {
    "execution": {
     "iopub.execute_input": "2025-08-21T20:13:01.021510Z",
     "iopub.status.busy": "2025-08-21T20:13:01.021300Z",
     "iopub.status.idle": "2025-08-21T20:13:16.960447Z",
     "shell.execute_reply": "2025-08-21T20:13:16.959881Z"
    },
    "papermill": {
     "duration": 15.945477,
     "end_time": "2025-08-21T20:13:16.961574",
     "exception": false,
     "start_time": "2025-08-21T20:13:01.016097",
     "status": "completed"
    },
    "tags": []
   },
   "outputs": [
    {
     "name": "stdout",
     "output_type": "stream",
     "text": [
      "Epoch 1/100\n"
     ]
    },
    {
     "name": "stderr",
     "output_type": "stream",
     "text": [
      "WARNING: All log messages before absl::InitializeLog() is called are written to STDERR\n",
      "I0000 00:00:1755807183.959847      58 service.cc:148] XLA service 0x7cf68c00d750 initialized for platform CUDA (this does not guarantee that XLA will be used). Devices:\n",
      "I0000 00:00:1755807183.960409      58 service.cc:156]   StreamExecutor device (0): Tesla P100-PCIE-16GB, Compute Capability 6.0\n",
      "I0000 00:00:1755807184.279550      58 cuda_dnn.cc:529] Loaded cuDNN version 90300\n"
     ]
    },
    {
     "name": "stdout",
     "output_type": "stream",
     "text": [
      "\u001b[1m 1/13\u001b[0m \u001b[32m━\u001b[0m\u001b[37m━━━━━━━━━━━━━━━━━━━\u001b[0m \u001b[1m49s\u001b[0m 4s/step - accuracy: 0.4688 - loss: 7.2521"
     ]
    },
    {
     "name": "stderr",
     "output_type": "stream",
     "text": [
      "I0000 00:00:1755807185.200682      58 device_compiler.h:188] Compiled cluster using XLA!  This line is logged at most once for the lifetime of the process.\n"
     ]
    },
    {
     "name": "stdout",
     "output_type": "stream",
     "text": [
      "\u001b[1m13/13\u001b[0m \u001b[32m━━━━━━━━━━━━━━━━━━━━\u001b[0m\u001b[37m\u001b[0m \u001b[1m6s\u001b[0m 133ms/step - accuracy: 0.4774 - loss: 7.2979 - val_accuracy: 0.4400 - val_loss: 0.7964\n",
      "Epoch 2/100\n",
      "\u001b[1m13/13\u001b[0m \u001b[32m━━━━━━━━━━━━━━━━━━━━\u001b[0m\u001b[37m\u001b[0m \u001b[1m0s\u001b[0m 7ms/step - accuracy: 0.4324 - loss: 7.5356 - val_accuracy: 0.4600 - val_loss: 0.7815\n",
      "Epoch 3/100\n",
      "\u001b[1m13/13\u001b[0m \u001b[32m━━━━━━━━━━━━━━━━━━━━\u001b[0m\u001b[37m\u001b[0m \u001b[1m0s\u001b[0m 7ms/step - accuracy: 0.4941 - loss: 6.4481 - val_accuracy: 0.4900 - val_loss: 0.7726\n",
      "Epoch 4/100\n",
      "\u001b[1m13/13\u001b[0m \u001b[32m━━━━━━━━━━━━━━━━━━━━\u001b[0m\u001b[37m\u001b[0m \u001b[1m0s\u001b[0m 7ms/step - accuracy: 0.4931 - loss: 6.9762 - val_accuracy: 0.5000 - val_loss: 0.7762\n",
      "Epoch 5/100\n",
      "\u001b[1m13/13\u001b[0m \u001b[32m━━━━━━━━━━━━━━━━━━━━\u001b[0m\u001b[37m\u001b[0m \u001b[1m0s\u001b[0m 7ms/step - accuracy: 0.5094 - loss: 6.3581 - val_accuracy: 0.4900 - val_loss: 0.7791\n",
      "Epoch 6/100\n",
      "\u001b[1m13/13\u001b[0m \u001b[32m━━━━━━━━━━━━━━━━━━━━\u001b[0m\u001b[37m\u001b[0m \u001b[1m0s\u001b[0m 7ms/step - accuracy: 0.4560 - loss: 7.0580 - val_accuracy: 0.4700 - val_loss: 0.7803\n",
      "Epoch 7/100\n",
      "\u001b[1m13/13\u001b[0m \u001b[32m━━━━━━━━━━━━━━━━━━━━\u001b[0m\u001b[37m\u001b[0m \u001b[1m0s\u001b[0m 7ms/step - accuracy: 0.4955 - loss: 6.4851 - val_accuracy: 0.4100 - val_loss: 0.7822\n",
      "Epoch 8/100\n",
      "\u001b[1m13/13\u001b[0m \u001b[32m━━━━━━━━━━━━━━━━━━━━\u001b[0m\u001b[37m\u001b[0m \u001b[1m0s\u001b[0m 7ms/step - accuracy: 0.4469 - loss: 7.5674 - val_accuracy: 0.4000 - val_loss: 0.7873\n",
      "Epoch 9/100\n",
      "\u001b[1m13/13\u001b[0m \u001b[32m━━━━━━━━━━━━━━━━━━━━\u001b[0m\u001b[37m\u001b[0m \u001b[1m0s\u001b[0m 7ms/step - accuracy: 0.5054 - loss: 6.4918 - val_accuracy: 0.4100 - val_loss: 0.7974\n",
      "Epoch 10/100\n",
      "\u001b[1m13/13\u001b[0m \u001b[32m━━━━━━━━━━━━━━━━━━━━\u001b[0m\u001b[37m\u001b[0m \u001b[1m0s\u001b[0m 7ms/step - accuracy: 0.4368 - loss: 7.2828 - val_accuracy: 0.3900 - val_loss: 0.8095\n",
      "Epoch 11/100\n",
      "\u001b[1m13/13\u001b[0m \u001b[32m━━━━━━━━━━━━━━━━━━━━\u001b[0m\u001b[37m\u001b[0m \u001b[1m0s\u001b[0m 7ms/step - accuracy: 0.4769 - loss: 6.7153 - val_accuracy: 0.4100 - val_loss: 0.8280\n",
      "Epoch 12/100\n",
      "\u001b[1m13/13\u001b[0m \u001b[32m━━━━━━━━━━━━━━━━━━━━\u001b[0m\u001b[37m\u001b[0m \u001b[1m0s\u001b[0m 7ms/step - accuracy: 0.4937 - loss: 6.4075 - val_accuracy: 0.3600 - val_loss: 0.8510\n",
      "Epoch 13/100\n",
      "\u001b[1m13/13\u001b[0m \u001b[32m━━━━━━━━━━━━━━━━━━━━\u001b[0m\u001b[37m\u001b[0m \u001b[1m0s\u001b[0m 7ms/step - accuracy: 0.5007 - loss: 6.7133 - val_accuracy: 0.3600 - val_loss: 0.8836\n",
      "Epoch 14/100\n",
      "\u001b[1m13/13\u001b[0m \u001b[32m━━━━━━━━━━━━━━━━━━━━\u001b[0m\u001b[37m\u001b[0m \u001b[1m0s\u001b[0m 7ms/step - accuracy: 0.4617 - loss: 6.7000 - val_accuracy: 0.3500 - val_loss: 0.9344\n",
      "Epoch 15/100\n",
      "\u001b[1m13/13\u001b[0m \u001b[32m━━━━━━━━━━━━━━━━━━━━\u001b[0m\u001b[37m\u001b[0m \u001b[1m0s\u001b[0m 7ms/step - accuracy: 0.4896 - loss: 6.8135 - val_accuracy: 0.3400 - val_loss: 1.0876\n",
      "Epoch 16/100\n",
      "\u001b[1m13/13\u001b[0m \u001b[32m━━━━━━━━━━━━━━━━━━━━\u001b[0m\u001b[37m\u001b[0m \u001b[1m0s\u001b[0m 7ms/step - accuracy: 0.4884 - loss: 6.4486 - val_accuracy: 0.3400 - val_loss: 1.2522\n",
      "Epoch 17/100\n",
      "\u001b[1m13/13\u001b[0m \u001b[32m━━━━━━━━━━━━━━━━━━━━\u001b[0m\u001b[37m\u001b[0m \u001b[1m0s\u001b[0m 7ms/step - accuracy: 0.4652 - loss: 6.5154 - val_accuracy: 0.3400 - val_loss: 1.4165\n",
      "Epoch 18/100\n",
      "\u001b[1m13/13\u001b[0m \u001b[32m━━━━━━━━━━━━━━━━━━━━\u001b[0m\u001b[37m\u001b[0m \u001b[1m0s\u001b[0m 7ms/step - accuracy: 0.4847 - loss: 6.3787 - val_accuracy: 0.3300 - val_loss: 1.4794\n",
      "Epoch 19/100\n",
      "\u001b[1m13/13\u001b[0m \u001b[32m━━━━━━━━━━━━━━━━━━━━\u001b[0m\u001b[37m\u001b[0m \u001b[1m0s\u001b[0m 7ms/step - accuracy: 0.4928 - loss: 6.7406 - val_accuracy: 0.3300 - val_loss: 1.6645\n",
      "Epoch 20/100\n",
      "\u001b[1m13/13\u001b[0m \u001b[32m━━━━━━━━━━━━━━━━━━━━\u001b[0m\u001b[37m\u001b[0m \u001b[1m0s\u001b[0m 7ms/step - accuracy: 0.4745 - loss: 6.3401 - val_accuracy: 0.3300 - val_loss: 1.9772\n",
      "Epoch 21/100\n",
      "\u001b[1m13/13\u001b[0m \u001b[32m━━━━━━━━━━━━━━━━━━━━\u001b[0m\u001b[37m\u001b[0m \u001b[1m0s\u001b[0m 7ms/step - accuracy: 0.4765 - loss: 6.8132 - val_accuracy: 0.3400 - val_loss: 2.0905\n",
      "Epoch 22/100\n",
      "\u001b[1m13/13\u001b[0m \u001b[32m━━━━━━━━━━━━━━━━━━━━\u001b[0m\u001b[37m\u001b[0m \u001b[1m0s\u001b[0m 7ms/step - accuracy: 0.4789 - loss: 6.4629 - val_accuracy: 0.3600 - val_loss: 2.6607\n",
      "Epoch 23/100\n",
      "\u001b[1m13/13\u001b[0m \u001b[32m━━━━━━━━━━━━━━━━━━━━\u001b[0m\u001b[37m\u001b[0m \u001b[1m0s\u001b[0m 7ms/step - accuracy: 0.4927 - loss: 6.3110 - val_accuracy: 0.3600 - val_loss: 3.0161\n",
      "Epoch 24/100\n",
      "\u001b[1m13/13\u001b[0m \u001b[32m━━━━━━━━━━━━━━━━━━━━\u001b[0m\u001b[37m\u001b[0m \u001b[1m0s\u001b[0m 7ms/step - accuracy: 0.5043 - loss: 6.4067 - val_accuracy: 0.3600 - val_loss: 3.9219\n",
      "Epoch 25/100\n",
      "\u001b[1m13/13\u001b[0m \u001b[32m━━━━━━━━━━━━━━━━━━━━\u001b[0m\u001b[37m\u001b[0m \u001b[1m0s\u001b[0m 7ms/step - accuracy: 0.4531 - loss: 6.9576 - val_accuracy: 0.3500 - val_loss: 4.3416\n",
      "Epoch 26/100\n",
      "\u001b[1m13/13\u001b[0m \u001b[32m━━━━━━━━━━━━━━━━━━━━\u001b[0m\u001b[37m\u001b[0m \u001b[1m0s\u001b[0m 7ms/step - accuracy: 0.4840 - loss: 6.4346 - val_accuracy: 0.3400 - val_loss: 4.7493\n",
      "Epoch 27/100\n",
      "\u001b[1m13/13\u001b[0m \u001b[32m━━━━━━━━━━━━━━━━━━━━\u001b[0m\u001b[37m\u001b[0m \u001b[1m0s\u001b[0m 7ms/step - accuracy: 0.5227 - loss: 6.1982 - val_accuracy: 0.3600 - val_loss: 4.9234\n",
      "Epoch 28/100\n",
      "\u001b[1m13/13\u001b[0m \u001b[32m━━━━━━━━━━━━━━━━━━━━\u001b[0m\u001b[37m\u001b[0m \u001b[1m0s\u001b[0m 7ms/step - accuracy: 0.4334 - loss: 6.9602 - val_accuracy: 0.3500 - val_loss: 5.2194\n",
      "Epoch 29/100\n",
      "\u001b[1m13/13\u001b[0m \u001b[32m━━━━━━━━━━━━━━━━━━━━\u001b[0m\u001b[37m\u001b[0m \u001b[1m0s\u001b[0m 7ms/step - accuracy: 0.4790 - loss: 6.4230 - val_accuracy: 0.3600 - val_loss: 5.6120\n",
      "Epoch 30/100\n",
      "\u001b[1m13/13\u001b[0m \u001b[32m━━━━━━━━━━━━━━━━━━━━\u001b[0m\u001b[37m\u001b[0m \u001b[1m0s\u001b[0m 7ms/step - accuracy: 0.4494 - loss: 6.7397 - val_accuracy: 0.3900 - val_loss: 5.8652\n",
      "Epoch 31/100\n",
      "\u001b[1m13/13\u001b[0m \u001b[32m━━━━━━━━━━━━━━━━━━━━\u001b[0m\u001b[37m\u001b[0m \u001b[1m0s\u001b[0m 7ms/step - accuracy: 0.4818 - loss: 6.3276 - val_accuracy: 0.4000 - val_loss: 6.0093\n",
      "Epoch 32/100\n",
      "\u001b[1m13/13\u001b[0m \u001b[32m━━━━━━━━━━━━━━━━━━━━\u001b[0m\u001b[37m\u001b[0m \u001b[1m0s\u001b[0m 7ms/step - accuracy: 0.4862 - loss: 6.2269 - val_accuracy: 0.4000 - val_loss: 6.1472\n",
      "Epoch 33/100\n",
      "\u001b[1m13/13\u001b[0m \u001b[32m━━━━━━━━━━━━━━━━━━━━\u001b[0m\u001b[37m\u001b[0m \u001b[1m0s\u001b[0m 7ms/step - accuracy: 0.5028 - loss: 6.2598 - val_accuracy: 0.4000 - val_loss: 6.4086\n",
      "Epoch 34/100\n",
      "\u001b[1m13/13\u001b[0m \u001b[32m━━━━━━━━━━━━━━━━━━━━\u001b[0m\u001b[37m\u001b[0m \u001b[1m0s\u001b[0m 7ms/step - accuracy: 0.4670 - loss: 6.8388 - val_accuracy: 0.4000 - val_loss: 6.5111\n",
      "Epoch 35/100\n",
      "\u001b[1m13/13\u001b[0m \u001b[32m━━━━━━━━━━━━━━━━━━━━\u001b[0m\u001b[37m\u001b[0m \u001b[1m0s\u001b[0m 7ms/step - accuracy: 0.5113 - loss: 6.3976 - val_accuracy: 0.4000 - val_loss: 6.6244\n",
      "Epoch 36/100\n",
      "\u001b[1m13/13\u001b[0m \u001b[32m━━━━━━━━━━━━━━━━━━━━\u001b[0m\u001b[37m\u001b[0m \u001b[1m0s\u001b[0m 7ms/step - accuracy: 0.5038 - loss: 6.1211 - val_accuracy: 0.4000 - val_loss: 6.6238\n",
      "Epoch 37/100\n",
      "\u001b[1m13/13\u001b[0m \u001b[32m━━━━━━━━━━━━━━━━━━━━\u001b[0m\u001b[37m\u001b[0m \u001b[1m0s\u001b[0m 7ms/step - accuracy: 0.4900 - loss: 6.3904 - val_accuracy: 0.4000 - val_loss: 6.6272\n",
      "Epoch 38/100\n",
      "\u001b[1m13/13\u001b[0m \u001b[32m━━━━━━━━━━━━━━━━━━━━\u001b[0m\u001b[37m\u001b[0m \u001b[1m0s\u001b[0m 7ms/step - accuracy: 0.4872 - loss: 6.3779 - val_accuracy: 0.3800 - val_loss: 6.5343\n",
      "Epoch 39/100\n",
      "\u001b[1m13/13\u001b[0m \u001b[32m━━━━━━━━━━━━━━━━━━━━\u001b[0m\u001b[37m\u001b[0m \u001b[1m0s\u001b[0m 7ms/step - accuracy: 0.4756 - loss: 6.1719 - val_accuracy: 0.3500 - val_loss: 6.5491\n",
      "Epoch 40/100\n",
      "\u001b[1m13/13\u001b[0m \u001b[32m━━━━━━━━━━━━━━━━━━━━\u001b[0m\u001b[37m\u001b[0m \u001b[1m0s\u001b[0m 7ms/step - accuracy: 0.4714 - loss: 6.2830 - val_accuracy: 0.3500 - val_loss: 6.3593\n",
      "Epoch 41/100\n",
      "\u001b[1m13/13\u001b[0m \u001b[32m━━━━━━━━━━━━━━━━━━━━\u001b[0m\u001b[37m\u001b[0m \u001b[1m0s\u001b[0m 7ms/step - accuracy: 0.4672 - loss: 6.0568 - val_accuracy: 0.3600 - val_loss: 6.5534\n",
      "Epoch 42/100\n",
      "\u001b[1m13/13\u001b[0m \u001b[32m━━━━━━━━━━━━━━━━━━━━\u001b[0m\u001b[37m\u001b[0m \u001b[1m0s\u001b[0m 7ms/step - accuracy: 0.4692 - loss: 5.8778 - val_accuracy: 0.3600 - val_loss: 6.4154\n",
      "Epoch 43/100\n",
      "\u001b[1m13/13\u001b[0m \u001b[32m━━━━━━━━━━━━━━━━━━━━\u001b[0m\u001b[37m\u001b[0m \u001b[1m0s\u001b[0m 7ms/step - accuracy: 0.4725 - loss: 6.2686 - val_accuracy: 0.3500 - val_loss: 6.2948\n",
      "Epoch 44/100\n",
      "\u001b[1m13/13\u001b[0m \u001b[32m━━━━━━━━━━━━━━━━━━━━\u001b[0m\u001b[37m\u001b[0m \u001b[1m0s\u001b[0m 7ms/step - accuracy: 0.5024 - loss: 5.7890 - val_accuracy: 0.3600 - val_loss: 6.2941\n",
      "Epoch 45/100\n",
      "\u001b[1m13/13\u001b[0m \u001b[32m━━━━━━━━━━━━━━━━━━━━\u001b[0m\u001b[37m\u001b[0m \u001b[1m0s\u001b[0m 7ms/step - accuracy: 0.4791 - loss: 6.1969 - val_accuracy: 0.3600 - val_loss: 6.2926\n",
      "Epoch 46/100\n",
      "\u001b[1m13/13\u001b[0m \u001b[32m━━━━━━━━━━━━━━━━━━━━\u001b[0m\u001b[37m\u001b[0m \u001b[1m0s\u001b[0m 7ms/step - accuracy: 0.4455 - loss: 6.1144 - val_accuracy: 0.3600 - val_loss: 6.2963\n",
      "Epoch 47/100\n",
      "\u001b[1m13/13\u001b[0m \u001b[32m━━━━━━━━━━━━━━━━━━━━\u001b[0m\u001b[37m\u001b[0m \u001b[1m0s\u001b[0m 7ms/step - accuracy: 0.4868 - loss: 5.9141 - val_accuracy: 0.3600 - val_loss: 6.2945\n",
      "Epoch 48/100\n",
      "\u001b[1m13/13\u001b[0m \u001b[32m━━━━━━━━━━━━━━━━━━━━\u001b[0m\u001b[37m\u001b[0m \u001b[1m0s\u001b[0m 7ms/step - accuracy: 0.4887 - loss: 5.4534 - val_accuracy: 0.3600 - val_loss: 6.4017\n",
      "Epoch 49/100\n",
      "\u001b[1m13/13\u001b[0m \u001b[32m━━━━━━━━━━━━━━━━━━━━\u001b[0m\u001b[37m\u001b[0m \u001b[1m0s\u001b[0m 7ms/step - accuracy: 0.4923 - loss: 5.8969 - val_accuracy: 0.3500 - val_loss: 6.3995\n",
      "Epoch 50/100\n",
      "\u001b[1m13/13\u001b[0m \u001b[32m━━━━━━━━━━━━━━━━━━━━\u001b[0m\u001b[37m\u001b[0m \u001b[1m0s\u001b[0m 7ms/step - accuracy: 0.4596 - loss: 5.8191 - val_accuracy: 0.3500 - val_loss: 6.3957\n",
      "Epoch 51/100\n",
      "\u001b[1m13/13\u001b[0m \u001b[32m━━━━━━━━━━━━━━━━━━━━\u001b[0m\u001b[37m\u001b[0m \u001b[1m0s\u001b[0m 7ms/step - accuracy: 0.4989 - loss: 5.5135 - val_accuracy: 0.3600 - val_loss: 6.2849\n",
      "Epoch 52/100\n",
      "\u001b[1m13/13\u001b[0m \u001b[32m━━━━━━━━━━━━━━━━━━━━\u001b[0m\u001b[37m\u001b[0m \u001b[1m0s\u001b[0m 7ms/step - accuracy: 0.5505 - loss: 4.9766 - val_accuracy: 0.3600 - val_loss: 6.2801\n",
      "Epoch 53/100\n",
      "\u001b[1m13/13\u001b[0m \u001b[32m━━━━━━━━━━━━━━━━━━━━\u001b[0m\u001b[37m\u001b[0m \u001b[1m0s\u001b[0m 7ms/step - accuracy: 0.4892 - loss: 5.8030 - val_accuracy: 0.3600 - val_loss: 6.2768\n",
      "Epoch 54/100\n",
      "\u001b[1m13/13\u001b[0m \u001b[32m━━━━━━━━━━━━━━━━━━━━\u001b[0m\u001b[37m\u001b[0m \u001b[1m0s\u001b[0m 7ms/step - accuracy: 0.5115 - loss: 5.2289 - val_accuracy: 0.3600 - val_loss: 6.4207\n",
      "Epoch 55/100\n",
      "\u001b[1m13/13\u001b[0m \u001b[32m━━━━━━━━━━━━━━━━━━━━\u001b[0m\u001b[37m\u001b[0m \u001b[1m0s\u001b[0m 7ms/step - accuracy: 0.4819 - loss: 5.4707 - val_accuracy: 0.3600 - val_loss: 6.4192\n",
      "Epoch 56/100\n",
      "\u001b[1m13/13\u001b[0m \u001b[32m━━━━━━━━━━━━━━━━━━━━\u001b[0m\u001b[37m\u001b[0m \u001b[1m0s\u001b[0m 7ms/step - accuracy: 0.4318 - loss: 6.1280 - val_accuracy: 0.3600 - val_loss: 6.3167\n",
      "Epoch 57/100\n",
      "\u001b[1m13/13\u001b[0m \u001b[32m━━━━━━━━━━━━━━━━━━━━\u001b[0m\u001b[37m\u001b[0m \u001b[1m0s\u001b[0m 7ms/step - accuracy: 0.5211 - loss: 5.2436 - val_accuracy: 0.3600 - val_loss: 6.3119\n",
      "Epoch 58/100\n",
      "\u001b[1m13/13\u001b[0m \u001b[32m━━━━━━━━━━━━━━━━━━━━\u001b[0m\u001b[37m\u001b[0m \u001b[1m0s\u001b[0m 7ms/step - accuracy: 0.4578 - loss: 5.9586 - val_accuracy: 0.3600 - val_loss: 6.3182\n",
      "Epoch 59/100\n",
      "\u001b[1m13/13\u001b[0m \u001b[32m━━━━━━━━━━━━━━━━━━━━\u001b[0m\u001b[37m\u001b[0m \u001b[1m0s\u001b[0m 7ms/step - accuracy: 0.4236 - loss: 6.3570 - val_accuracy: 0.3600 - val_loss: 6.2042\n",
      "Epoch 60/100\n",
      "\u001b[1m13/13\u001b[0m \u001b[32m━━━━━━━━━━━━━━━━━━━━\u001b[0m\u001b[37m\u001b[0m \u001b[1m0s\u001b[0m 7ms/step - accuracy: 0.4731 - loss: 5.3020 - val_accuracy: 0.3700 - val_loss: 6.1630\n",
      "Epoch 61/100\n",
      "\u001b[1m13/13\u001b[0m \u001b[32m━━━━━━━━━━━━━━━━━━━━\u001b[0m\u001b[37m\u001b[0m \u001b[1m0s\u001b[0m 7ms/step - accuracy: 0.5360 - loss: 5.0814 - val_accuracy: 0.3600 - val_loss: 6.0564\n",
      "Epoch 62/100\n",
      "\u001b[1m13/13\u001b[0m \u001b[32m━━━━━━━━━━━━━━━━━━━━\u001b[0m\u001b[37m\u001b[0m \u001b[1m0s\u001b[0m 7ms/step - accuracy: 0.5111 - loss: 5.2199 - val_accuracy: 0.3500 - val_loss: 6.0485\n",
      "Epoch 63/100\n",
      "\u001b[1m13/13\u001b[0m \u001b[32m━━━━━━━━━━━━━━━━━━━━\u001b[0m\u001b[37m\u001b[0m \u001b[1m0s\u001b[0m 7ms/step - accuracy: 0.4771 - loss: 5.4834 - val_accuracy: 0.3700 - val_loss: 6.0403\n",
      "Epoch 64/100\n",
      "\u001b[1m13/13\u001b[0m \u001b[32m━━━━━━━━━━━━━━━━━━━━\u001b[0m\u001b[37m\u001b[0m \u001b[1m0s\u001b[0m 7ms/step - accuracy: 0.4783 - loss: 5.0704 - val_accuracy: 0.3900 - val_loss: 6.2410\n",
      "Epoch 65/100\n",
      "\u001b[1m13/13\u001b[0m \u001b[32m━━━━━━━━━━━━━━━━━━━━\u001b[0m\u001b[37m\u001b[0m \u001b[1m0s\u001b[0m 7ms/step - accuracy: 0.5094 - loss: 5.5223 - val_accuracy: 0.3900 - val_loss: 6.2378\n",
      "Epoch 66/100\n",
      "\u001b[1m13/13\u001b[0m \u001b[32m━━━━━━━━━━━━━━━━━━━━\u001b[0m\u001b[37m\u001b[0m \u001b[1m0s\u001b[0m 7ms/step - accuracy: 0.4695 - loss: 5.5181 - val_accuracy: 0.3900 - val_loss: 6.1279\n",
      "Epoch 67/100\n",
      "\u001b[1m13/13\u001b[0m \u001b[32m━━━━━━━━━━━━━━━━━━━━\u001b[0m\u001b[37m\u001b[0m \u001b[1m0s\u001b[0m 7ms/step - accuracy: 0.4693 - loss: 5.3565 - val_accuracy: 0.3900 - val_loss: 5.9994\n",
      "Epoch 68/100\n",
      "\u001b[1m13/13\u001b[0m \u001b[32m━━━━━━━━━━━━━━━━━━━━\u001b[0m\u001b[37m\u001b[0m \u001b[1m0s\u001b[0m 7ms/step - accuracy: 0.4614 - loss: 5.5130 - val_accuracy: 0.3900 - val_loss: 5.9829\n",
      "Epoch 69/100\n",
      "\u001b[1m13/13\u001b[0m \u001b[32m━━━━━━━━━━━━━━━━━━━━\u001b[0m\u001b[37m\u001b[0m \u001b[1m0s\u001b[0m 7ms/step - accuracy: 0.4466 - loss: 5.5243 - val_accuracy: 0.3900 - val_loss: 5.7567\n",
      "Epoch 70/100\n",
      "\u001b[1m13/13\u001b[0m \u001b[32m━━━━━━━━━━━━━━━━━━━━\u001b[0m\u001b[37m\u001b[0m \u001b[1m0s\u001b[0m 7ms/step - accuracy: 0.4410 - loss: 5.9321 - val_accuracy: 0.3900 - val_loss: 5.6142\n",
      "Epoch 71/100\n",
      "\u001b[1m13/13\u001b[0m \u001b[32m━━━━━━━━━━━━━━━━━━━━\u001b[0m\u001b[37m\u001b[0m \u001b[1m0s\u001b[0m 7ms/step - accuracy: 0.4817 - loss: 4.9005 - val_accuracy: 0.3800 - val_loss: 5.0490\n",
      "Epoch 72/100\n",
      "\u001b[1m13/13\u001b[0m \u001b[32m━━━━━━━━━━━━━━━━━━━━\u001b[0m\u001b[37m\u001b[0m \u001b[1m0s\u001b[0m 7ms/step - accuracy: 0.4764 - loss: 5.1238 - val_accuracy: 0.3600 - val_loss: 4.7861\n",
      "Epoch 73/100\n",
      "\u001b[1m13/13\u001b[0m \u001b[32m━━━━━━━━━━━━━━━━━━━━\u001b[0m\u001b[37m\u001b[0m \u001b[1m0s\u001b[0m 7ms/step - accuracy: 0.4174 - loss: 5.3092 - val_accuracy: 0.3500 - val_loss: 4.5699\n",
      "Epoch 74/100\n",
      "\u001b[1m13/13\u001b[0m \u001b[32m━━━━━━━━━━━━━━━━━━━━\u001b[0m\u001b[37m\u001b[0m \u001b[1m0s\u001b[0m 7ms/step - accuracy: 0.4418 - loss: 5.0616 - val_accuracy: 0.3400 - val_loss: 4.6357\n",
      "Epoch 75/100\n",
      "\u001b[1m13/13\u001b[0m \u001b[32m━━━━━━━━━━━━━━━━━━━━\u001b[0m\u001b[37m\u001b[0m \u001b[1m0s\u001b[0m 7ms/step - accuracy: 0.4351 - loss: 4.9907 - val_accuracy: 0.3300 - val_loss: 4.6275\n",
      "Epoch 76/100\n",
      "\u001b[1m13/13\u001b[0m \u001b[32m━━━━━━━━━━━━━━━━━━━━\u001b[0m\u001b[37m\u001b[0m \u001b[1m0s\u001b[0m 7ms/step - accuracy: 0.4395 - loss: 5.5540 - val_accuracy: 0.3300 - val_loss: 4.6234\n",
      "Epoch 77/100\n",
      "\u001b[1m13/13\u001b[0m \u001b[32m━━━━━━━━━━━━━━━━━━━━\u001b[0m\u001b[37m\u001b[0m \u001b[1m0s\u001b[0m 7ms/step - accuracy: 0.4989 - loss: 4.4633 - val_accuracy: 0.3300 - val_loss: 4.5269\n",
      "Epoch 78/100\n",
      "\u001b[1m13/13\u001b[0m \u001b[32m━━━━━━━━━━━━━━━━━━━━\u001b[0m\u001b[37m\u001b[0m \u001b[1m0s\u001b[0m 7ms/step - accuracy: 0.4330 - loss: 5.2785 - val_accuracy: 0.3300 - val_loss: 4.5073\n",
      "Epoch 79/100\n",
      "\u001b[1m13/13\u001b[0m \u001b[32m━━━━━━━━━━━━━━━━━━━━\u001b[0m\u001b[37m\u001b[0m \u001b[1m0s\u001b[0m 7ms/step - accuracy: 0.4610 - loss: 4.7519 - val_accuracy: 0.3300 - val_loss: 4.5028\n",
      "Epoch 80/100\n",
      "\u001b[1m13/13\u001b[0m \u001b[32m━━━━━━━━━━━━━━━━━━━━\u001b[0m\u001b[37m\u001b[0m \u001b[1m0s\u001b[0m 7ms/step - accuracy: 0.4336 - loss: 4.9552 - val_accuracy: 0.3300 - val_loss: 4.4036\n",
      "Epoch 81/100\n",
      "\u001b[1m13/13\u001b[0m \u001b[32m━━━━━━━━━━━━━━━━━━━━\u001b[0m\u001b[37m\u001b[0m \u001b[1m0s\u001b[0m 7ms/step - accuracy: 0.4591 - loss: 4.9289 - val_accuracy: 0.3300 - val_loss: 4.5031\n",
      "Epoch 82/100\n",
      "\u001b[1m13/13\u001b[0m \u001b[32m━━━━━━━━━━━━━━━━━━━━\u001b[0m\u001b[37m\u001b[0m \u001b[1m0s\u001b[0m 7ms/step - accuracy: 0.4927 - loss: 4.4524 - val_accuracy: 0.3300 - val_loss: 4.3905\n",
      "Epoch 83/100\n",
      "\u001b[1m13/13\u001b[0m \u001b[32m━━━━━━━━━━━━━━━━━━━━\u001b[0m\u001b[37m\u001b[0m \u001b[1m0s\u001b[0m 7ms/step - accuracy: 0.3981 - loss: 5.7989 - val_accuracy: 0.3300 - val_loss: 4.3816\n",
      "Epoch 84/100\n",
      "\u001b[1m13/13\u001b[0m \u001b[32m━━━━━━━━━━━━━━━━━━━━\u001b[0m\u001b[37m\u001b[0m \u001b[1m0s\u001b[0m 7ms/step - accuracy: 0.4620 - loss: 4.9100 - val_accuracy: 0.3300 - val_loss: 4.3015\n",
      "Epoch 85/100\n",
      "\u001b[1m13/13\u001b[0m \u001b[32m━━━━━━━━━━━━━━━━━━━━\u001b[0m\u001b[37m\u001b[0m \u001b[1m0s\u001b[0m 7ms/step - accuracy: 0.5329 - loss: 4.3606 - val_accuracy: 0.3300 - val_loss: 4.3264\n",
      "Epoch 86/100\n",
      "\u001b[1m13/13\u001b[0m \u001b[32m━━━━━━━━━━━━━━━━━━━━\u001b[0m\u001b[37m\u001b[0m \u001b[1m0s\u001b[0m 7ms/step - accuracy: 0.4556 - loss: 4.6388 - val_accuracy: 0.3300 - val_loss: 4.3805\n",
      "Epoch 87/100\n",
      "\u001b[1m13/13\u001b[0m \u001b[32m━━━━━━━━━━━━━━━━━━━━\u001b[0m\u001b[37m\u001b[0m \u001b[1m0s\u001b[0m 7ms/step - accuracy: 0.4614 - loss: 4.4292 - val_accuracy: 0.3300 - val_loss: 4.4941\n",
      "Epoch 88/100\n",
      "\u001b[1m13/13\u001b[0m \u001b[32m━━━━━━━━━━━━━━━━━━━━\u001b[0m\u001b[37m\u001b[0m \u001b[1m0s\u001b[0m 7ms/step - accuracy: 0.4980 - loss: 4.5452 - val_accuracy: 0.3300 - val_loss: 4.5262\n",
      "Epoch 89/100\n",
      "\u001b[1m13/13\u001b[0m \u001b[32m━━━━━━━━━━━━━━━━━━━━\u001b[0m\u001b[37m\u001b[0m \u001b[1m0s\u001b[0m 7ms/step - accuracy: 0.4821 - loss: 4.8291 - val_accuracy: 0.3300 - val_loss: 4.4837\n",
      "Epoch 90/100\n",
      "\u001b[1m13/13\u001b[0m \u001b[32m━━━━━━━━━━━━━━━━━━━━\u001b[0m\u001b[37m\u001b[0m \u001b[1m0s\u001b[0m 7ms/step - accuracy: 0.4712 - loss: 4.5704 - val_accuracy: 0.3500 - val_loss: 4.3856\n",
      "Epoch 91/100\n",
      "\u001b[1m13/13\u001b[0m \u001b[32m━━━━━━━━━━━━━━━━━━━━\u001b[0m\u001b[37m\u001b[0m \u001b[1m0s\u001b[0m 7ms/step - accuracy: 0.4542 - loss: 4.1424 - val_accuracy: 0.3800 - val_loss: 4.3692\n",
      "Epoch 92/100\n",
      "\u001b[1m13/13\u001b[0m \u001b[32m━━━━━━━━━━━━━━━━━━━━\u001b[0m\u001b[37m\u001b[0m \u001b[1m0s\u001b[0m 7ms/step - accuracy: 0.4623 - loss: 4.0853 - val_accuracy: 0.3800 - val_loss: 4.3605\n",
      "Epoch 93/100\n",
      "\u001b[1m13/13\u001b[0m \u001b[32m━━━━━━━━━━━━━━━━━━━━\u001b[0m\u001b[37m\u001b[0m \u001b[1m0s\u001b[0m 7ms/step - accuracy: 0.4689 - loss: 4.2931 - val_accuracy: 0.3800 - val_loss: 4.3433\n",
      "Epoch 94/100\n",
      "\u001b[1m13/13\u001b[0m \u001b[32m━━━━━━━━━━━━━━━━━━━━\u001b[0m\u001b[37m\u001b[0m \u001b[1m0s\u001b[0m 7ms/step - accuracy: 0.5197 - loss: 4.3293 - val_accuracy: 0.3800 - val_loss: 4.2253\n",
      "Epoch 95/100\n",
      "\u001b[1m13/13\u001b[0m \u001b[32m━━━━━━━━━━━━━━━━━━━━\u001b[0m\u001b[37m\u001b[0m \u001b[1m0s\u001b[0m 7ms/step - accuracy: 0.4469 - loss: 4.8205 - val_accuracy: 0.3800 - val_loss: 4.2094\n",
      "Epoch 96/100\n",
      "\u001b[1m13/13\u001b[0m \u001b[32m━━━━━━━━━━━━━━━━━━━━\u001b[0m\u001b[37m\u001b[0m \u001b[1m0s\u001b[0m 7ms/step - accuracy: 0.4521 - loss: 4.6045 - val_accuracy: 0.3800 - val_loss: 4.1008\n",
      "Epoch 97/100\n",
      "\u001b[1m13/13\u001b[0m \u001b[32m━━━━━━━━━━━━━━━━━━━━\u001b[0m\u001b[37m\u001b[0m \u001b[1m0s\u001b[0m 7ms/step - accuracy: 0.4673 - loss: 4.0358 - val_accuracy: 0.3800 - val_loss: 4.0806\n",
      "Epoch 98/100\n",
      "\u001b[1m13/13\u001b[0m \u001b[32m━━━━━━━━━━━━━━━━━━━━\u001b[0m\u001b[37m\u001b[0m \u001b[1m0s\u001b[0m 7ms/step - accuracy: 0.4807 - loss: 4.6778 - val_accuracy: 0.3800 - val_loss: 4.0756\n",
      "Epoch 99/100\n",
      "\u001b[1m13/13\u001b[0m \u001b[32m━━━━━━━━━━━━━━━━━━━━\u001b[0m\u001b[37m\u001b[0m \u001b[1m0s\u001b[0m 7ms/step - accuracy: 0.4805 - loss: 4.5106 - val_accuracy: 0.3800 - val_loss: 3.9029\n",
      "Epoch 100/100\n",
      "\u001b[1m13/13\u001b[0m \u001b[32m━━━━━━━━━━━━━━━━━━━━\u001b[0m\u001b[37m\u001b[0m \u001b[1m0s\u001b[0m 7ms/step - accuracy: 0.4954 - loss: 4.2647 - val_accuracy: 0.3800 - val_loss: 3.7550\n"
     ]
    }
   ],
   "source": [
    "history=model.fit(X,Y,epochs=100,validation_split=0.2)"
   ]
  },
  {
   "cell_type": "code",
   "execution_count": 14,
   "id": "8dd16782",
   "metadata": {
    "execution": {
     "iopub.execute_input": "2025-08-21T20:13:16.998509Z",
     "iopub.status.busy": "2025-08-21T20:13:16.998038Z",
     "iopub.status.idle": "2025-08-21T20:13:17.002022Z",
     "shell.execute_reply": "2025-08-21T20:13:17.001416Z"
    },
    "papermill": {
     "duration": 0.022494,
     "end_time": "2025-08-21T20:13:17.003200",
     "exception": false,
     "start_time": "2025-08-21T20:13:16.980706",
     "status": "completed"
    },
    "tags": []
   },
   "outputs": [],
   "source": [
    "model2=Sequential()"
   ]
  },
  {
   "cell_type": "code",
   "execution_count": 15,
   "id": "2692bd47",
   "metadata": {
    "execution": {
     "iopub.execute_input": "2025-08-21T20:13:17.037435Z",
     "iopub.status.busy": "2025-08-21T20:13:17.037245Z",
     "iopub.status.idle": "2025-08-21T20:13:17.064884Z",
     "shell.execute_reply": "2025-08-21T20:13:17.064191Z"
    },
    "papermill": {
     "duration": 0.046137,
     "end_time": "2025-08-21T20:13:17.065960",
     "exception": false,
     "start_time": "2025-08-21T20:13:17.019823",
     "status": "completed"
    },
    "tags": []
   },
   "outputs": [
    {
     "name": "stderr",
     "output_type": "stream",
     "text": [
      "/usr/local/lib/python3.11/dist-packages/keras/src/layers/core/dense.py:87: UserWarning: Do not pass an `input_shape`/`input_dim` argument to a layer. When using Sequential models, prefer using an `Input(shape)` object as the first layer in the model instead.\n",
      "  super().__init__(activity_regularizer=activity_regularizer, **kwargs)\n"
     ]
    }
   ],
   "source": [
    "model2.add(Dense(3,activation=\"relu\",input_dim=2))\n",
    "\n",
    "model2.add(Dense(2,activation=\"relu\"))\n",
    "\n",
    "model2.add(Dense(1,activation=\"sigmoid\"))\n"
   ]
  },
  {
   "cell_type": "code",
   "execution_count": 16,
   "id": "6a800460",
   "metadata": {
    "execution": {
     "iopub.execute_input": "2025-08-21T20:13:17.099358Z",
     "iopub.status.busy": "2025-08-21T20:13:17.099139Z",
     "iopub.status.idle": "2025-08-21T20:13:17.106341Z",
     "shell.execute_reply": "2025-08-21T20:13:17.105845Z"
    },
    "papermill": {
     "duration": 0.025242,
     "end_time": "2025-08-21T20:13:17.107470",
     "exception": false,
     "start_time": "2025-08-21T20:13:17.082228",
     "status": "completed"
    },
    "tags": []
   },
   "outputs": [],
   "source": [
    "model2.compile(loss=\"binary_crossentropy\",optimizer=\"adam\",metrics=[\"accuracy\"])"
   ]
  },
  {
   "cell_type": "code",
   "execution_count": 17,
   "id": "f5102e5c",
   "metadata": {
    "execution": {
     "iopub.execute_input": "2025-08-21T20:13:17.141302Z",
     "iopub.status.busy": "2025-08-21T20:13:17.141080Z",
     "iopub.status.idle": "2025-08-21T20:13:17.145350Z",
     "shell.execute_reply": "2025-08-21T20:13:17.144810Z"
    },
    "papermill": {
     "duration": 0.022016,
     "end_time": "2025-08-21T20:13:17.146329",
     "exception": false,
     "start_time": "2025-08-21T20:13:17.124313",
     "status": "completed"
    },
    "tags": []
   },
   "outputs": [
    {
     "data": {
      "text/plain": [
       "[<Dense name=dense_3, built=True>,\n",
       " <Dense name=dense_4, built=True>,\n",
       " <Dense name=dense_5, built=True>]"
      ]
     },
     "execution_count": 17,
     "metadata": {},
     "output_type": "execute_result"
    }
   ],
   "source": [
    "model2.layers"
   ]
  },
  {
   "cell_type": "code",
   "execution_count": 18,
   "id": "c9da8298",
   "metadata": {
    "execution": {
     "iopub.execute_input": "2025-08-21T20:13:17.179643Z",
     "iopub.status.busy": "2025-08-21T20:13:17.179440Z",
     "iopub.status.idle": "2025-08-21T20:13:29.916392Z",
     "shell.execute_reply": "2025-08-21T20:13:29.915785Z"
    },
    "papermill": {
     "duration": 12.754781,
     "end_time": "2025-08-21T20:13:29.917576",
     "exception": false,
     "start_time": "2025-08-21T20:13:17.162795",
     "status": "completed"
    },
    "tags": []
   },
   "outputs": [
    {
     "name": "stdout",
     "output_type": "stream",
     "text": [
      "Epoch 1/100\n",
      "\u001b[1m13/13\u001b[0m \u001b[32m━━━━━━━━━━━━━━━━━━━━\u001b[0m\u001b[37m\u001b[0m \u001b[1m3s\u001b[0m 85ms/step - accuracy: 0.5127 - loss: 1.5294 - val_accuracy: 0.5700 - val_loss: 1.4329\n",
      "Epoch 2/100\n",
      "\u001b[1m13/13\u001b[0m \u001b[32m━━━━━━━━━━━━━━━━━━━━\u001b[0m\u001b[37m\u001b[0m \u001b[1m0s\u001b[0m 7ms/step - accuracy: 0.5104 - loss: 1.3452 - val_accuracy: 0.5700 - val_loss: 1.2902\n",
      "Epoch 3/100\n",
      "\u001b[1m13/13\u001b[0m \u001b[32m━━━━━━━━━━━━━━━━━━━━\u001b[0m\u001b[37m\u001b[0m \u001b[1m0s\u001b[0m 6ms/step - accuracy: 0.4770 - loss: 1.3605 - val_accuracy: 0.5700 - val_loss: 1.1613\n",
      "Epoch 4/100\n",
      "\u001b[1m13/13\u001b[0m \u001b[32m━━━━━━━━━━━━━━━━━━━━\u001b[0m\u001b[37m\u001b[0m \u001b[1m0s\u001b[0m 7ms/step - accuracy: 0.4749 - loss: 1.2052 - val_accuracy: 0.5700 - val_loss: 1.0477\n",
      "Epoch 5/100\n",
      "\u001b[1m13/13\u001b[0m \u001b[32m━━━━━━━━━━━━━━━━━━━━\u001b[0m\u001b[37m\u001b[0m \u001b[1m0s\u001b[0m 6ms/step - accuracy: 0.4288 - loss: 1.1626 - val_accuracy: 0.5700 - val_loss: 0.9499\n",
      "Epoch 6/100\n",
      "\u001b[1m13/13\u001b[0m \u001b[32m━━━━━━━━━━━━━━━━━━━━\u001b[0m\u001b[37m\u001b[0m \u001b[1m0s\u001b[0m 7ms/step - accuracy: 0.4144 - loss: 1.0563 - val_accuracy: 0.5700 - val_loss: 0.8662\n",
      "Epoch 7/100\n",
      "\u001b[1m13/13\u001b[0m \u001b[32m━━━━━━━━━━━━━━━━━━━━\u001b[0m\u001b[37m\u001b[0m \u001b[1m0s\u001b[0m 6ms/step - accuracy: 0.4021 - loss: 1.0104 - val_accuracy: 0.5700 - val_loss: 0.7956\n",
      "Epoch 8/100\n",
      "\u001b[1m13/13\u001b[0m \u001b[32m━━━━━━━━━━━━━━━━━━━━\u001b[0m\u001b[37m\u001b[0m \u001b[1m0s\u001b[0m 6ms/step - accuracy: 0.4278 - loss: 0.9087 - val_accuracy: 0.5600 - val_loss: 0.7416\n",
      "Epoch 9/100\n",
      "\u001b[1m13/13\u001b[0m \u001b[32m━━━━━━━━━━━━━━━━━━━━\u001b[0m\u001b[37m\u001b[0m \u001b[1m0s\u001b[0m 6ms/step - accuracy: 0.3802 - loss: 0.9289 - val_accuracy: 0.5600 - val_loss: 0.6993\n",
      "Epoch 10/100\n",
      "\u001b[1m13/13\u001b[0m \u001b[32m━━━━━━━━━━━━━━━━━━━━\u001b[0m\u001b[37m\u001b[0m \u001b[1m0s\u001b[0m 6ms/step - accuracy: 0.3506 - loss: 0.8638 - val_accuracy: 0.5600 - val_loss: 0.6679\n",
      "Epoch 11/100\n",
      "\u001b[1m13/13\u001b[0m \u001b[32m━━━━━━━━━━━━━━━━━━━━\u001b[0m\u001b[37m\u001b[0m \u001b[1m0s\u001b[0m 6ms/step - accuracy: 0.3782 - loss: 0.8042 - val_accuracy: 0.5400 - val_loss: 0.6474\n",
      "Epoch 12/100\n",
      "\u001b[1m13/13\u001b[0m \u001b[32m━━━━━━━━━━━━━━━━━━━━\u001b[0m\u001b[37m\u001b[0m \u001b[1m0s\u001b[0m 6ms/step - accuracy: 0.3719 - loss: 0.8049 - val_accuracy: 0.5400 - val_loss: 0.6331\n",
      "Epoch 13/100\n",
      "\u001b[1m13/13\u001b[0m \u001b[32m━━━━━━━━━━━━━━━━━━━━\u001b[0m\u001b[37m\u001b[0m \u001b[1m0s\u001b[0m 7ms/step - accuracy: 0.3638 - loss: 0.7857 - val_accuracy: 0.5200 - val_loss: 0.6249\n",
      "Epoch 14/100\n",
      "\u001b[1m13/13\u001b[0m \u001b[32m━━━━━━━━━━━━━━━━━━━━\u001b[0m\u001b[37m\u001b[0m \u001b[1m0s\u001b[0m 6ms/step - accuracy: 0.3626 - loss: 0.7673 - val_accuracy: 0.5000 - val_loss: 0.6217\n",
      "Epoch 15/100\n",
      "\u001b[1m13/13\u001b[0m \u001b[32m━━━━━━━━━━━━━━━━━━━━\u001b[0m\u001b[37m\u001b[0m \u001b[1m0s\u001b[0m 6ms/step - accuracy: 0.3859 - loss: 0.7436 - val_accuracy: 0.5700 - val_loss: 0.6216\n",
      "Epoch 16/100\n",
      "\u001b[1m13/13\u001b[0m \u001b[32m━━━━━━━━━━━━━━━━━━━━\u001b[0m\u001b[37m\u001b[0m \u001b[1m0s\u001b[0m 6ms/step - accuracy: 0.4331 - loss: 0.7333 - val_accuracy: 0.6200 - val_loss: 0.6236\n",
      "Epoch 17/100\n",
      "\u001b[1m13/13\u001b[0m \u001b[32m━━━━━━━━━━━━━━━━━━━━\u001b[0m\u001b[37m\u001b[0m \u001b[1m0s\u001b[0m 6ms/step - accuracy: 0.5152 - loss: 0.7366 - val_accuracy: 0.7300 - val_loss: 0.6264\n",
      "Epoch 18/100\n",
      "\u001b[1m13/13\u001b[0m \u001b[32m━━━━━━━━━━━━━━━━━━━━\u001b[0m\u001b[37m\u001b[0m \u001b[1m0s\u001b[0m 7ms/step - accuracy: 0.5714 - loss: 0.7329 - val_accuracy: 0.8300 - val_loss: 0.6301\n",
      "Epoch 19/100\n",
      "\u001b[1m13/13\u001b[0m \u001b[32m━━━━━━━━━━━━━━━━━━━━\u001b[0m\u001b[37m\u001b[0m \u001b[1m0s\u001b[0m 6ms/step - accuracy: 0.6151 - loss: 0.7272 - val_accuracy: 0.7500 - val_loss: 0.6341\n",
      "Epoch 20/100\n",
      "\u001b[1m13/13\u001b[0m \u001b[32m━━━━━━━━━━━━━━━━━━━━\u001b[0m\u001b[37m\u001b[0m \u001b[1m0s\u001b[0m 6ms/step - accuracy: 0.5476 - loss: 0.7246 - val_accuracy: 0.6400 - val_loss: 0.6380\n",
      "Epoch 21/100\n",
      "\u001b[1m13/13\u001b[0m \u001b[32m━━━━━━━━━━━━━━━━━━━━\u001b[0m\u001b[37m\u001b[0m \u001b[1m0s\u001b[0m 6ms/step - accuracy: 0.5122 - loss: 0.7259 - val_accuracy: 0.6200 - val_loss: 0.6405\n",
      "Epoch 22/100\n",
      "\u001b[1m13/13\u001b[0m \u001b[32m━━━━━━━━━━━━━━━━━━━━\u001b[0m\u001b[37m\u001b[0m \u001b[1m0s\u001b[0m 6ms/step - accuracy: 0.5330 - loss: 0.7209 - val_accuracy: 0.6000 - val_loss: 0.6436\n",
      "Epoch 23/100\n",
      "\u001b[1m13/13\u001b[0m \u001b[32m━━━━━━━━━━━━━━━━━━━━\u001b[0m\u001b[37m\u001b[0m \u001b[1m0s\u001b[0m 6ms/step - accuracy: 0.5295 - loss: 0.7222 - val_accuracy: 0.5900 - val_loss: 0.6463\n",
      "Epoch 24/100\n",
      "\u001b[1m13/13\u001b[0m \u001b[32m━━━━━━━━━━━━━━━━━━━━\u001b[0m\u001b[37m\u001b[0m \u001b[1m0s\u001b[0m 6ms/step - accuracy: 0.5640 - loss: 0.7042 - val_accuracy: 0.5900 - val_loss: 0.6474\n",
      "Epoch 25/100\n",
      "\u001b[1m13/13\u001b[0m \u001b[32m━━━━━━━━━━━━━━━━━━━━\u001b[0m\u001b[37m\u001b[0m \u001b[1m0s\u001b[0m 6ms/step - accuracy: 0.5150 - loss: 0.7169 - val_accuracy: 0.5900 - val_loss: 0.6497\n",
      "Epoch 26/100\n",
      "\u001b[1m13/13\u001b[0m \u001b[32m━━━━━━━━━━━━━━━━━━━━\u001b[0m\u001b[37m\u001b[0m \u001b[1m0s\u001b[0m 6ms/step - accuracy: 0.5257 - loss: 0.7211 - val_accuracy: 0.5900 - val_loss: 0.6504\n",
      "Epoch 27/100\n",
      "\u001b[1m13/13\u001b[0m \u001b[32m━━━━━━━━━━━━━━━━━━━━\u001b[0m\u001b[37m\u001b[0m \u001b[1m0s\u001b[0m 6ms/step - accuracy: 0.5197 - loss: 0.7100 - val_accuracy: 0.5800 - val_loss: 0.6528\n",
      "Epoch 28/100\n",
      "\u001b[1m13/13\u001b[0m \u001b[32m━━━━━━━━━━━━━━━━━━━━\u001b[0m\u001b[37m\u001b[0m \u001b[1m0s\u001b[0m 6ms/step - accuracy: 0.5260 - loss: 0.7200 - val_accuracy: 0.5800 - val_loss: 0.6532\n",
      "Epoch 29/100\n",
      "\u001b[1m13/13\u001b[0m \u001b[32m━━━━━━━━━━━━━━━━━━━━\u001b[0m\u001b[37m\u001b[0m \u001b[1m0s\u001b[0m 6ms/step - accuracy: 0.5588 - loss: 0.6927 - val_accuracy: 0.5900 - val_loss: 0.6551\n",
      "Epoch 30/100\n",
      "\u001b[1m13/13\u001b[0m \u001b[32m━━━━━━━━━━━━━━━━━━━━\u001b[0m\u001b[37m\u001b[0m \u001b[1m0s\u001b[0m 6ms/step - accuracy: 0.5256 - loss: 0.7070 - val_accuracy: 0.5900 - val_loss: 0.6551\n",
      "Epoch 31/100\n",
      "\u001b[1m13/13\u001b[0m \u001b[32m━━━━━━━━━━━━━━━━━━━━\u001b[0m\u001b[37m\u001b[0m \u001b[1m0s\u001b[0m 6ms/step - accuracy: 0.5360 - loss: 0.7057 - val_accuracy: 0.5900 - val_loss: 0.6560\n",
      "Epoch 32/100\n",
      "\u001b[1m13/13\u001b[0m \u001b[32m━━━━━━━━━━━━━━━━━━━━\u001b[0m\u001b[37m\u001b[0m \u001b[1m0s\u001b[0m 7ms/step - accuracy: 0.5253 - loss: 0.7117 - val_accuracy: 0.5900 - val_loss: 0.6559\n",
      "Epoch 33/100\n",
      "\u001b[1m13/13\u001b[0m \u001b[32m━━━━━━━━━━━━━━━━━━━━\u001b[0m\u001b[37m\u001b[0m \u001b[1m0s\u001b[0m 6ms/step - accuracy: 0.5011 - loss: 0.7132 - val_accuracy: 0.5900 - val_loss: 0.6562\n",
      "Epoch 34/100\n",
      "\u001b[1m13/13\u001b[0m \u001b[32m━━━━━━━━━━━━━━━━━━━━\u001b[0m\u001b[37m\u001b[0m \u001b[1m0s\u001b[0m 6ms/step - accuracy: 0.5306 - loss: 0.7048 - val_accuracy: 0.5900 - val_loss: 0.6571\n",
      "Epoch 35/100\n",
      "\u001b[1m13/13\u001b[0m \u001b[32m━━━━━━━━━━━━━━━━━━━━\u001b[0m\u001b[37m\u001b[0m \u001b[1m0s\u001b[0m 6ms/step - accuracy: 0.5183 - loss: 0.7059 - val_accuracy: 0.6000 - val_loss: 0.6569\n",
      "Epoch 36/100\n",
      "\u001b[1m13/13\u001b[0m \u001b[32m━━━━━━━━━━━━━━━━━━━━\u001b[0m\u001b[37m\u001b[0m \u001b[1m0s\u001b[0m 6ms/step - accuracy: 0.5134 - loss: 0.7047 - val_accuracy: 0.6000 - val_loss: 0.6571\n",
      "Epoch 37/100\n",
      "\u001b[1m13/13\u001b[0m \u001b[32m━━━━━━━━━━━━━━━━━━━━\u001b[0m\u001b[37m\u001b[0m \u001b[1m0s\u001b[0m 7ms/step - accuracy: 0.4991 - loss: 0.7051 - val_accuracy: 0.6000 - val_loss: 0.6571\n",
      "Epoch 38/100\n",
      "\u001b[1m13/13\u001b[0m \u001b[32m━━━━━━━━━━━━━━━━━━━━\u001b[0m\u001b[37m\u001b[0m \u001b[1m0s\u001b[0m 6ms/step - accuracy: 0.5286 - loss: 0.7007 - val_accuracy: 0.6000 - val_loss: 0.6574\n",
      "Epoch 39/100\n",
      "\u001b[1m13/13\u001b[0m \u001b[32m━━━━━━━━━━━━━━━━━━━━\u001b[0m\u001b[37m\u001b[0m \u001b[1m0s\u001b[0m 6ms/step - accuracy: 0.5202 - loss: 0.7005 - val_accuracy: 0.6000 - val_loss: 0.6574\n",
      "Epoch 40/100\n",
      "\u001b[1m13/13\u001b[0m \u001b[32m━━━━━━━━━━━━━━━━━━━━\u001b[0m\u001b[37m\u001b[0m \u001b[1m0s\u001b[0m 6ms/step - accuracy: 0.5167 - loss: 0.7000 - val_accuracy: 0.6000 - val_loss: 0.6580\n",
      "Epoch 41/100\n",
      "\u001b[1m13/13\u001b[0m \u001b[32m━━━━━━━━━━━━━━━━━━━━\u001b[0m\u001b[37m\u001b[0m \u001b[1m0s\u001b[0m 6ms/step - accuracy: 0.5319 - loss: 0.6917 - val_accuracy: 0.6000 - val_loss: 0.6603\n",
      "Epoch 42/100\n",
      "\u001b[1m13/13\u001b[0m \u001b[32m━━━━━━━━━━━━━━━━━━━━\u001b[0m\u001b[37m\u001b[0m \u001b[1m0s\u001b[0m 7ms/step - accuracy: 0.5290 - loss: 0.6961 - val_accuracy: 0.6000 - val_loss: 0.6584\n",
      "Epoch 43/100\n",
      "\u001b[1m13/13\u001b[0m \u001b[32m━━━━━━━━━━━━━━━━━━━━\u001b[0m\u001b[37m\u001b[0m \u001b[1m0s\u001b[0m 6ms/step - accuracy: 0.5026 - loss: 0.7050 - val_accuracy: 0.6000 - val_loss: 0.6595\n",
      "Epoch 44/100\n",
      "\u001b[1m13/13\u001b[0m \u001b[32m━━━━━━━━━━━━━━━━━━━━\u001b[0m\u001b[37m\u001b[0m \u001b[1m0s\u001b[0m 6ms/step - accuracy: 0.4960 - loss: 0.7037 - val_accuracy: 0.6000 - val_loss: 0.6601\n",
      "Epoch 45/100\n",
      "\u001b[1m13/13\u001b[0m \u001b[32m━━━━━━━━━━━━━━━━━━━━\u001b[0m\u001b[37m\u001b[0m \u001b[1m0s\u001b[0m 6ms/step - accuracy: 0.5081 - loss: 0.7003 - val_accuracy: 0.6000 - val_loss: 0.6624\n",
      "Epoch 46/100\n",
      "\u001b[1m13/13\u001b[0m \u001b[32m━━━━━━━━━━━━━━━━━━━━\u001b[0m\u001b[37m\u001b[0m \u001b[1m0s\u001b[0m 6ms/step - accuracy: 0.4680 - loss: 0.7108 - val_accuracy: 0.5900 - val_loss: 0.6639\n",
      "Epoch 47/100\n",
      "\u001b[1m13/13\u001b[0m \u001b[32m━━━━━━━━━━━━━━━━━━━━\u001b[0m\u001b[37m\u001b[0m \u001b[1m0s\u001b[0m 6ms/step - accuracy: 0.5073 - loss: 0.7042 - val_accuracy: 0.6000 - val_loss: 0.6626\n",
      "Epoch 48/100\n",
      "\u001b[1m13/13\u001b[0m \u001b[32m━━━━━━━━━━━━━━━━━━━━\u001b[0m\u001b[37m\u001b[0m \u001b[1m0s\u001b[0m 6ms/step - accuracy: 0.5182 - loss: 0.6916 - val_accuracy: 0.6000 - val_loss: 0.6626\n",
      "Epoch 49/100\n",
      "\u001b[1m13/13\u001b[0m \u001b[32m━━━━━━━━━━━━━━━━━━━━\u001b[0m\u001b[37m\u001b[0m \u001b[1m0s\u001b[0m 6ms/step - accuracy: 0.5107 - loss: 0.7016 - val_accuracy: 0.6000 - val_loss: 0.6618\n",
      "Epoch 50/100\n",
      "\u001b[1m13/13\u001b[0m \u001b[32m━━━━━━━━━━━━━━━━━━━━\u001b[0m\u001b[37m\u001b[0m \u001b[1m0s\u001b[0m 6ms/step - accuracy: 0.5426 - loss: 0.6947 - val_accuracy: 0.6100 - val_loss: 0.6601\n",
      "Epoch 51/100\n",
      "\u001b[1m13/13\u001b[0m \u001b[32m━━━━━━━━━━━━━━━━━━━━\u001b[0m\u001b[37m\u001b[0m \u001b[1m0s\u001b[0m 6ms/step - accuracy: 0.5133 - loss: 0.7019 - val_accuracy: 0.6200 - val_loss: 0.6586\n",
      "Epoch 52/100\n",
      "\u001b[1m13/13\u001b[0m \u001b[32m━━━━━━━━━━━━━━━━━━━━\u001b[0m\u001b[37m\u001b[0m \u001b[1m0s\u001b[0m 7ms/step - accuracy: 0.5468 - loss: 0.6903 - val_accuracy: 0.6100 - val_loss: 0.6603\n",
      "Epoch 53/100\n",
      "\u001b[1m13/13\u001b[0m \u001b[32m━━━━━━━━━━━━━━━━━━━━\u001b[0m\u001b[37m\u001b[0m \u001b[1m0s\u001b[0m 6ms/step - accuracy: 0.5121 - loss: 0.7006 - val_accuracy: 0.6500 - val_loss: 0.6587\n",
      "Epoch 54/100\n",
      "\u001b[1m13/13\u001b[0m \u001b[32m━━━━━━━━━━━━━━━━━━━━\u001b[0m\u001b[37m\u001b[0m \u001b[1m0s\u001b[0m 7ms/step - accuracy: 0.4978 - loss: 0.7030 - val_accuracy: 0.6300 - val_loss: 0.6600\n",
      "Epoch 55/100\n",
      "\u001b[1m13/13\u001b[0m \u001b[32m━━━━━━━━━━━━━━━━━━━━\u001b[0m\u001b[37m\u001b[0m \u001b[1m0s\u001b[0m 6ms/step - accuracy: 0.5248 - loss: 0.6935 - val_accuracy: 0.6100 - val_loss: 0.6623\n",
      "Epoch 56/100\n",
      "\u001b[1m13/13\u001b[0m \u001b[32m━━━━━━━━━━━━━━━━━━━━\u001b[0m\u001b[37m\u001b[0m \u001b[1m0s\u001b[0m 6ms/step - accuracy: 0.4989 - loss: 0.6965 - val_accuracy: 0.6000 - val_loss: 0.6643\n",
      "Epoch 57/100\n",
      "\u001b[1m13/13\u001b[0m \u001b[32m━━━━━━━━━━━━━━━━━━━━\u001b[0m\u001b[37m\u001b[0m \u001b[1m0s\u001b[0m 7ms/step - accuracy: 0.4780 - loss: 0.7046 - val_accuracy: 0.5900 - val_loss: 0.6647\n",
      "Epoch 58/100\n",
      "\u001b[1m13/13\u001b[0m \u001b[32m━━━━━━━━━━━━━━━━━━━━\u001b[0m\u001b[37m\u001b[0m \u001b[1m0s\u001b[0m 6ms/step - accuracy: 0.5195 - loss: 0.6973 - val_accuracy: 0.5900 - val_loss: 0.6654\n",
      "Epoch 59/100\n",
      "\u001b[1m13/13\u001b[0m \u001b[32m━━━━━━━━━━━━━━━━━━━━\u001b[0m\u001b[37m\u001b[0m \u001b[1m0s\u001b[0m 6ms/step - accuracy: 0.4978 - loss: 0.7019 - val_accuracy: 0.5900 - val_loss: 0.6669\n",
      "Epoch 60/100\n",
      "\u001b[1m13/13\u001b[0m \u001b[32m━━━━━━━━━━━━━━━━━━━━\u001b[0m\u001b[37m\u001b[0m \u001b[1m0s\u001b[0m 6ms/step - accuracy: 0.5021 - loss: 0.6995 - val_accuracy: 0.5900 - val_loss: 0.6671\n",
      "Epoch 61/100\n",
      "\u001b[1m13/13\u001b[0m \u001b[32m━━━━━━━━━━━━━━━━━━━━\u001b[0m\u001b[37m\u001b[0m \u001b[1m0s\u001b[0m 6ms/step - accuracy: 0.5214 - loss: 0.6928 - val_accuracy: 0.5900 - val_loss: 0.6656\n",
      "Epoch 62/100\n",
      "\u001b[1m13/13\u001b[0m \u001b[32m━━━━━━━━━━━━━━━━━━━━\u001b[0m\u001b[37m\u001b[0m \u001b[1m0s\u001b[0m 8ms/step - accuracy: 0.5376 - loss: 0.6940 - val_accuracy: 0.5900 - val_loss: 0.6672\n",
      "Epoch 63/100\n",
      "\u001b[1m13/13\u001b[0m \u001b[32m━━━━━━━━━━━━━━━━━━━━\u001b[0m\u001b[37m\u001b[0m \u001b[1m0s\u001b[0m 6ms/step - accuracy: 0.5489 - loss: 0.6872 - val_accuracy: 0.5900 - val_loss: 0.6676\n",
      "Epoch 64/100\n",
      "\u001b[1m13/13\u001b[0m \u001b[32m━━━━━━━━━━━━━━━━━━━━\u001b[0m\u001b[37m\u001b[0m \u001b[1m0s\u001b[0m 6ms/step - accuracy: 0.5188 - loss: 0.6974 - val_accuracy: 0.5900 - val_loss: 0.6674\n",
      "Epoch 65/100\n",
      "\u001b[1m13/13\u001b[0m \u001b[32m━━━━━━━━━━━━━━━━━━━━\u001b[0m\u001b[37m\u001b[0m \u001b[1m0s\u001b[0m 6ms/step - accuracy: 0.4886 - loss: 0.6972 - val_accuracy: 0.5900 - val_loss: 0.6694\n",
      "Epoch 66/100\n",
      "\u001b[1m13/13\u001b[0m \u001b[32m━━━━━━━━━━━━━━━━━━━━\u001b[0m\u001b[37m\u001b[0m \u001b[1m0s\u001b[0m 6ms/step - accuracy: 0.5112 - loss: 0.6955 - val_accuracy: 0.6000 - val_loss: 0.6680\n",
      "Epoch 67/100\n",
      "\u001b[1m13/13\u001b[0m \u001b[32m━━━━━━━━━━━━━━━━━━━━\u001b[0m\u001b[37m\u001b[0m \u001b[1m0s\u001b[0m 6ms/step - accuracy: 0.5299 - loss: 0.6944 - val_accuracy: 0.6000 - val_loss: 0.6687\n",
      "Epoch 68/100\n",
      "\u001b[1m13/13\u001b[0m \u001b[32m━━━━━━━━━━━━━━━━━━━━\u001b[0m\u001b[37m\u001b[0m \u001b[1m0s\u001b[0m 6ms/step - accuracy: 0.5354 - loss: 0.6897 - val_accuracy: 0.5800 - val_loss: 0.6702\n",
      "Epoch 69/100\n",
      "\u001b[1m13/13\u001b[0m \u001b[32m━━━━━━━━━━━━━━━━━━━━\u001b[0m\u001b[37m\u001b[0m \u001b[1m0s\u001b[0m 6ms/step - accuracy: 0.5097 - loss: 0.6952 - val_accuracy: 0.5900 - val_loss: 0.6699\n",
      "Epoch 70/100\n",
      "\u001b[1m13/13\u001b[0m \u001b[32m━━━━━━━━━━━━━━━━━━━━\u001b[0m\u001b[37m\u001b[0m \u001b[1m0s\u001b[0m 6ms/step - accuracy: 0.5157 - loss: 0.6944 - val_accuracy: 0.5800 - val_loss: 0.6707\n",
      "Epoch 71/100\n",
      "\u001b[1m13/13\u001b[0m \u001b[32m━━━━━━━━━━━━━━━━━━━━\u001b[0m\u001b[37m\u001b[0m \u001b[1m0s\u001b[0m 6ms/step - accuracy: 0.5196 - loss: 0.6907 - val_accuracy: 0.5700 - val_loss: 0.6719\n",
      "Epoch 72/100\n",
      "\u001b[1m13/13\u001b[0m \u001b[32m━━━━━━━━━━━━━━━━━━━━\u001b[0m\u001b[37m\u001b[0m \u001b[1m0s\u001b[0m 6ms/step - accuracy: 0.5066 - loss: 0.6954 - val_accuracy: 0.5800 - val_loss: 0.6716\n",
      "Epoch 73/100\n",
      "\u001b[1m13/13\u001b[0m \u001b[32m━━━━━━━━━━━━━━━━━━━━\u001b[0m\u001b[37m\u001b[0m \u001b[1m0s\u001b[0m 7ms/step - accuracy: 0.4890 - loss: 0.6954 - val_accuracy: 0.6100 - val_loss: 0.6695\n",
      "Epoch 74/100\n",
      "\u001b[1m13/13\u001b[0m \u001b[32m━━━━━━━━━━━━━━━━━━━━\u001b[0m\u001b[37m\u001b[0m \u001b[1m0s\u001b[0m 7ms/step - accuracy: 0.4973 - loss: 0.6983 - val_accuracy: 0.5800 - val_loss: 0.6721\n",
      "Epoch 75/100\n",
      "\u001b[1m13/13\u001b[0m \u001b[32m━━━━━━━━━━━━━━━━━━━━\u001b[0m\u001b[37m\u001b[0m \u001b[1m0s\u001b[0m 6ms/step - accuracy: 0.5254 - loss: 0.6913 - val_accuracy: 0.5500 - val_loss: 0.6755\n",
      "Epoch 76/100\n",
      "\u001b[1m13/13\u001b[0m \u001b[32m━━━━━━━━━━━━━━━━━━━━\u001b[0m\u001b[37m\u001b[0m \u001b[1m0s\u001b[0m 6ms/step - accuracy: 0.5364 - loss: 0.6845 - val_accuracy: 0.5600 - val_loss: 0.6744\n",
      "Epoch 77/100\n",
      "\u001b[1m13/13\u001b[0m \u001b[32m━━━━━━━━━━━━━━━━━━━━\u001b[0m\u001b[37m\u001b[0m \u001b[1m0s\u001b[0m 6ms/step - accuracy: 0.5189 - loss: 0.6881 - val_accuracy: 0.6100 - val_loss: 0.6710\n",
      "Epoch 78/100\n",
      "\u001b[1m13/13\u001b[0m \u001b[32m━━━━━━━━━━━━━━━━━━━━\u001b[0m\u001b[37m\u001b[0m \u001b[1m0s\u001b[0m 6ms/step - accuracy: 0.5417 - loss: 0.6861 - val_accuracy: 0.5900 - val_loss: 0.6723\n",
      "Epoch 79/100\n",
      "\u001b[1m13/13\u001b[0m \u001b[32m━━━━━━━━━━━━━━━━━━━━\u001b[0m\u001b[37m\u001b[0m \u001b[1m0s\u001b[0m 6ms/step - accuracy: 0.5279 - loss: 0.6881 - val_accuracy: 0.5400 - val_loss: 0.6747\n",
      "Epoch 80/100\n",
      "\u001b[1m13/13\u001b[0m \u001b[32m━━━━━━━━━━━━━━━━━━━━\u001b[0m\u001b[37m\u001b[0m \u001b[1m0s\u001b[0m 6ms/step - accuracy: 0.5294 - loss: 0.6860 - val_accuracy: 0.5300 - val_loss: 0.6771\n",
      "Epoch 81/100\n",
      "\u001b[1m13/13\u001b[0m \u001b[32m━━━━━━━━━━━━━━━━━━━━\u001b[0m\u001b[37m\u001b[0m \u001b[1m0s\u001b[0m 6ms/step - accuracy: 0.5160 - loss: 0.6887 - val_accuracy: 0.5400 - val_loss: 0.6761\n",
      "Epoch 82/100\n",
      "\u001b[1m13/13\u001b[0m \u001b[32m━━━━━━━━━━━━━━━━━━━━\u001b[0m\u001b[37m\u001b[0m \u001b[1m0s\u001b[0m 6ms/step - accuracy: 0.4795 - loss: 0.6963 - val_accuracy: 0.5400 - val_loss: 0.6750\n",
      "Epoch 83/100\n",
      "\u001b[1m13/13\u001b[0m \u001b[32m━━━━━━━━━━━━━━━━━━━━\u001b[0m\u001b[37m\u001b[0m \u001b[1m0s\u001b[0m 6ms/step - accuracy: 0.5150 - loss: 0.6890 - val_accuracy: 0.5300 - val_loss: 0.6769\n",
      "Epoch 84/100\n",
      "\u001b[1m13/13\u001b[0m \u001b[32m━━━━━━━━━━━━━━━━━━━━\u001b[0m\u001b[37m\u001b[0m \u001b[1m0s\u001b[0m 7ms/step - accuracy: 0.5121 - loss: 0.6842 - val_accuracy: 0.5400 - val_loss: 0.6751\n",
      "Epoch 85/100\n",
      "\u001b[1m13/13\u001b[0m \u001b[32m━━━━━━━━━━━━━━━━━━━━\u001b[0m\u001b[37m\u001b[0m \u001b[1m0s\u001b[0m 6ms/step - accuracy: 0.5192 - loss: 0.6835 - val_accuracy: 0.5500 - val_loss: 0.6749\n",
      "Epoch 86/100\n",
      "\u001b[1m13/13\u001b[0m \u001b[32m━━━━━━━━━━━━━━━━━━━━\u001b[0m\u001b[37m\u001b[0m \u001b[1m0s\u001b[0m 6ms/step - accuracy: 0.5261 - loss: 0.6806 - val_accuracy: 0.5200 - val_loss: 0.6768\n",
      "Epoch 87/100\n",
      "\u001b[1m13/13\u001b[0m \u001b[32m━━━━━━━━━━━━━━━━━━━━\u001b[0m\u001b[37m\u001b[0m \u001b[1m0s\u001b[0m 7ms/step - accuracy: 0.5337 - loss: 0.6852 - val_accuracy: 0.5500 - val_loss: 0.6754\n",
      "Epoch 88/100\n",
      "\u001b[1m13/13\u001b[0m \u001b[32m━━━━━━━━━━━━━━━━━━━━\u001b[0m\u001b[37m\u001b[0m \u001b[1m0s\u001b[0m 8ms/step - accuracy: 0.5115 - loss: 0.6849 - val_accuracy: 0.5800 - val_loss: 0.6751\n",
      "Epoch 89/100\n",
      "\u001b[1m13/13\u001b[0m \u001b[32m━━━━━━━━━━━━━━━━━━━━\u001b[0m\u001b[37m\u001b[0m \u001b[1m0s\u001b[0m 7ms/step - accuracy: 0.5216 - loss: 0.6842 - val_accuracy: 0.5300 - val_loss: 0.6771\n",
      "Epoch 90/100\n",
      "\u001b[1m13/13\u001b[0m \u001b[32m━━━━━━━━━━━━━━━━━━━━\u001b[0m\u001b[37m\u001b[0m \u001b[1m0s\u001b[0m 7ms/step - accuracy: 0.5349 - loss: 0.6807 - val_accuracy: 0.5400 - val_loss: 0.6765\n",
      "Epoch 91/100\n",
      "\u001b[1m13/13\u001b[0m \u001b[32m━━━━━━━━━━━━━━━━━━━━\u001b[0m\u001b[37m\u001b[0m \u001b[1m0s\u001b[0m 7ms/step - accuracy: 0.5220 - loss: 0.6834 - val_accuracy: 0.5000 - val_loss: 0.6800\n",
      "Epoch 92/100\n",
      "\u001b[1m13/13\u001b[0m \u001b[32m━━━━━━━━━━━━━━━━━━━━\u001b[0m\u001b[37m\u001b[0m \u001b[1m0s\u001b[0m 6ms/step - accuracy: 0.5395 - loss: 0.6773 - val_accuracy: 0.5400 - val_loss: 0.6775\n",
      "Epoch 93/100\n",
      "\u001b[1m13/13\u001b[0m \u001b[32m━━━━━━━━━━━━━━━━━━━━\u001b[0m\u001b[37m\u001b[0m \u001b[1m0s\u001b[0m 6ms/step - accuracy: 0.5346 - loss: 0.6834 - val_accuracy: 0.5300 - val_loss: 0.6785\n",
      "Epoch 94/100\n",
      "\u001b[1m13/13\u001b[0m \u001b[32m━━━━━━━━━━━━━━━━━━━━\u001b[0m\u001b[37m\u001b[0m \u001b[1m0s\u001b[0m 6ms/step - accuracy: 0.5463 - loss: 0.6807 - val_accuracy: 0.5100 - val_loss: 0.6791\n",
      "Epoch 95/100\n",
      "\u001b[1m13/13\u001b[0m \u001b[32m━━━━━━━━━━━━━━━━━━━━\u001b[0m\u001b[37m\u001b[0m \u001b[1m0s\u001b[0m 6ms/step - accuracy: 0.5352 - loss: 0.6800 - val_accuracy: 0.5400 - val_loss: 0.6781\n",
      "Epoch 96/100\n",
      "\u001b[1m13/13\u001b[0m \u001b[32m━━━━━━━━━━━━━━━━━━━━\u001b[0m\u001b[37m\u001b[0m \u001b[1m0s\u001b[0m 6ms/step - accuracy: 0.5390 - loss: 0.6771 - val_accuracy: 0.4900 - val_loss: 0.6814\n",
      "Epoch 97/100\n",
      "\u001b[1m13/13\u001b[0m \u001b[32m━━━━━━━━━━━━━━━━━━━━\u001b[0m\u001b[37m\u001b[0m \u001b[1m0s\u001b[0m 6ms/step - accuracy: 0.5139 - loss: 0.6789 - val_accuracy: 0.5000 - val_loss: 0.6801\n",
      "Epoch 98/100\n",
      "\u001b[1m13/13\u001b[0m \u001b[32m━━━━━━━━━━━━━━━━━━━━\u001b[0m\u001b[37m\u001b[0m \u001b[1m0s\u001b[0m 6ms/step - accuracy: 0.5369 - loss: 0.6751 - val_accuracy: 0.4900 - val_loss: 0.6816\n",
      "Epoch 99/100\n",
      "\u001b[1m13/13\u001b[0m \u001b[32m━━━━━━━━━━━━━━━━━━━━\u001b[0m\u001b[37m\u001b[0m \u001b[1m0s\u001b[0m 6ms/step - accuracy: 0.5472 - loss: 0.6696 - val_accuracy: 0.5000 - val_loss: 0.6814\n",
      "Epoch 100/100\n",
      "\u001b[1m13/13\u001b[0m \u001b[32m━━━━━━━━━━━━━━━━━━━━\u001b[0m\u001b[37m\u001b[0m \u001b[1m0s\u001b[0m 6ms/step - accuracy: 0.5618 - loss: 0.6719 - val_accuracy: 0.5000 - val_loss: 0.6814\n"
     ]
    }
   ],
   "source": [
    "history2=model2.fit(X,Y,epochs=100,validation_split=0.2)"
   ]
  },
  {
   "cell_type": "code",
   "execution_count": null,
   "id": "4470120c",
   "metadata": {
    "papermill": {
     "duration": 0.028053,
     "end_time": "2025-08-21T20:13:29.975397",
     "exception": false,
     "start_time": "2025-08-21T20:13:29.947344",
     "status": "completed"
    },
    "tags": []
   },
   "outputs": [],
   "source": []
  }
 ],
 "metadata": {
  "kaggle": {
   "accelerator": "gpu",
   "dataSources": [
    {
     "databundleVersionId": 9318919,
     "datasetId": 5520336,
     "sourceId": 9140354,
     "sourceType": "datasetVersion"
    }
   ],
   "dockerImageVersionId": 31089,
   "isGpuEnabled": true,
   "isInternetEnabled": true,
   "language": "python",
   "sourceType": "notebook"
  },
  "kernelspec": {
   "display_name": "Python 3",
   "language": "python",
   "name": "python3"
  },
  "language_info": {
   "codemirror_mode": {
    "name": "ipython",
    "version": 3
   },
   "file_extension": ".py",
   "mimetype": "text/x-python",
   "name": "python",
   "nbconvert_exporter": "python",
   "pygments_lexer": "ipython3",
   "version": "3.11.13"
  },
  "papermill": {
   "default_parameters": {},
   "duration": 54.21609,
   "end_time": "2025-08-21T20:13:33.167811",
   "environment_variables": {},
   "exception": null,
   "input_path": "__notebook__.ipynb",
   "output_path": "__notebook__.ipynb",
   "parameters": {},
   "start_time": "2025-08-21T20:12:38.951721",
   "version": "2.6.0"
  }
 },
 "nbformat": 4,
 "nbformat_minor": 5
}
